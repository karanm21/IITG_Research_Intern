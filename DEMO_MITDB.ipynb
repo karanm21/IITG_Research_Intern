{
  "nbformat": 4,
  "nbformat_minor": 0,
  "metadata": {
    "colab": {
      "provenance": [],
      "authorship_tag": "ABX9TyPVyTfP4fRh1RFcPYZ2+vub",
      "include_colab_link": true
    },
    "kernelspec": {
      "name": "python3",
      "display_name": "Python 3"
    },
    "language_info": {
      "name": "python"
    },
    "accelerator": "GPU",
    "gpuClass": "standard"
  },
  "cells": [
    {
      "cell_type": "markdown",
      "metadata": {
        "id": "view-in-github",
        "colab_type": "text"
      },
      "source": [
        "<a href=\"https://colab.research.google.com/github/karanm21/IITG_Research_Intern/blob/main/DEMO_MITDB.ipynb\" target=\"_parent\"><img src=\"https://colab.research.google.com/assets/colab-badge.svg\" alt=\"Open In Colab\"/></a>"
      ]
    },
    {
      "cell_type": "code",
      "source": [
        "pip install wfdb"
      ],
      "metadata": {
        "id": "PO5-UZ61nV54"
      },
      "execution_count": null,
      "outputs": []
    },
    {
      "cell_type": "code",
      "source": [
        "from IPython.display import display\n",
        "import matplotlib.pyplot as plt\n",
        "%matplotlib inline\n",
        "import numpy as np\n",
        "import os\n",
        "import shutil\n",
        "import posixpath\n",
        "import pandas as pd\n",
        "import wfdb"
      ],
      "metadata": {
        "id": "koYeYQgonZOT"
      },
      "execution_count": null,
      "outputs": []
    },
    {
      "cell_type": "code",
      "source": [
        "import os\n",
        "wfdb.dl_database('mitdb', os.path.join(os.getcwd(), 'mitdb'))"
      ],
      "metadata": {
        "id": "RXqqwbHGn2MI",
        "colab": {
          "base_uri": "https://localhost:8080/"
        },
        "outputId": "9c335a10-8613-485b-b1be-b4f1240682d9"
      },
      "execution_count": null,
      "outputs": [
        {
          "output_type": "stream",
          "name": "stdout",
          "text": [
            "Generating record list for: 100\n",
            "Generating record list for: 101\n",
            "Generating record list for: 102\n",
            "Generating record list for: 103\n",
            "Generating record list for: 104\n",
            "Generating record list for: 105\n",
            "Generating record list for: 106\n",
            "Generating record list for: 107\n",
            "Generating record list for: 108\n",
            "Generating record list for: 109\n",
            "Generating record list for: 111\n",
            "Generating record list for: 112\n",
            "Generating record list for: 113\n",
            "Generating record list for: 114\n",
            "Generating record list for: 115\n",
            "Generating record list for: 116\n",
            "Generating record list for: 117\n",
            "Generating record list for: 118\n",
            "Generating record list for: 119\n",
            "Generating record list for: 121\n",
            "Generating record list for: 122\n",
            "Generating record list for: 123\n",
            "Generating record list for: 124\n",
            "Generating record list for: 200\n",
            "Generating record list for: 201\n",
            "Generating record list for: 202\n",
            "Generating record list for: 203\n",
            "Generating record list for: 205\n",
            "Generating record list for: 207\n",
            "Generating record list for: 208\n",
            "Generating record list for: 209\n",
            "Generating record list for: 210\n",
            "Generating record list for: 212\n",
            "Generating record list for: 213\n",
            "Generating record list for: 214\n",
            "Generating record list for: 215\n",
            "Generating record list for: 217\n",
            "Generating record list for: 219\n",
            "Generating record list for: 220\n",
            "Generating record list for: 221\n",
            "Generating record list for: 222\n",
            "Generating record list for: 223\n",
            "Generating record list for: 228\n",
            "Generating record list for: 230\n",
            "Generating record list for: 231\n",
            "Generating record list for: 232\n",
            "Generating record list for: 233\n",
            "Generating record list for: 234\n",
            "Generating list of all files for: 100\n",
            "Generating list of all files for: 101\n",
            "Generating list of all files for: 102\n",
            "Generating list of all files for: 103\n",
            "Generating list of all files for: 104\n",
            "Generating list of all files for: 105\n",
            "Generating list of all files for: 106\n",
            "Generating list of all files for: 107\n",
            "Generating list of all files for: 108\n",
            "Generating list of all files for: 109\n",
            "Generating list of all files for: 111\n",
            "Generating list of all files for: 112\n",
            "Generating list of all files for: 113\n",
            "Generating list of all files for: 114\n",
            "Generating list of all files for: 115\n",
            "Generating list of all files for: 116\n",
            "Generating list of all files for: 117\n",
            "Generating list of all files for: 118\n",
            "Generating list of all files for: 119\n",
            "Generating list of all files for: 121\n",
            "Generating list of all files for: 122\n",
            "Generating list of all files for: 123\n",
            "Generating list of all files for: 124\n",
            "Generating list of all files for: 200\n",
            "Generating list of all files for: 201\n",
            "Generating list of all files for: 202\n",
            "Generating list of all files for: 203\n",
            "Generating list of all files for: 205\n",
            "Generating list of all files for: 207\n",
            "Generating list of all files for: 208\n",
            "Generating list of all files for: 209\n",
            "Generating list of all files for: 210\n",
            "Generating list of all files for: 212\n",
            "Generating list of all files for: 213\n",
            "Generating list of all files for: 214\n",
            "Generating list of all files for: 215\n",
            "Generating list of all files for: 217\n",
            "Generating list of all files for: 219\n",
            "Generating list of all files for: 220\n",
            "Generating list of all files for: 221\n",
            "Generating list of all files for: 222\n",
            "Generating list of all files for: 223\n",
            "Generating list of all files for: 228\n",
            "Generating list of all files for: 230\n",
            "Generating list of all files for: 231\n",
            "Generating list of all files for: 232\n",
            "Generating list of all files for: 233\n",
            "Generating list of all files for: 234\n",
            "Created local base download directory: /content/mitdb\n",
            "Downloading files...\n",
            "Finished downloading files\n"
          ]
        }
      ]
    },
    {
      "cell_type": "code",
      "source": [
        "record = wfdb.rdrecord('mitdb/105')\n",
        "wfdb.plot_wfdb(record=record, title='Record 105')\n",
        "display(record.__dict__)"
      ],
      "metadata": {
        "colab": {
          "base_uri": "https://localhost:8080/",
          "height": 920
        },
        "id": "Pwm_o9CdntDd",
        "outputId": "80385854-6d38-4cea-d5f5-cc8fa7c3aa6b"
      },
      "execution_count": null,
      "outputs": [
        {
          "output_type": "display_data",
          "data": {
            "text/plain": [
              "<Figure size 432x288 with 2 Axes>"
            ],
            "image/png": "[encoded data removed]"
          },
          "metadata": {
            "needs_background": "light"
          }
        },
        {
          "output_type": "display_data",
          "data": {
            "text/plain": [
              "{'record_name': '105',\n",
              " 'n_sig': 2,\n",
              " 'fs': 360,\n",
              " 'counter_freq': None,\n",
              " 'base_counter': None,\n",
              " 'sig_len': 650000,\n",
              " 'base_time': None,\n",
              " 'base_date': None,\n",
              " 'comments': ['73 F 1624 1629 x1',\n",
              "  'Digoxin, Nitropaste, Pronestyl',\n",
              "  'The PVCs are uniform.  The predominant feature of this tape is',\n",
              "  'high-grade noise and artifact.'],\n",
              " 'sig_name': ['MLII', 'V1'],\n",
              " 'p_signal': array([[-0.445,  0.26 ],\n",
              "        [-0.445,  0.26 ],\n",
              "        [-0.445,  0.26 ],\n",
              "        ...,\n",
              "        [ 0.59 , -0.37 ],\n",
              "        [ 0.76 , -0.38 ],\n",
              "        [ 1.28 ,  0.   ]]),\n",
              " 'd_signal': None,\n",
              " 'e_p_signal': None,\n",
              " 'e_d_signal': None,\n",
              " 'file_name': ['105.dat', '105.dat'],\n",
              " 'fmt': ['212', '212'],\n",
              " 'samps_per_frame': [1, 1],\n",
              " 'skew': [None, None],\n",
              " 'byte_offset': [None, None],\n",
              " 'adc_gain': [200.0, 200.0],\n",
              " 'baseline': [1024, 1024],\n",
              " 'units': ['mV', 'mV'],\n",
              " 'adc_res': [11, 11],\n",
              " 'adc_zero': [1024, 1024],\n",
              " 'init_value': [935, 1076],\n",
              " 'checksum': [-24679, -15565],\n",
              " 'block_size': [0, 0]}"
            ]
          },
          "metadata": {}
        }
      ]
    },
    {
      "cell_type": "code",
      "source": [
        "signals, fields = wfdb.rdsamp('mitdb/105', sampfrom=100, sampto=15000)\n",
        "display(signals)\n",
        "display(fields)"
      ],
      "metadata": {
        "colab": {
          "base_uri": "https://localhost:8080/",
          "height": 329
        },
        "id": "fM7qEa8-n0Vq",
        "outputId": "09be7859-b6f1-49f7-8bec-306401129808"
      },
      "execution_count": null,
      "outputs": [
        {
          "output_type": "display_data",
          "data": {
            "text/plain": [
              "array([[-0.345,  0.13 ],\n",
              "       [-0.33 ,  0.15 ],\n",
              "       [-0.335,  0.155],\n",
              "       ...,\n",
              "       [-0.07 , -0.02 ],\n",
              "       [-0.06 , -0.02 ],\n",
              "       [-0.06 , -0.02 ]])"
            ]
          },
          "metadata": {}
        },
        {
          "output_type": "display_data",
          "data": {
            "text/plain": [
              "{'fs': 360,\n",
              " 'sig_len': 14900,\n",
              " 'n_sig': 2,\n",
              " 'base_date': None,\n",
              " 'base_time': None,\n",
              " 'units': ['mV', 'mV'],\n",
              " 'sig_name': ['MLII', 'V1'],\n",
              " 'comments': ['73 F 1624 1629 x1',\n",
              "  'Digoxin, Nitropaste, Pronestyl',\n",
              "  'The PVCs are uniform.  The predominant feature of this tape is',\n",
              "  'high-grade noise and artifact.']}"
            ]
          },
          "metadata": {}
        }
      ]
    },
    {
      "cell_type": "code",
      "source": [
        "# Demo 3 - Read a WFDB header file only (without the signals)\n",
        "record = wfdb.rdheader('mitdb/105')\n",
        "display(record.__dict__)"
      ],
      "metadata": {
        "colab": {
          "base_uri": "https://localhost:8080/",
          "height": 538
        },
        "id": "glbZGPKqqA-R",
        "outputId": "cb6724f4-93e9-4159-e98a-39747a37b354"
      },
      "execution_count": null,
      "outputs": [
        {
          "output_type": "display_data",
          "data": {
            "text/plain": [
              "{'record_name': '105',\n",
              " 'n_sig': 2,\n",
              " 'fs': 360,\n",
              " 'counter_freq': None,\n",
              " 'base_counter': None,\n",
              " 'sig_len': 650000,\n",
              " 'base_time': None,\n",
              " 'base_date': None,\n",
              " 'comments': ['73 F 1624 1629 x1',\n",
              "  'Digoxin, Nitropaste, Pronestyl',\n",
              "  'The PVCs are uniform.  The predominant feature of this tape is',\n",
              "  'high-grade noise and artifact.'],\n",
              " 'sig_name': ['MLII', 'V1'],\n",
              " 'p_signal': None,\n",
              " 'd_signal': None,\n",
              " 'e_p_signal': None,\n",
              " 'e_d_signal': None,\n",
              " 'file_name': ['105.dat', '105.dat'],\n",
              " 'fmt': ['212', '212'],\n",
              " 'samps_per_frame': [1, 1],\n",
              " 'skew': [None, None],\n",
              " 'byte_offset': [None, None],\n",
              " 'adc_gain': [200.0, 200.0],\n",
              " 'baseline': [1024, 1024],\n",
              " 'units': ['mV', 'mV'],\n",
              " 'adc_res': [11, 11],\n",
              " 'adc_zero': [1024, 1024],\n",
              " 'init_value': [935, 1076],\n",
              " 'checksum': [-24679, -15565],\n",
              " 'block_size': [0, 0]}"
            ]
          },
          "metadata": {}
        }
      ]
    },
    {
      "cell_type": "code",
      "source": [
        "annotation = wfdb.rdann('mitdb/105', 'atr', sampfrom=100000, sampto=110000)\n",
        "annotation.fs = 360\n",
        "wfdb.plot_wfdb(annotation=annotation, time_units='minutes')"
      ],
      "metadata": {
        "colab": {
          "base_uri": "https://localhost:8080/",
          "height": 295
        },
        "id": "zhLL6lGXtbCd",
        "outputId": "d0ec97e6-1342-4713-d913-c6b321c33afe"
      },
      "execution_count": null,
      "outputs": [
        {
          "output_type": "display_data",
          "data": {
            "text/plain": [
              "<Figure size 432x288 with 1 Axes>"
            ],
            "image/png": "[encoded data removed]"
          },
          "metadata": {
            "needs_background": "light"
          }
        }
      ]
    },
    {
      "cell_type": "code",
      "source": [
        "# Demo 5 - Read a WFDB record and annotation. Plot all channels, and the annotation on top of channel 0.\n",
        "record = wfdb.rdrecord('mitdb/105', sampto = 15000)\n",
        "annotation = wfdb.rdann('mitdb/105', 'atr', sampto = 15000)\n",
        "\n",
        "wfdb.plot_wfdb(record=record, annotation=annotation, title='Record 105 from MIT-BIH Arrhythmia Database', time_units='seconds')"
      ],
      "metadata": {
        "colab": {
          "base_uri": "https://localhost:8080/",
          "height": 295
        },
        "id": "QZoiCYQWto6t",
        "outputId": "bc379969-7a6c-4f5c-b529-5bce197eb792"
      },
      "execution_count": null,
      "outputs": [
        {
          "output_type": "display_data",
          "data": {
            "text/plain": [
              "<Figure size 432x288 with 2 Axes>"
            ],
            "image/png": "[encoded data removed]"
          },
          "metadata": {
            "needs_background": "light"
          }
        }
      ]
    },
    {
      "cell_type": "code",
      "source": [
        "from wfdb import processing\n",
        "import numpy as np\n",
        "import pandas as pd\n",
        "import pywt\n",
        "import sys\n",
        "from scipy import signal\n",
        "import matplotlib.pyplot as plt\n",
        "plt.rcParams['figure.figsize'] = [30, 15]\n",
        "from sklearn import svm\n",
        "# from sklearn_rvm import EMRVC\n",
        "# from skrvm import RVC\n",
        "from scipy.signal import find_peaks\n",
        "from scipy.signal import decimate\n",
        "from sklearn.decomposition import PCA"
      ],
      "metadata": {
        "id": "vBtog4y1uLQl"
      },
      "execution_count": null,
      "outputs": []
    },
    {
      "cell_type": "code",
      "source": [
        "## Doubt:\n",
        "\n",
        "ann = wfdb.rdann('mitdb/105', 'atr')\n",
        "samples = ann.sample\n",
        "print(samples[1:20])\n",
        "samples[1]"
      ],
      "metadata": {
        "colab": {
          "base_uri": "https://localhost:8080/"
        },
        "id": "nxqMdJ1cy79o",
        "outputId": "e1e03df6-74c0-4a20-efdc-d7e5a937bc70"
      },
      "execution_count": null,
      "outputs": [
        {
          "output_type": "stream",
          "name": "stdout",
          "text": [
            "[ 197  459  708  965 1222 1479 1741 2015 2287 2550 2803 3052 3303 3563\n",
            " 3835 4102 4371 4635 4901]\n"
          ]
        },
        {
          "output_type": "execute_result",
          "data": {
            "text/plain": [
              "197"
            ]
          },
          "metadata": {},
          "execution_count": 10
        }
      ]
    },
    {
      "cell_type": "code",
      "source": [
        "def startFunc(signalString):\n",
        "    signals, fields = wfdb.rdsamp(signalString)\n",
        "    signals = signals[:,0]\n",
        "    signals = np.array(signals, dtype=[('O', float)]).astype(float)\n",
        "    signals = (signals - np.mean(signals))/(np.std(signals))\n",
        "    ann = wfdb.rdann(signalString, 'atr')\n",
        "    samples = ann.sample\n",
        "    symbols = ann.aux_note\n",
        "    symbols = list(map(lambda x: x[1:-1], symbols))\n",
        "\n",
        "    points = []\n",
        "    pointSym = []\n",
        "\n",
        "    for i in range(len(samples)):\n",
        "        if(symbols[i] == 'VFL' or symbols[i] == 'VFIB' or symbols[i] == 'VF' or symbols[i] == 'VT'):\n",
        "            points.append(samples[i])\n",
        "            pointSym.append(symbols[i])\n",
        "\n",
        "    return points, pointSym, signals, samples"
      ],
      "metadata": {
        "id": "f8aVmQ2jvv0M"
      },
      "execution_count": null,
      "outputs": []
    },
    {
      "cell_type": "code",
      "source": [
        "startFunc('mitdb/200')"
      ],
      "metadata": {
        "colab": {
          "base_uri": "https://localhost:8080/"
        },
        "id": "OUqqHxiyw67e",
        "outputId": "51ba18df-4455-442a-aee7-04312fb791b0"
      },
      "execution_count": null,
      "outputs": [
        {
          "output_type": "execute_result",
          "data": {
            "text/plain": [
              "([39210, 226766, 340338, 385419, 396038, 408085, 537912],\n",
              " ['VT', 'VT', 'VT', 'VT', 'VT', 'VT', 'VT'],\n",
              " array([1.19800971, 1.19800971, 1.19800971, ..., 0.31671207, 0.31671207,\n",
              "        0.27725098]),\n",
              " array([    67,    225,    487, ..., 649408, 649664, 649927]))"
            ]
          },
          "metadata": {},
          "execution_count": 12
        }
      ]
    },
    {
      "cell_type": "code",
      "source": [
        "def startFuncMIT(signalString):\n",
        "\n",
        "    '''\n",
        "    This function scans the record using the WFDB package. It generates the signal voltages, sample points of annotated R peaks,\n",
        "    corresponding symbols and resamples the signal from 360 to 250Hz. The points which correspond to a Ventricular Arrhythmia\n",
        "    type abnormality\n",
        "\n",
        "    '''\n",
        "    signals, fields = wfdb.rdsamp(signalString)\n",
        "    signals = signals[:,0]\n",
        "    signals = np.array(signals, dtype=[('O', float)]).astype(float)\n",
        "    signals = (signals - np.mean(signals))/(np.std(signals))\n",
        "    ann = wfdb.rdann(signalString, 'atr')\n",
        "\n",
        "    signals, ann = wfdb.processing.resample_singlechan(signals, ann, 360, 250)\n",
        "    samples = ann.sample\n",
        "    symbols = ann.symbol\n",
        "\n",
        "    points = []\n",
        "    pointSym = []\n",
        "\n",
        "    for i in range(len(samples)):\n",
        "        if(symbols[i] == 'V' or symbols[i] == 'F' or symbols[i] == 'E' or symbols[i] == '!'):\n",
        "            points.append(samples[i])\n",
        "            pointSym.append(symbols[i])\n",
        "\n",
        "    return points, pointSym, signals, samples"
      ],
      "metadata": {
        "id": "4uxIV1dtw_nc"
      },
      "execution_count": null,
      "outputs": []
    },
    {
      "cell_type": "code",
      "source": [
        "startFuncMIT('mitdb/105')"
      ],
      "metadata": {
        "colab": {
          "base_uri": "https://localhost:8080/"
        },
        "id": "z_YEbQdKyYcm",
        "outputId": "46a2c9a9-49dd-4e4b-9d9a-2c4edffa2c23"
      },
      "execution_count": null,
      "outputs": [
        {
          "output_type": "execute_result",
          "data": {
            "text/plain": [
              "([3861,\n",
              "  5501,\n",
              "  8767,\n",
              "  14723,\n",
              "  17251,\n",
              "  25550,\n",
              "  31779,\n",
              "  39801,\n",
              "  46435,\n",
              "  50336,\n",
              "  51596,\n",
              "  70912,\n",
              "  75018,\n",
              "  82182,\n",
              "  87577,\n",
              "  102047,\n",
              "  108891,\n",
              "  113721,\n",
              "  115170,\n",
              "  120786,\n",
              "  137727,\n",
              "  160597,\n",
              "  165337,\n",
              "  168041,\n",
              "  176683,\n",
              "  187169,\n",
              "  205930,\n",
              "  216376,\n",
              "  257898,\n",
              "  296579,\n",
              "  301659,\n",
              "  317133,\n",
              "  321968,\n",
              "  338986,\n",
              "  340454,\n",
              "  365252,\n",
              "  394892,\n",
              "  402638,\n",
              "  422818,\n",
              "  428834,\n",
              "  429954],\n",
              " ['V',\n",
              "  'V',\n",
              "  'V',\n",
              "  'V',\n",
              "  'V',\n",
              "  'V',\n",
              "  'V',\n",
              "  'V',\n",
              "  'V',\n",
              "  'V',\n",
              "  'V',\n",
              "  'V',\n",
              "  'V',\n",
              "  'V',\n",
              "  'V',\n",
              "  'V',\n",
              "  'V',\n",
              "  'V',\n",
              "  'V',\n",
              "  'V',\n",
              "  'V',\n",
              "  'V',\n",
              "  'V',\n",
              "  'V',\n",
              "  'V',\n",
              "  'V',\n",
              "  'V',\n",
              "  'V',\n",
              "  'V',\n",
              "  'V',\n",
              "  'V',\n",
              "  'V',\n",
              "  'V',\n",
              "  'V',\n",
              "  'V',\n",
              "  'V',\n",
              "  'V',\n",
              "  'V',\n",
              "  'V',\n",
              "  'V',\n",
              "  'V'],\n",
              " array([ 0.23307287, -0.81509589, -0.38039838, ...,  1.56223502,\n",
              "         1.83906107,  3.3654597 ]),\n",
              " array([    46,    136,    318, ..., 450847, 451021, 451208]))"
            ]
          },
          "metadata": {},
          "execution_count": 14
        }
      ]
    },
    {
      "cell_type": "code",
      "source": [
        "def getFeatures(Ppos,Tpos,A,B,rpeaks,start,end):\n",
        "\n",
        "    '''\n",
        "    From the boundary points generated, this function extracts the 8 intermmediate features from which the final\n",
        "    24 element feature set will be derived.\n",
        "\n",
        "    '''\n",
        "    RR = np.array([])\n",
        "    PQ = np.array([])\n",
        "    QP = np.array([])\n",
        "    RT = np.array([])\n",
        "    PS = np.array([])\n",
        "    QRS = np.array([])\n",
        "    QT = np.array([])\n",
        "    ICEB = np.array([])\n",
        "    QTC = np.array([])\n",
        "\n",
        "    ts = 1/250\n",
        "\n",
        "    for i in range(len(rpeaks)):\n",
        "        index = rpeaks[i]\n",
        "        if(index > 0 and index >= start and index <= end):\n",
        "            RR = np.append(RR, (rpeaks[i] - rpeaks[i - 1])*ts)\n",
        "            PQ = np.append(PQ, (A[i - 1] - Ppos[i - 1])*ts)\n",
        "            QP = np.append(QP, (Ppos[i] - A[i - 1])*ts)\n",
        "            RT = np.append(RT, (Tpos[i - 1] - rpeaks[i - 1])*ts)\n",
        "            QT = np.append(QT, (Tpos[i - 1] - A[i - 1])*ts)\n",
        "            PS = np.append(PS, (B[i - 1] - Ppos[i - 1])*ts)\n",
        "            QRS = np.append(QRS, (B[i] - A[i])*ts)\n",
        "\n",
        "    for i in range(len(QT)):\n",
        "        ICEB = np.append(ICEB, QT[i]/QRS[i])\n",
        "        QTC = np.append(QTC, QT[i]/RR[i])\n",
        "\n",
        "    return RR,PQ,QP,RT,PS,QRS,ICEB,QTC"
      ],
      "metadata": {
        "id": "nCjVLoROytEa"
      },
      "execution_count": null,
      "outputs": []
    },
    {
      "cell_type": "code",
      "source": [
        "pip install neurokit2"
      ],
      "metadata": {
        "id": "2TUeM3k9pUwE"
      },
      "execution_count": null,
      "outputs": []
    },
    {
      "cell_type": "code",
      "source": [
        "pip install biosppy"
      ],
      "metadata": {
        "id": "-ZQYxng2pmNA"
      },
      "execution_count": null,
      "outputs": []
    },
    {
      "cell_type": "code",
      "source": [
        "import neurokit2 as nk\n",
        "import biosppy\n",
        "from statistics import mean"
      ],
      "metadata": {
        "id": "e1TOG4QBoxY7"
      },
      "execution_count": null,
      "outputs": []
    },
    {
      "cell_type": "code",
      "source": [
        "def generateIntervals2(signalString,param,fs,dbType, split):\n",
        "\n",
        "    '''\n",
        "    This function extracts the required features firstly via Neurokit package and then extracts the final set of 24 features.\n",
        "    '''\n",
        "    points, pointSym, signals, samples = startFuncMIT(signalString)\n",
        "    cleaned = nk.ecg_clean(signals, sampling_rate = 250)\n",
        "    rdet, = biosppy.signals.ecg.hamilton_segmenter(signal = cleaned, sampling_rate = 250)\n",
        "    rdet, = biosppy.signals.ecg.correct_rpeaks(signal = cleaned, rpeaks = rdet, sampling_rate = 250, tol = 0.05)\n",
        "\n",
        "    rdet = np.delete(rdet, -1)       # remove the last R-peak to avoid the invalid detection for S and T peaks.\n",
        "    rdet = np.delete(rdet, 0)        # remove the first R-peak to avoid the invalid detection for P and Q peaks.\n",
        "    rpeaks = {'ECG_R_Peaks': rdet}\n",
        "    cleaned_base = nk.signal_detrend(cleaned, order=0)\n",
        "    signals, waves = nk.ecg_delineate(cleaned_base, rpeaks, sampling_rate = 250, method = \"dwt\")\n",
        "\n",
        "    Toff = waves['ECG_T_Offsets']\n",
        "    Pon = waves['ECG_P_Onsets']\n",
        "    R = rdet\n",
        "    Q = waves['ECG_Q_Peaks']\n",
        "    S = waves['ECG_S_Peaks']\n",
        "\n",
        "    nanindices = []\n",
        "    Ppos = []\n",
        "    Tpos = []\n",
        "    A = []\n",
        "    B = []\n",
        "    rpeaks = []\n",
        "\n",
        "    for some2 in range(len(R)):\n",
        "        if(np.isnan(Toff[some2]) or np.isnan(Pon[some2]) or np.isnan(Q[some2]) or np.isnan(S[some2]) or np.isnan(R[some2])):\n",
        "            nanindices.append(some2)\n",
        "        else:\n",
        "            rpeaks.append(R[some2])\n",
        "            Ppos.append(Pon[some2])\n",
        "            Tpos.append(Toff[some2])\n",
        "            A.append(Q[some2])\n",
        "            B.append(S[some2])\n",
        "\n",
        "    print(len(rpeaks))\n",
        "    print(len(Tpos))\n",
        "    print(len(Ppos))\n",
        "    print(len(A))\n",
        "    print(len(B))\n",
        "\n",
        "    offset = param*60*fs\n",
        "    normalsets = []\n",
        "    arrysets = []\n",
        "    RRmean = np.array([])\n",
        "    RRstd = np.array([])\n",
        "    RRvar = np.array([])\n",
        "\n",
        "    QPmean = np.array([])\n",
        "    QPstd = np.array([])\n",
        "    QPvar = np.array([])\n",
        "\n",
        "    PQmean = np.array([])\n",
        "    PQstd = np.array([])\n",
        "    PQvar = np.array([])\n",
        "\n",
        "    RTmean = np.array([])\n",
        "    RTstd = np.array([])\n",
        "    RTvar = np.array([])\n",
        "\n",
        "    PSmean = np.array([])\n",
        "    PSstd = np.array([])\n",
        "    PSvar = np.array([])\n",
        "\n",
        "    QRSmean = np.array([])\n",
        "    QRSstd = np.array([])\n",
        "    QRSvar = np.array([])\n",
        "\n",
        "    ICEBmean = np.array([])\n",
        "    ICEBstd = np.array([])\n",
        "    ICEBvar = np.array([])\n",
        "\n",
        "    QTCmean = np.array([])\n",
        "    QTCstd = np.array([])\n",
        "    QTCvar = np.array([])\n",
        "\n",
        "    y_train = np.array([])\n",
        "\n",
        "    if(len(points) == 0):\n",
        "        a = 0\n",
        "        b = len(signals)\n",
        "        d = split*fs\n",
        "\n",
        "        for i in range(a,b,d):\n",
        "            temp = []\n",
        "            if((i + d) < b):\n",
        "                RR,PQ,QP,RT,PS,QRS,ICEB,QTC = getFeatures(Ppos,Tpos,A,B,rpeaks,i,i + d)\n",
        "                RRmean = np.append(RRmean, np.mean(RR))\n",
        "                PQmean = np.append(PQmean, np.mean(PQ))\n",
        "                QPmean = np.append(QPmean, np.mean(QP))\n",
        "                RTmean = np.append(RTmean, np.mean(RT))\n",
        "                PSmean = np.append(PSmean, np.mean(PS))\n",
        "                QRSmean = np.append(QRSmean, np.mean(QRS))\n",
        "                ICEBmean = np.append(ICEBmean, np.mean(ICEB))\n",
        "                QTCmean = np.append(QTCmean, np.mean(QTC))\n",
        "\n",
        "                RRvar = np.append(RRvar, np.var(RR))\n",
        "                PQvar = np.append(PQvar, np.var(PQ))\n",
        "                QPvar = np.append(QPvar, np.var(QP))\n",
        "                RTvar = np.append(RTvar, np.var(RT))\n",
        "                PSvar = np.append(PSvar, np.var(PS))\n",
        "                QRSvar = np.append(QRSvar, np.var(QRS))\n",
        "                ICEBvar = np.append(ICEBvar, np.var(ICEB))\n",
        "                QTCvar = np.append(QTCvar, np.var(QTC))\n",
        "\n",
        "                RRstd = np.append(RRstd, np.std(RR))\n",
        "                PQstd = np.append(PQstd, np.std(PQ))\n",
        "                QPstd = np.append(QPstd, np.std(QP))\n",
        "                RTstd = np.append(RTstd, np.std(RT))\n",
        "                PSstd = np.append(PSstd, np.std(PS))\n",
        "                QRSstd = np.append(QRSstd, np.std(QRS))\n",
        "                ICEBstd = np.append(ICEBstd, np.std(ICEB))\n",
        "                QTCstd = np.append(QTCstd, np.std(QTC))\n",
        "\n",
        "                y_train = np.append(y_train, 0 )\n",
        "\n",
        "\n",
        "    for i in range(len(points)):\n",
        "        index = points[i]\n",
        "        midindex = index - offset\n",
        "        lastindex = midindex - offset\n",
        "\n",
        "        if(i == 0 and midindex < 0):\n",
        "            midindex = 0\n",
        "            lastindex = 0\n",
        "\n",
        "        elif(i == 0 and midindex > 0 and lastindex < 0):\n",
        "            lastindex = 0\n",
        "\n",
        "        elif(i > 0 and midindex < points[i - 1]):\n",
        "            midindex = points[i - 1] + 1\n",
        "            lastindex = points[i - 1]\n",
        "\n",
        "        elif(i > 0 and lastindex < points[i - 1]):\n",
        "            lastindex = points[i - 1] + 1\n",
        "\n",
        "\n",
        "        a = lastindex + 1\n",
        "        b = midindex\n",
        "        c = index\n",
        "        d = split*fs\n",
        "\n",
        "        for i in range(a,b,d):\n",
        "            temp = []\n",
        "            if((i + d) < b):\n",
        "                RR,PQ,QP,RT,PS,QRS,ICEB,QTC = getFeatures(Ppos,Tpos,A,B,rpeaks,i,i + d)\n",
        "                RRmean = np.append(RRmean, np.mean(RR))\n",
        "                PQmean = np.append(PQmean, np.mean(PQ))\n",
        "                QPmean = np.append(QPmean, np.mean(QP))\n",
        "                RTmean = np.append(RTmean, np.mean(RT))\n",
        "                PSmean = np.append(PSmean, np.mean(PS))\n",
        "                QRSmean = np.append(QRSmean, np.mean(QRS))\n",
        "                ICEBmean = np.append(ICEBmean, np.mean(ICEB))\n",
        "                QTCmean = np.append(QTCmean, np.mean(QTC))\n",
        "\n",
        "                RRvar = np.append(RRvar, np.var(RR))\n",
        "                PQvar = np.append(PQvar, np.var(PQ))\n",
        "                QPvar = np.append(QPvar, np.var(QP))\n",
        "                RTvar = np.append(RTvar, np.var(RT))\n",
        "                PSvar = np.append(PSvar, np.var(PS))\n",
        "                QRSvar = np.append(QRSvar, np.var(QRS))\n",
        "                ICEBvar = np.append(ICEBvar, np.var(ICEB))\n",
        "                QTCvar = np.append(QTCvar, np.var(QTC))\n",
        "\n",
        "                RRstd = np.append(RRstd, np.std(RR))\n",
        "                PQstd = np.append(PQstd, np.std(PQ))\n",
        "                QPstd = np.append(QPstd, np.std(QP))\n",
        "                RTstd = np.append(RTstd, np.std(RT))\n",
        "                PSstd = np.append(PSstd, np.std(PS))\n",
        "                QRSstd = np.append(QRSstd, np.std(QRS))\n",
        "                ICEBstd = np.append(ICEBstd, np.std(ICEB))\n",
        "                QTCstd = np.append(QTCstd, np.std(QTC))\n",
        "\n",
        "                y_train = np.append(y_train, 0)\n",
        "\n",
        "        for i in range(b,c,d):\n",
        "            temp = []\n",
        "            if((i + d) < c):\n",
        "                RR,PQ,QP,RT,PS,QRS,ICEB,QTC = getFeatures(Ppos,Tpos,A,B,rpeaks,i,i + d)\n",
        "                RRmean = np.append(RRmean, np.mean(RR))\n",
        "                PQmean = np.append(PQmean, np.mean(PQ))\n",
        "                QPmean = np.append(QPmean, np.mean(QP))\n",
        "                RTmean = np.append(RTmean, np.mean(RT))\n",
        "                PSmean = np.append(PSmean, np.mean(PS))\n",
        "                QRSmean = np.append(QRSmean, np.mean(QRS))\n",
        "                ICEBmean = np.append(ICEBmean, np.mean(ICEB))\n",
        "                QTCmean = np.append(QTCmean, np.mean(QTC))\n",
        "\n",
        "                RRvar = np.append(RRvar, np.var(RR))\n",
        "                PQvar = np.append(PQvar, np.var(PQ))\n",
        "                QPvar = np.append(QPvar, np.var(QP))\n",
        "                RTvar = np.append(RTvar, np.var(RT))\n",
        "                PSvar = np.append(PSvar, np.var(PS))\n",
        "                QRSvar = np.append(QRSvar, np.var(QRS))\n",
        "                ICEBvar = np.append(ICEBvar, np.var(ICEB))\n",
        "                QTCvar = np.append(QTCvar, np.var(QTC))\n",
        "\n",
        "                RRstd = np.append(RRstd, np.std(RR))\n",
        "                PQstd = np.append(PQstd, np.std(PQ))\n",
        "                QPstd = np.append(QPstd, np.std(QP))\n",
        "                RTstd = np.append(RTstd, np.std(RT))\n",
        "                PSstd = np.append(PSstd, np.std(PS))\n",
        "                QRSstd = np.append(QRSstd, np.std(QRS))\n",
        "                ICEBstd = np.append(ICEBstd, np.std(ICEB))\n",
        "                QTCstd = np.append(QTCstd, np.std(QTC))\n",
        "\n",
        "                y_train = np.append(y_train, 1 )\n",
        "\n",
        "    list_of_tuples_test = list(zip(RRmean,PQmean,QPmean,RTmean,PSmean,QRSmean,ICEBmean,QTCmean,\n",
        "                                   RRvar,PQvar,QPvar,RTvar,PSvar,QRSvar,ICEBvar, QTCvar,\n",
        "                                   RRstd,PQstd,QPstd,RTstd,PSstd,QRSstd,ICEBstd,QTCstd, y_train))\n",
        "    allData = pd.DataFrame(list_of_tuples_test,\n",
        "                  columns = ['RRmean', 'PQmean', 'QPmean', 'RTmean', 'PSmean', 'QRSmean', 'ICEBmean', 'QTCmean',\n",
        "                             'RRvar', 'PQvar', 'QPvar', 'RTvar', 'PSvar', 'QRSvar','ICEBvar', 'QTCvar',\n",
        "                             'RRstd', 'PQstd', 'QPstd', 'RTstd', 'PSstd', 'QRSstd','ICEBstd', 'QTCstd','TRAIN'])\n",
        "\n",
        "    return allData"
      ],
      "metadata": {
        "id": "LpN9ABMKo0zq"
      },
      "execution_count": null,
      "outputs": []
    },
    {
      "cell_type": "code",
      "source": [
        "'''\n",
        "df1 stores the training data which is processsed via train test split\n",
        "'''\n",
        "\n",
        "'''\n",
        "Column Names\n",
        "\n",
        "'''\n",
        "df1 = pd.DataFrame(columns = ['RRmean', 'PQmean', 'QPmean', 'RTmean', 'PSmean', 'QRSmean', 'ICEBmean', 'QTCmean',\n",
        "                             'RRvar', 'PQvar', 'QPvar', 'RTvar', 'PSvar', 'QRSvar','ICEBvar', 'QTCvar',\n",
        "                             'RRstd', 'PQstd', 'QPstd', 'RTstd', 'PSstd', 'QRSstd','ICEBstd', 'QTCstd','TRAIN'])\n",
        "\n",
        "param = 15 #specifies the number of minutes of time gap to consider\n",
        "fs = 250\n",
        "split = 3\n",
        "dbType = \"mitdb\"\n",
        "signalStrings = ['mitdb/100','mitdb/101','mitdb/102', 'mitdb/103', 'mitdb/105', 'mitdb/106', 'mitdb/111', 'mitdb/112',\n",
        "                 'mitdb/113','mitdb/115', 'mitdb/116', 'mitdb/118', 'mitdb/121', 'mitdb/122',  'mitdb/123', 'mitdb/124',\n",
        "                 'mitdb/209','mitdb/210','mitdb/230','mitdb/231', 'mitdb/232', 'mitdb/234',\n",
        "                 'mitdb/221','mitdb/222', 'mitdb/223', 'mitdb/228']\n",
        "\n",
        "for s in signalStrings:\n",
        "    print(s)\n",
        "    data = generateIntervals2(s, param, fs, dbType, split)\n",
        "    df1 = df1.append(data)\n",
        "    df1 = df1.dropna()\n",
        "df1.head()"
      ],
      "metadata": {
        "colab": {
          "base_uri": "https://localhost:8080/",
          "height": 1000
        },
        "id": "dbw6IKedqNh6",
        "outputId": "382987ee-f70a-47d3-f3de-ed322111058f"
      },
      "execution_count": null,
      "outputs": [
        {
          "output_type": "stream",
          "name": "stdout",
          "text": [
            "mitdb/100\n",
            "2072\n",
            "2072\n",
            "2072\n",
            "2072\n",
            "2072\n"
          ]
        },
        {
          "output_type": "stream",
          "name": "stderr",
          "text": [
            "<ipython-input-20-8ccd463b3f07>:25: FutureWarning: The frame.append method is deprecated and will be removed from pandas in a future version. Use pandas.concat instead.\n",
            "  df1 = df1.append(data)\n"
          ]
        },
        {
          "output_type": "stream",
          "name": "stdout",
          "text": [
            "mitdb/101\n",
            "1858\n",
            "1858\n",
            "1858\n",
            "1858\n",
            "1858\n"
          ]
        },
        {
          "output_type": "stream",
          "name": "stderr",
          "text": [
            "<ipython-input-20-8ccd463b3f07>:25: FutureWarning: The frame.append method is deprecated and will be removed from pandas in a future version. Use pandas.concat instead.\n",
            "  df1 = df1.append(data)\n"
          ]
        },
        {
          "output_type": "stream",
          "name": "stdout",
          "text": [
            "mitdb/102\n",
            "1546\n",
            "1546\n",
            "1546\n",
            "1546\n",
            "1546\n"
          ]
        },
        {
          "output_type": "stream",
          "name": "stderr",
          "text": [
            "/usr/local/lib/python3.9/dist-packages/numpy/core/fromnumeric.py:3474: RuntimeWarning: Mean of empty slice.\n",
            "  return _methods._mean(a, axis=axis, dtype=dtype,\n",
            "/usr/local/lib/python3.9/dist-packages/numpy/core/_methods.py:189: RuntimeWarning: invalid value encountered in double_scalars\n",
            "  ret = ret.dtype.type(ret / rcount)\n",
            "/usr/local/lib/python3.9/dist-packages/numpy/core/fromnumeric.py:3757: RuntimeWarning: Degrees of freedom <= 0 for slice\n",
            "  return _methods._var(a, axis=axis, dtype=dtype, out=out, ddof=ddof,\n",
            "/usr/local/lib/python3.9/dist-packages/numpy/core/_methods.py:222: RuntimeWarning: invalid value encountered in true_divide\n",
            "  arrmean = um.true_divide(arrmean, div, out=arrmean, casting='unsafe',\n",
            "/usr/local/lib/python3.9/dist-packages/numpy/core/_methods.py:256: RuntimeWarning: invalid value encountered in double_scalars\n",
            "  ret = ret.dtype.type(ret / rcount)\n",
            "/usr/local/lib/python3.9/dist-packages/numpy/core/_methods.py:264: RuntimeWarning: Degrees of freedom <= 0 for slice\n",
            "  ret = _var(a, axis=axis, dtype=dtype, out=out, ddof=ddof,\n",
            "<ipython-input-20-8ccd463b3f07>:25: FutureWarning: The frame.append method is deprecated and will be removed from pandas in a future version. Use pandas.concat instead.\n",
            "  df1 = df1.append(data)\n"
          ]
        },
        {
          "output_type": "stream",
          "name": "stdout",
          "text": [
            "mitdb/103\n",
            "2075\n",
            "2075\n",
            "2075\n",
            "2075\n",
            "2075\n"
          ]
        },
        {
          "output_type": "stream",
          "name": "stderr",
          "text": [
            "<ipython-input-20-8ccd463b3f07>:25: FutureWarning: The frame.append method is deprecated and will be removed from pandas in a future version. Use pandas.concat instead.\n",
            "  df1 = df1.append(data)\n"
          ]
        },
        {
          "output_type": "stream",
          "name": "stdout",
          "text": [
            "mitdb/105\n",
            "2491\n",
            "2491\n",
            "2491\n",
            "2491\n",
            "2491\n"
          ]
        },
        {
          "output_type": "stream",
          "name": "stderr",
          "text": [
            "<ipython-input-20-8ccd463b3f07>:25: FutureWarning: The frame.append method is deprecated and will be removed from pandas in a future version. Use pandas.concat instead.\n",
            "  df1 = df1.append(data)\n"
          ]
        },
        {
          "output_type": "stream",
          "name": "stdout",
          "text": [
            "mitdb/106\n",
            "1875\n",
            "1875\n",
            "1875\n",
            "1875\n",
            "1875\n"
          ]
        },
        {
          "output_type": "stream",
          "name": "stderr",
          "text": [
            "<ipython-input-20-8ccd463b3f07>:25: FutureWarning: The frame.append method is deprecated and will be removed from pandas in a future version. Use pandas.concat instead.\n",
            "  df1 = df1.append(data)\n"
          ]
        },
        {
          "output_type": "stream",
          "name": "stdout",
          "text": [
            "mitdb/111\n",
            "2093\n",
            "2093\n",
            "2093\n",
            "2093\n",
            "2093\n"
          ]
        },
        {
          "output_type": "stream",
          "name": "stderr",
          "text": [
            "<ipython-input-20-8ccd463b3f07>:25: FutureWarning: The frame.append method is deprecated and will be removed from pandas in a future version. Use pandas.concat instead.\n",
            "  df1 = df1.append(data)\n"
          ]
        },
        {
          "output_type": "stream",
          "name": "stdout",
          "text": [
            "mitdb/112\n",
            "2516\n",
            "2516\n",
            "2516\n",
            "2516\n",
            "2516\n"
          ]
        },
        {
          "output_type": "stream",
          "name": "stderr",
          "text": [
            "<ipython-input-20-8ccd463b3f07>:25: FutureWarning: The frame.append method is deprecated and will be removed from pandas in a future version. Use pandas.concat instead.\n",
            "  df1 = df1.append(data)\n"
          ]
        },
        {
          "output_type": "stream",
          "name": "stdout",
          "text": [
            "mitdb/113\n",
            "885\n",
            "885\n",
            "885\n",
            "885\n",
            "885\n"
          ]
        },
        {
          "output_type": "stream",
          "name": "stderr",
          "text": [
            "/usr/local/lib/python3.9/dist-packages/numpy/core/fromnumeric.py:3474: RuntimeWarning: Mean of empty slice.\n",
            "  return _methods._mean(a, axis=axis, dtype=dtype,\n",
            "/usr/local/lib/python3.9/dist-packages/numpy/core/_methods.py:189: RuntimeWarning: invalid value encountered in double_scalars\n",
            "  ret = ret.dtype.type(ret / rcount)\n",
            "/usr/local/lib/python3.9/dist-packages/numpy/core/fromnumeric.py:3757: RuntimeWarning: Degrees of freedom <= 0 for slice\n",
            "  return _methods._var(a, axis=axis, dtype=dtype, out=out, ddof=ddof,\n",
            "/usr/local/lib/python3.9/dist-packages/numpy/core/_methods.py:222: RuntimeWarning: invalid value encountered in true_divide\n",
            "  arrmean = um.true_divide(arrmean, div, out=arrmean, casting='unsafe',\n",
            "/usr/local/lib/python3.9/dist-packages/numpy/core/_methods.py:256: RuntimeWarning: invalid value encountered in double_scalars\n",
            "  ret = ret.dtype.type(ret / rcount)\n",
            "/usr/local/lib/python3.9/dist-packages/numpy/core/_methods.py:264: RuntimeWarning: Degrees of freedom <= 0 for slice\n",
            "  ret = _var(a, axis=axis, dtype=dtype, out=out, ddof=ddof,\n",
            "<ipython-input-20-8ccd463b3f07>:25: FutureWarning: The frame.append method is deprecated and will be removed from pandas in a future version. Use pandas.concat instead.\n",
            "  df1 = df1.append(data)\n"
          ]
        },
        {
          "output_type": "stream",
          "name": "stdout",
          "text": [
            "mitdb/115\n",
            "1951\n",
            "1951\n",
            "1951\n",
            "1951\n",
            "1951\n"
          ]
        },
        {
          "output_type": "stream",
          "name": "stderr",
          "text": [
            "<ipython-input-20-8ccd463b3f07>:25: FutureWarning: The frame.append method is deprecated and will be removed from pandas in a future version. Use pandas.concat instead.\n",
            "  df1 = df1.append(data)\n"
          ]
        },
        {
          "output_type": "stream",
          "name": "stdout",
          "text": [
            "mitdb/116\n",
            "2274\n",
            "2274\n",
            "2274\n",
            "2274\n",
            "2274\n"
          ]
        },
        {
          "output_type": "stream",
          "name": "stderr",
          "text": [
            "/usr/local/lib/python3.9/dist-packages/numpy/core/fromnumeric.py:3474: RuntimeWarning: Mean of empty slice.\n",
            "  return _methods._mean(a, axis=axis, dtype=dtype,\n",
            "/usr/local/lib/python3.9/dist-packages/numpy/core/_methods.py:189: RuntimeWarning: invalid value encountered in double_scalars\n",
            "  ret = ret.dtype.type(ret / rcount)\n",
            "/usr/local/lib/python3.9/dist-packages/numpy/core/fromnumeric.py:3757: RuntimeWarning: Degrees of freedom <= 0 for slice\n",
            "  return _methods._var(a, axis=axis, dtype=dtype, out=out, ddof=ddof,\n",
            "/usr/local/lib/python3.9/dist-packages/numpy/core/_methods.py:222: RuntimeWarning: invalid value encountered in true_divide\n",
            "  arrmean = um.true_divide(arrmean, div, out=arrmean, casting='unsafe',\n",
            "/usr/local/lib/python3.9/dist-packages/numpy/core/_methods.py:256: RuntimeWarning: invalid value encountered in double_scalars\n",
            "  ret = ret.dtype.type(ret / rcount)\n",
            "/usr/local/lib/python3.9/dist-packages/numpy/core/_methods.py:264: RuntimeWarning: Degrees of freedom <= 0 for slice\n",
            "  ret = _var(a, axis=axis, dtype=dtype, out=out, ddof=ddof,\n",
            "<ipython-input-20-8ccd463b3f07>:25: FutureWarning: The frame.append method is deprecated and will be removed from pandas in a future version. Use pandas.concat instead.\n",
            "  df1 = df1.append(data)\n"
          ]
        },
        {
          "output_type": "stream",
          "name": "stdout",
          "text": [
            "mitdb/118\n",
            "2271\n",
            "2271\n",
            "2271\n",
            "2271\n",
            "2271\n"
          ]
        },
        {
          "output_type": "stream",
          "name": "stderr",
          "text": [
            "<ipython-input-20-8ccd463b3f07>:25: FutureWarning: The frame.append method is deprecated and will be removed from pandas in a future version. Use pandas.concat instead.\n",
            "  df1 = df1.append(data)\n"
          ]
        },
        {
          "output_type": "stream",
          "name": "stdout",
          "text": [
            "mitdb/121\n",
            "1646\n",
            "1646\n",
            "1646\n",
            "1646\n",
            "1646\n"
          ]
        },
        {
          "output_type": "stream",
          "name": "stderr",
          "text": [
            "/usr/local/lib/python3.9/dist-packages/numpy/core/fromnumeric.py:3474: RuntimeWarning: Mean of empty slice.\n",
            "  return _methods._mean(a, axis=axis, dtype=dtype,\n",
            "/usr/local/lib/python3.9/dist-packages/numpy/core/_methods.py:189: RuntimeWarning: invalid value encountered in double_scalars\n",
            "  ret = ret.dtype.type(ret / rcount)\n",
            "/usr/local/lib/python3.9/dist-packages/numpy/core/fromnumeric.py:3757: RuntimeWarning: Degrees of freedom <= 0 for slice\n",
            "  return _methods._var(a, axis=axis, dtype=dtype, out=out, ddof=ddof,\n",
            "/usr/local/lib/python3.9/dist-packages/numpy/core/_methods.py:222: RuntimeWarning: invalid value encountered in true_divide\n",
            "  arrmean = um.true_divide(arrmean, div, out=arrmean, casting='unsafe',\n",
            "/usr/local/lib/python3.9/dist-packages/numpy/core/_methods.py:256: RuntimeWarning: invalid value encountered in double_scalars\n",
            "  ret = ret.dtype.type(ret / rcount)\n",
            "/usr/local/lib/python3.9/dist-packages/numpy/core/_methods.py:264: RuntimeWarning: Degrees of freedom <= 0 for slice\n",
            "  ret = _var(a, axis=axis, dtype=dtype, out=out, ddof=ddof,\n",
            "<ipython-input-20-8ccd463b3f07>:25: FutureWarning: The frame.append method is deprecated and will be removed from pandas in a future version. Use pandas.concat instead.\n",
            "  df1 = df1.append(data)\n"
          ]
        },
        {
          "output_type": "stream",
          "name": "stdout",
          "text": [
            "mitdb/122\n",
            "2405\n",
            "2405\n",
            "2405\n",
            "2405\n",
            "2405\n"
          ]
        },
        {
          "output_type": "stream",
          "name": "stderr",
          "text": [
            "<ipython-input-20-8ccd463b3f07>:25: FutureWarning: The frame.append method is deprecated and will be removed from pandas in a future version. Use pandas.concat instead.\n",
            "  df1 = df1.append(data)\n"
          ]
        },
        {
          "output_type": "stream",
          "name": "stdout",
          "text": [
            "mitdb/123\n",
            "1513\n",
            "1513\n",
            "1513\n",
            "1513\n",
            "1513\n"
          ]
        },
        {
          "output_type": "stream",
          "name": "stderr",
          "text": [
            "<ipython-input-20-8ccd463b3f07>:25: FutureWarning: The frame.append method is deprecated and will be removed from pandas in a future version. Use pandas.concat instead.\n",
            "  df1 = df1.append(data)\n"
          ]
        },
        {
          "output_type": "stream",
          "name": "stdout",
          "text": [
            "mitdb/124\n",
            "996\n",
            "996\n",
            "996\n",
            "996\n",
            "996\n"
          ]
        },
        {
          "output_type": "stream",
          "name": "stderr",
          "text": [
            "/usr/local/lib/python3.9/dist-packages/numpy/core/fromnumeric.py:3474: RuntimeWarning: Mean of empty slice.\n",
            "  return _methods._mean(a, axis=axis, dtype=dtype,\n",
            "/usr/local/lib/python3.9/dist-packages/numpy/core/_methods.py:189: RuntimeWarning: invalid value encountered in double_scalars\n",
            "  ret = ret.dtype.type(ret / rcount)\n",
            "/usr/local/lib/python3.9/dist-packages/numpy/core/fromnumeric.py:3757: RuntimeWarning: Degrees of freedom <= 0 for slice\n",
            "  return _methods._var(a, axis=axis, dtype=dtype, out=out, ddof=ddof,\n",
            "/usr/local/lib/python3.9/dist-packages/numpy/core/_methods.py:222: RuntimeWarning: invalid value encountered in true_divide\n",
            "  arrmean = um.true_divide(arrmean, div, out=arrmean, casting='unsafe',\n",
            "/usr/local/lib/python3.9/dist-packages/numpy/core/_methods.py:256: RuntimeWarning: invalid value encountered in double_scalars\n",
            "  ret = ret.dtype.type(ret / rcount)\n",
            "/usr/local/lib/python3.9/dist-packages/numpy/core/_methods.py:264: RuntimeWarning: Degrees of freedom <= 0 for slice\n",
            "  ret = _var(a, axis=axis, dtype=dtype, out=out, ddof=ddof,\n",
            "<ipython-input-20-8ccd463b3f07>:25: FutureWarning: The frame.append method is deprecated and will be removed from pandas in a future version. Use pandas.concat instead.\n",
            "  df1 = df1.append(data)\n"
          ]
        },
        {
          "output_type": "stream",
          "name": "stdout",
          "text": [
            "mitdb/209\n",
            "2995\n",
            "2995\n",
            "2995\n",
            "2995\n",
            "2995\n"
          ]
        },
        {
          "output_type": "stream",
          "name": "stderr",
          "text": [
            "<ipython-input-20-8ccd463b3f07>:25: FutureWarning: The frame.append method is deprecated and will be removed from pandas in a future version. Use pandas.concat instead.\n",
            "  df1 = df1.append(data)\n"
          ]
        },
        {
          "output_type": "stream",
          "name": "stdout",
          "text": [
            "mitdb/210\n",
            "1110\n",
            "1110\n",
            "1110\n",
            "1110\n",
            "1110\n"
          ]
        },
        {
          "output_type": "stream",
          "name": "stderr",
          "text": [
            "/usr/local/lib/python3.9/dist-packages/numpy/core/fromnumeric.py:3474: RuntimeWarning: Mean of empty slice.\n",
            "  return _methods._mean(a, axis=axis, dtype=dtype,\n",
            "/usr/local/lib/python3.9/dist-packages/numpy/core/_methods.py:189: RuntimeWarning: invalid value encountered in double_scalars\n",
            "  ret = ret.dtype.type(ret / rcount)\n",
            "/usr/local/lib/python3.9/dist-packages/numpy/core/fromnumeric.py:3757: RuntimeWarning: Degrees of freedom <= 0 for slice\n",
            "  return _methods._var(a, axis=axis, dtype=dtype, out=out, ddof=ddof,\n",
            "/usr/local/lib/python3.9/dist-packages/numpy/core/_methods.py:222: RuntimeWarning: invalid value encountered in true_divide\n",
            "  arrmean = um.true_divide(arrmean, div, out=arrmean, casting='unsafe',\n",
            "/usr/local/lib/python3.9/dist-packages/numpy/core/_methods.py:256: RuntimeWarning: invalid value encountered in double_scalars\n",
            "  ret = ret.dtype.type(ret / rcount)\n",
            "/usr/local/lib/python3.9/dist-packages/numpy/core/_methods.py:264: RuntimeWarning: Degrees of freedom <= 0 for slice\n",
            "  ret = _var(a, axis=axis, dtype=dtype, out=out, ddof=ddof,\n",
            "<ipython-input-20-8ccd463b3f07>:25: FutureWarning: The frame.append method is deprecated and will be removed from pandas in a future version. Use pandas.concat instead.\n",
            "  df1 = df1.append(data)\n"
          ]
        },
        {
          "output_type": "stream",
          "name": "stdout",
          "text": [
            "mitdb/230\n",
            "2239\n",
            "2239\n",
            "2239\n",
            "2239\n",
            "2239\n"
          ]
        },
        {
          "output_type": "stream",
          "name": "stderr",
          "text": [
            "<ipython-input-20-8ccd463b3f07>:25: FutureWarning: The frame.append method is deprecated and will be removed from pandas in a future version. Use pandas.concat instead.\n",
            "  df1 = df1.append(data)\n"
          ]
        },
        {
          "output_type": "stream",
          "name": "stdout",
          "text": [
            "mitdb/231\n",
            "1463\n",
            "1463\n",
            "1463\n",
            "1463\n",
            "1463\n",
            "mitdb/232\n"
          ]
        },
        {
          "output_type": "stream",
          "name": "stderr",
          "text": [
            "<ipython-input-20-8ccd463b3f07>:25: FutureWarning: The frame.append method is deprecated and will be removed from pandas in a future version. Use pandas.concat instead.\n",
            "  df1 = df1.append(data)\n"
          ]
        },
        {
          "output_type": "stream",
          "name": "stdout",
          "text": [
            "1740\n",
            "1740\n",
            "1740\n",
            "1740\n",
            "1740\n"
          ]
        },
        {
          "output_type": "stream",
          "name": "stderr",
          "text": [
            "/usr/local/lib/python3.9/dist-packages/numpy/core/fromnumeric.py:3474: RuntimeWarning: Mean of empty slice.\n",
            "  return _methods._mean(a, axis=axis, dtype=dtype,\n",
            "/usr/local/lib/python3.9/dist-packages/numpy/core/_methods.py:189: RuntimeWarning: invalid value encountered in double_scalars\n",
            "  ret = ret.dtype.type(ret / rcount)\n",
            "/usr/local/lib/python3.9/dist-packages/numpy/core/fromnumeric.py:3757: RuntimeWarning: Degrees of freedom <= 0 for slice\n",
            "  return _methods._var(a, axis=axis, dtype=dtype, out=out, ddof=ddof,\n",
            "/usr/local/lib/python3.9/dist-packages/numpy/core/_methods.py:222: RuntimeWarning: invalid value encountered in true_divide\n",
            "  arrmean = um.true_divide(arrmean, div, out=arrmean, casting='unsafe',\n",
            "/usr/local/lib/python3.9/dist-packages/numpy/core/_methods.py:256: RuntimeWarning: invalid value encountered in double_scalars\n",
            "  ret = ret.dtype.type(ret / rcount)\n",
            "/usr/local/lib/python3.9/dist-packages/numpy/core/_methods.py:264: RuntimeWarning: Degrees of freedom <= 0 for slice\n",
            "  ret = _var(a, axis=axis, dtype=dtype, out=out, ddof=ddof,\n",
            "<ipython-input-20-8ccd463b3f07>:25: FutureWarning: The frame.append method is deprecated and will be removed from pandas in a future version. Use pandas.concat instead.\n",
            "  df1 = df1.append(data)\n"
          ]
        },
        {
          "output_type": "stream",
          "name": "stdout",
          "text": [
            "mitdb/234\n",
            "2524\n",
            "2524\n",
            "2524\n",
            "2524\n",
            "2524\n"
          ]
        },
        {
          "output_type": "stream",
          "name": "stderr",
          "text": [
            "<ipython-input-20-8ccd463b3f07>:25: FutureWarning: The frame.append method is deprecated and will be removed from pandas in a future version. Use pandas.concat instead.\n",
            "  df1 = df1.append(data)\n"
          ]
        },
        {
          "output_type": "stream",
          "name": "stdout",
          "text": [
            "mitdb/221\n",
            "951\n",
            "951\n",
            "951\n",
            "951\n",
            "951\n"
          ]
        },
        {
          "output_type": "stream",
          "name": "stderr",
          "text": [
            "/usr/local/lib/python3.9/dist-packages/numpy/core/fromnumeric.py:3474: RuntimeWarning: Mean of empty slice.\n",
            "  return _methods._mean(a, axis=axis, dtype=dtype,\n",
            "/usr/local/lib/python3.9/dist-packages/numpy/core/_methods.py:189: RuntimeWarning: invalid value encountered in double_scalars\n",
            "  ret = ret.dtype.type(ret / rcount)\n",
            "/usr/local/lib/python3.9/dist-packages/numpy/core/fromnumeric.py:3757: RuntimeWarning: Degrees of freedom <= 0 for slice\n",
            "  return _methods._var(a, axis=axis, dtype=dtype, out=out, ddof=ddof,\n",
            "/usr/local/lib/python3.9/dist-packages/numpy/core/_methods.py:222: RuntimeWarning: invalid value encountered in true_divide\n",
            "  arrmean = um.true_divide(arrmean, div, out=arrmean, casting='unsafe',\n",
            "/usr/local/lib/python3.9/dist-packages/numpy/core/_methods.py:256: RuntimeWarning: invalid value encountered in double_scalars\n",
            "  ret = ret.dtype.type(ret / rcount)\n",
            "/usr/local/lib/python3.9/dist-packages/numpy/core/_methods.py:264: RuntimeWarning: Degrees of freedom <= 0 for slice\n",
            "  ret = _var(a, axis=axis, dtype=dtype, out=out, ddof=ddof,\n",
            "<ipython-input-20-8ccd463b3f07>:25: FutureWarning: The frame.append method is deprecated and will be removed from pandas in a future version. Use pandas.concat instead.\n",
            "  df1 = df1.append(data)\n"
          ]
        },
        {
          "output_type": "stream",
          "name": "stdout",
          "text": [
            "mitdb/222\n",
            "2215\n",
            "2215\n",
            "2215\n",
            "2215\n",
            "2215\n"
          ]
        },
        {
          "output_type": "stream",
          "name": "stderr",
          "text": [
            "/usr/local/lib/python3.9/dist-packages/numpy/core/fromnumeric.py:3474: RuntimeWarning: Mean of empty slice.\n",
            "  return _methods._mean(a, axis=axis, dtype=dtype,\n",
            "/usr/local/lib/python3.9/dist-packages/numpy/core/_methods.py:189: RuntimeWarning: invalid value encountered in double_scalars\n",
            "  ret = ret.dtype.type(ret / rcount)\n",
            "/usr/local/lib/python3.9/dist-packages/numpy/core/fromnumeric.py:3757: RuntimeWarning: Degrees of freedom <= 0 for slice\n",
            "  return _methods._var(a, axis=axis, dtype=dtype, out=out, ddof=ddof,\n",
            "/usr/local/lib/python3.9/dist-packages/numpy/core/_methods.py:222: RuntimeWarning: invalid value encountered in true_divide\n",
            "  arrmean = um.true_divide(arrmean, div, out=arrmean, casting='unsafe',\n",
            "/usr/local/lib/python3.9/dist-packages/numpy/core/_methods.py:256: RuntimeWarning: invalid value encountered in double_scalars\n",
            "  ret = ret.dtype.type(ret / rcount)\n",
            "/usr/local/lib/python3.9/dist-packages/numpy/core/_methods.py:264: RuntimeWarning: Degrees of freedom <= 0 for slice\n",
            "  ret = _var(a, axis=axis, dtype=dtype, out=out, ddof=ddof,\n",
            "<ipython-input-20-8ccd463b3f07>:25: FutureWarning: The frame.append method is deprecated and will be removed from pandas in a future version. Use pandas.concat instead.\n",
            "  df1 = df1.append(data)\n"
          ]
        },
        {
          "output_type": "stream",
          "name": "stdout",
          "text": [
            "mitdb/223\n",
            "1114\n",
            "1114\n",
            "1114\n",
            "1114\n",
            "1114\n"
          ]
        },
        {
          "output_type": "stream",
          "name": "stderr",
          "text": [
            "/usr/local/lib/python3.9/dist-packages/numpy/core/fromnumeric.py:3474: RuntimeWarning: Mean of empty slice.\n",
            "  return _methods._mean(a, axis=axis, dtype=dtype,\n",
            "/usr/local/lib/python3.9/dist-packages/numpy/core/_methods.py:189: RuntimeWarning: invalid value encountered in double_scalars\n",
            "  ret = ret.dtype.type(ret / rcount)\n",
            "/usr/local/lib/python3.9/dist-packages/numpy/core/fromnumeric.py:3757: RuntimeWarning: Degrees of freedom <= 0 for slice\n",
            "  return _methods._var(a, axis=axis, dtype=dtype, out=out, ddof=ddof,\n",
            "/usr/local/lib/python3.9/dist-packages/numpy/core/_methods.py:222: RuntimeWarning: invalid value encountered in true_divide\n",
            "  arrmean = um.true_divide(arrmean, div, out=arrmean, casting='unsafe',\n",
            "/usr/local/lib/python3.9/dist-packages/numpy/core/_methods.py:256: RuntimeWarning: invalid value encountered in double_scalars\n",
            "  ret = ret.dtype.type(ret / rcount)\n",
            "/usr/local/lib/python3.9/dist-packages/numpy/core/_methods.py:264: RuntimeWarning: Degrees of freedom <= 0 for slice\n",
            "  ret = _var(a, axis=axis, dtype=dtype, out=out, ddof=ddof,\n",
            "<ipython-input-20-8ccd463b3f07>:25: FutureWarning: The frame.append method is deprecated and will be removed from pandas in a future version. Use pandas.concat instead.\n",
            "  df1 = df1.append(data)\n"
          ]
        },
        {
          "output_type": "stream",
          "name": "stdout",
          "text": [
            "mitdb/228\n",
            "1740\n",
            "1740\n",
            "1740\n",
            "1740\n",
            "1740\n"
          ]
        },
        {
          "output_type": "stream",
          "name": "stderr",
          "text": [
            "/usr/local/lib/python3.9/dist-packages/numpy/core/fromnumeric.py:3474: RuntimeWarning: Mean of empty slice.\n",
            "  return _methods._mean(a, axis=axis, dtype=dtype,\n",
            "/usr/local/lib/python3.9/dist-packages/numpy/core/_methods.py:189: RuntimeWarning: invalid value encountered in double_scalars\n",
            "  ret = ret.dtype.type(ret / rcount)\n",
            "/usr/local/lib/python3.9/dist-packages/numpy/core/fromnumeric.py:3757: RuntimeWarning: Degrees of freedom <= 0 for slice\n",
            "  return _methods._var(a, axis=axis, dtype=dtype, out=out, ddof=ddof,\n",
            "/usr/local/lib/python3.9/dist-packages/numpy/core/_methods.py:222: RuntimeWarning: invalid value encountered in true_divide\n",
            "  arrmean = um.true_divide(arrmean, div, out=arrmean, casting='unsafe',\n",
            "/usr/local/lib/python3.9/dist-packages/numpy/core/_methods.py:256: RuntimeWarning: invalid value encountered in double_scalars\n",
            "  ret = ret.dtype.type(ret / rcount)\n",
            "/usr/local/lib/python3.9/dist-packages/numpy/core/_methods.py:264: RuntimeWarning: Degrees of freedom <= 0 for slice\n",
            "  ret = _var(a, axis=axis, dtype=dtype, out=out, ddof=ddof,\n",
            "<ipython-input-20-8ccd463b3f07>:25: FutureWarning: The frame.append method is deprecated and will be removed from pandas in a future version. Use pandas.concat instead.\n",
            "  df1 = df1.append(data)\n"
          ]
        },
        {
          "output_type": "execute_result",
          "data": {
            "text/plain": [
              "       RRmean    PQmean      QPmean    RTmean    PSmean   QRSmean  ICEBmean  \\\n",
              "0 -600.497333  0.184000 -600.684000  0.329333  0.405333  0.222667  2.786669   \n",
              "1    0.762000  0.185000    0.578000  0.223000  0.382000  0.214000  1.388461   \n",
              "2    0.882667  0.197333    0.690667  0.301333  0.282667  0.080000  4.111159   \n",
              "3    0.815000  0.192000    0.633000  0.318000  0.384000  0.180000  2.928832   \n",
              "4    0.817000  0.182000    0.618000  0.402000  0.425000  0.241000  2.903233   \n",
              "\n",
              "    QTCmean          RRvar     PQvar  ...    QTCvar       RRstd     PQstd  \\\n",
              "0  0.288851  723116.966244  0.000032  ...  0.044101  850.362844  0.005657   \n",
              "1  0.333809       0.004148  0.001139  ...  0.011692    0.064405  0.033749   \n",
              "2  0.391937       0.006638  0.000004  ...  0.034813    0.081475  0.001886   \n",
              "3  0.430963       0.001171  0.000136  ...  0.019265    0.034220  0.011662   \n",
              "4  0.533798       0.000171  0.000724  ...  0.000086    0.013077  0.026907   \n",
              "\n",
              "        QPstd     RTstd     PSstd    QRSstd   ICEBstd    QTCstd  TRAIN  \n",
              "0  850.358130  0.040574  0.108730  0.112491  2.318030  0.210002    0.0  \n",
              "1    0.076446  0.089906  0.090620  0.080324  0.624125  0.108129    0.0  \n",
              "2    0.074928  0.136091  0.034922  0.025508  1.069877  0.186582    0.0  \n",
              "3    0.050388  0.108536  0.112250  0.116069  2.082582  0.138800    0.0  \n",
              "4    0.018221  0.003464  0.127918  0.104857  2.519708  0.009300    0.0  \n",
              "\n",
              "[5 rows x 25 columns]"
            ],
            "text/html": [
              "\n",
              "  <div id=\"df-43fc75f4-fa5c-4e2b-9c5a-e9c4fa14021a\">\n",
              "    <div class=\"colab-df-container\">\n",
              "      <div>\n",
              "<style scoped>\n",
              "    .dataframe tbody tr th:only-of-type {\n",
              "        vertical-align: middle;\n",
              "    }\n",
              "\n",
              "    .dataframe tbody tr th {\n",
              "        vertical-align: top;\n",
              "    }\n",
              "\n",
              "    .dataframe thead th {\n",
              "        text-align: right;\n",
              "    }\n",
              "</style>\n",
              "<table border=\"1\" class=\"dataframe\">\n",
              "  <thead>\n",
              "    <tr style=\"text-align: right;\">\n",
              "      <th></th>\n",
              "      <th>RRmean</th>\n",
              "      <th>PQmean</th>\n",
              "      <th>QPmean</th>\n",
              "      <th>RTmean</th>\n",
              "      <th>PSmean</th>\n",
              "      <th>QRSmean</th>\n",
              "      <th>ICEBmean</th>\n",
              "      <th>QTCmean</th>\n",
              "      <th>RRvar</th>\n",
              "      <th>PQvar</th>\n",
              "      <th>...</th>\n",
              "      <th>QTCvar</th>\n",
              "      <th>RRstd</th>\n",
              "      <th>PQstd</th>\n",
              "      <th>QPstd</th>\n",
              "      <th>RTstd</th>\n",
              "      <th>PSstd</th>\n",
              "      <th>QRSstd</th>\n",
              "      <th>ICEBstd</th>\n",
              "      <th>QTCstd</th>\n",
              "      <th>TRAIN</th>\n",
              "    </tr>\n",
              "  </thead>\n",
              "  <tbody>\n",
              "    <tr>\n",
              "      <th>0</th>\n",
              "      <td>-600.497333</td>\n",
              "      <td>0.184000</td>\n",
              "      <td>-600.684000</td>\n",
              "      <td>0.329333</td>\n",
              "      <td>0.405333</td>\n",
              "      <td>0.222667</td>\n",
              "      <td>2.786669</td>\n",
              "      <td>0.288851</td>\n",
              "      <td>723116.966244</td>\n",
              "      <td>0.000032</td>\n",
              "      <td>...</td>\n",
              "      <td>0.044101</td>\n",
              "      <td>850.362844</td>\n",
              "      <td>0.005657</td>\n",
              "      <td>850.358130</td>\n",
              "      <td>0.040574</td>\n",
              "      <td>0.108730</td>\n",
              "      <td>0.112491</td>\n",
              "      <td>2.318030</td>\n",
              "      <td>0.210002</td>\n",
              "      <td>0.0</td>\n",
              "    </tr>\n",
              "    <tr>\n",
              "      <th>1</th>\n",
              "      <td>0.762000</td>\n",
              "      <td>0.185000</td>\n",
              "      <td>0.578000</td>\n",
              "      <td>0.223000</td>\n",
              "      <td>0.382000</td>\n",
              "      <td>0.214000</td>\n",
              "      <td>1.388461</td>\n",
              "      <td>0.333809</td>\n",
              "      <td>0.004148</td>\n",
              "      <td>0.001139</td>\n",
              "      <td>...</td>\n",
              "      <td>0.011692</td>\n",
              "      <td>0.064405</td>\n",
              "      <td>0.033749</td>\n",
              "      <td>0.076446</td>\n",
              "      <td>0.089906</td>\n",
              "      <td>0.090620</td>\n",
              "      <td>0.080324</td>\n",
              "      <td>0.624125</td>\n",
              "      <td>0.108129</td>\n",
              "      <td>0.0</td>\n",
              "    </tr>\n",
              "    <tr>\n",
              "      <th>2</th>\n",
              "      <td>0.882667</td>\n",
              "      <td>0.197333</td>\n",
              "      <td>0.690667</td>\n",
              "      <td>0.301333</td>\n",
              "      <td>0.282667</td>\n",
              "      <td>0.080000</td>\n",
              "      <td>4.111159</td>\n",
              "      <td>0.391937</td>\n",
              "      <td>0.006638</td>\n",
              "      <td>0.000004</td>\n",
              "      <td>...</td>\n",
              "      <td>0.034813</td>\n",
              "      <td>0.081475</td>\n",
              "      <td>0.001886</td>\n",
              "      <td>0.074928</td>\n",
              "      <td>0.136091</td>\n",
              "      <td>0.034922</td>\n",
              "      <td>0.025508</td>\n",
              "      <td>1.069877</td>\n",
              "      <td>0.186582</td>\n",
              "      <td>0.0</td>\n",
              "    </tr>\n",
              "    <tr>\n",
              "      <th>3</th>\n",
              "      <td>0.815000</td>\n",
              "      <td>0.192000</td>\n",
              "      <td>0.633000</td>\n",
              "      <td>0.318000</td>\n",
              "      <td>0.384000</td>\n",
              "      <td>0.180000</td>\n",
              "      <td>2.928832</td>\n",
              "      <td>0.430963</td>\n",
              "      <td>0.001171</td>\n",
              "      <td>0.000136</td>\n",
              "      <td>...</td>\n",
              "      <td>0.019265</td>\n",
              "      <td>0.034220</td>\n",
              "      <td>0.011662</td>\n",
              "      <td>0.050388</td>\n",
              "      <td>0.108536</td>\n",
              "      <td>0.112250</td>\n",
              "      <td>0.116069</td>\n",
              "      <td>2.082582</td>\n",
              "      <td>0.138800</td>\n",
              "      <td>0.0</td>\n",
              "    </tr>\n",
              "    <tr>\n",
              "      <th>4</th>\n",
              "      <td>0.817000</td>\n",
              "      <td>0.182000</td>\n",
              "      <td>0.618000</td>\n",
              "      <td>0.402000</td>\n",
              "      <td>0.425000</td>\n",
              "      <td>0.241000</td>\n",
              "      <td>2.903233</td>\n",
              "      <td>0.533798</td>\n",
              "      <td>0.000171</td>\n",
              "      <td>0.000724</td>\n",
              "      <td>...</td>\n",
              "      <td>0.000086</td>\n",
              "      <td>0.013077</td>\n",
              "      <td>0.026907</td>\n",
              "      <td>0.018221</td>\n",
              "      <td>0.003464</td>\n",
              "      <td>0.127918</td>\n",
              "      <td>0.104857</td>\n",
              "      <td>2.519708</td>\n",
              "      <td>0.009300</td>\n",
              "      <td>0.0</td>\n",
              "    </tr>\n",
              "  </tbody>\n",
              "</table>\n",
              "<p>5 rows × 25 columns</p>\n",
              "</div>\n",
              "      <button class=\"colab-df-convert\" onclick=\"convertToInteractive('df-43fc75f4-fa5c-4e2b-9c5a-e9c4fa14021a')\"\n",
              "              title=\"Convert this dataframe to an interactive table.\"\n",
              "              style=\"display:none;\">\n",
              "        \n",
              "  <svg xmlns=\"http://www.w3.org/2000/svg\" height=\"24px\"viewBox=\"0 0 24 24\"\n",
              "       width=\"24px\">\n",
              "    <path d=\"M0 0h24v24H0V0z\" fill=\"none\"/>\n",
              "    <path d=\"M18.56 5.44l.94 2.06.94-2.06 2.06-.94-2.06-.94-.94-2.06-.94 2.06-2.06.94zm-11 1L8.5 8.5l.94-2.06 2.06-.94-2.06-.94L8.5 2.5l-.94 2.06-2.06.94zm10 10l.94 2.06.94-2.06 2.06-.94-2.06-.94-.94-2.06-.94 2.06-2.06.94z\"/><path d=\"M17.41 7.96l-1.37-1.37c-.4-.4-.92-.59-1.43-.59-.52 0-1.04.2-1.43.59L10.3 9.45l-7.72 7.72c-.78.78-.78 2.05 0 2.83L4 21.41c.39.39.9.59 1.41.59.51 0 1.02-.2 1.41-.59l7.78-7.78 2.81-2.81c.8-.78.8-2.07 0-2.86zM5.41 20L4 18.59l7.72-7.72 1.47 1.35L5.41 20z\"/>\n",
              "  </svg>\n",
              "      </button>\n",
              "      \n",
              "  <style>\n",
              "    .colab-df-container {\n",
              "      display:flex;\n",
              "      flex-wrap:wrap;\n",
              "      gap: 12px;\n",
              "    }\n",
              "\n",
              "    .colab-df-convert {\n",
              "      background-color: #E8F0FE;\n",
              "      border: none;\n",
              "      border-radius: 50%;\n",
              "      cursor: pointer;\n",
              "      display: none;\n",
              "      fill: #1967D2;\n",
              "      height: 32px;\n",
              "      padding: 0 0 0 0;\n",
              "      width: 32px;\n",
              "    }\n",
              "\n",
              "    .colab-df-convert:hover {\n",
              "      background-color: #E2EBFA;\n",
              "      box-shadow: 0px 1px 2px rgba(60, 64, 67, 0.3), 0px 1px 3px 1px rgba(60, 64, 67, 0.15);\n",
              "      fill: #174EA6;\n",
              "    }\n",
              "\n",
              "    [theme=dark] .colab-df-convert {\n",
              "      background-color: #3B4455;\n",
              "      fill: #D2E3FC;\n",
              "    }\n",
              "\n",
              "    [theme=dark] .colab-df-convert:hover {\n",
              "      background-color: #434B5C;\n",
              "      box-shadow: 0px 1px 3px 1px rgba(0, 0, 0, 0.15);\n",
              "      filter: drop-shadow(0px 1px 2px rgba(0, 0, 0, 0.3));\n",
              "      fill: #FFFFFF;\n",
              "    }\n",
              "  </style>\n",
              "\n",
              "      <script>\n",
              "        const buttonEl =\n",
              "          document.querySelector('#df-43fc75f4-fa5c-4e2b-9c5a-e9c4fa14021a button.colab-df-convert');\n",
              "        buttonEl.style.display =\n",
              "          google.colab.kernel.accessAllowed ? 'block' : 'none';\n",
              "\n",
              "        async function convertToInteractive(key) {\n",
              "          const element = document.querySelector('#df-43fc75f4-fa5c-4e2b-9c5a-e9c4fa14021a');\n",
              "          const dataTable =\n",
              "            await google.colab.kernel.invokeFunction('convertToInteractive',\n",
              "                                                     [key], {});\n",
              "          if (!dataTable) return;\n",
              "\n",
              "          const docLinkHtml = 'Like what you see? Visit the ' +\n",
              "            '<a target=\"_blank\" href=https://colab.research.google.com/notebooks/data_table.ipynb>data table notebook</a>'\n",
              "            + ' to learn more about interactive tables.';\n",
              "          element.innerHTML = '';\n",
              "          dataTable['output_type'] = 'display_data';\n",
              "          await google.colab.output.renderOutput(dataTable, element);\n",
              "          const docLink = document.createElement('div');\n",
              "          docLink.innerHTML = docLinkHtml;\n",
              "          element.appendChild(docLink);\n",
              "        }\n",
              "      </script>\n",
              "    </div>\n",
              "  </div>\n",
              "  "
            ]
          },
          "metadata": {},
          "execution_count": 20
        }
      ]
    },
    {
      "cell_type": "code",
      "source": [],
      "metadata": {
        "id": "bQgqEblZum1G"
      },
      "execution_count": null,
      "outputs": []
    }
  ]
}