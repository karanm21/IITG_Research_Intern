{
  "nbformat": 4,
  "nbformat_minor": 0,
  "metadata": {
    "colab": {
      "provenance": [],
      "authorship_tag": "ABX9TyNkoDFAiLva2/GjlvIVRy+7",
      "include_colab_link": true
    },
    "kernelspec": {
      "name": "python3",
      "display_name": "Python 3"
    },
    "language_info": {
      "name": "python"
    }
  },
  "cells": [
    {
      "cell_type": "markdown",
      "metadata": {
        "id": "view-in-github",
        "colab_type": "text"
      },
      "source": [
        "<a href=\"https://colab.research.google.com/github/karanm21/IITG_Research_Intern/blob/main/IITG_features_model.ipynb\" target=\"_parent\"><img src=\"https://colab.research.google.com/assets/colab-badge.svg\" alt=\"Open In Colab\"/></a>"
      ]
    },
    {
      "cell_type": "code",
      "execution_count": null,
      "metadata": {
        "id": "HFx0Pe5JkOKH"
      },
      "outputs": [],
      "source": [
        "import pandas as pd"
      ]
    },
    {
      "cell_type": "code",
      "source": [
        "from google.colab import drive\n",
        "drive.mount('/content/drive')"
      ],
      "metadata": {
        "colab": {
          "base_uri": "https://localhost:8080/"
        },
        "id": "FYN5M9bPkWu-",
        "outputId": "32fa796d-4c8a-40b9-d3b5-8f9ab881600a"
      },
      "execution_count": null,
      "outputs": [
        {
          "output_type": "stream",
          "name": "stdout",
          "text": [
            "Mounted at /content/drive\n"
          ]
        }
      ]
    },
    {
      "cell_type": "code",
      "source": [
        "path= \"/content/drive/MyDrive/IITG /features_dataset/S_features.csv\"\n",
        "dfS= pd.read_csv(path)"
      ],
      "metadata": {
        "id": "JWpvwPvhkYKs"
      },
      "execution_count": null,
      "outputs": []
    },
    {
      "cell_type": "code",
      "source": [
        "path1= \"/content/drive/MyDrive/IITG /features_dataset/V_features.csv\"\n",
        "dfV= pd.read_csv(path1)"
      ],
      "metadata": {
        "id": "nl_b76fukfr7"
      },
      "execution_count": null,
      "outputs": []
    },
    {
      "cell_type": "code",
      "source": [
        "dfS.TRAIN.value_counts()"
      ],
      "metadata": {
        "colab": {
          "base_uri": "https://localhost:8080/"
        },
        "id": "_X5vLCU8lf2Q",
        "outputId": "1487172f-0a7f-4ad2-ea09-de4d2d757d2c"
      },
      "execution_count": null,
      "outputs": [
        {
          "output_type": "execute_result",
          "data": {
            "text/plain": [
              "N    6125\n",
              "S    5903\n",
              "Name: TRAIN, dtype: int64"
            ]
          },
          "metadata": {},
          "execution_count": 6
        }
      ]
    },
    {
      "cell_type": "code",
      "source": [
        "dfV.TRAIN.value_counts()"
      ],
      "metadata": {
        "colab": {
          "base_uri": "https://localhost:8080/"
        },
        "id": "eFglLilHlu7C",
        "outputId": "ebf7dda4-49a3-4696-bcd3-a0c8909ba0b4"
      },
      "execution_count": null,
      "outputs": [
        {
          "output_type": "execute_result",
          "data": {
            "text/plain": [
              "V    6747\n",
              "N    5285\n",
              "Name: TRAIN, dtype: int64"
            ]
          },
          "metadata": {},
          "execution_count": 7
        }
      ]
    },
    {
      "cell_type": "code",
      "source": [
        "dfS= dfS.drop(['Unnamed: 0'], axis=1)\n",
        "dfV= dfV.drop(['Unnamed: 0'], axis=1)"
      ],
      "metadata": {
        "id": "E7XgICB8lzly"
      },
      "execution_count": null,
      "outputs": []
    },
    {
      "cell_type": "code",
      "source": [
        "frames= [dfV, dfS]\n",
        "df= pd.concat(frames, ignore_index=False)"
      ],
      "metadata": {
        "id": "MdrzeooTl7Vo"
      },
      "execution_count": null,
      "outputs": []
    },
    {
      "cell_type": "code",
      "source": [
        "df.shape"
      ],
      "metadata": {
        "colab": {
          "base_uri": "https://localhost:8080/"
        },
        "id": "3IHJyxYwl-gl",
        "outputId": "e91a1b15-8fb7-434a-8582-993ed23b393b"
      },
      "execution_count": null,
      "outputs": [
        {
          "output_type": "execute_result",
          "data": {
            "text/plain": [
              "(24060, 25)"
            ]
          },
          "metadata": {},
          "execution_count": 10
        }
      ]
    },
    {
      "cell_type": "code",
      "source": [
        "df.dropna(inplace=True)"
      ],
      "metadata": {
        "id": "UqN8u70smAy6"
      },
      "execution_count": null,
      "outputs": []
    },
    {
      "cell_type": "code",
      "source": [
        "df.shape"
      ],
      "metadata": {
        "colab": {
          "base_uri": "https://localhost:8080/"
        },
        "id": "es0auSPdmDfY",
        "outputId": "7702678e-a55f-4d42-f417-8097af1d521d"
      },
      "execution_count": null,
      "outputs": [
        {
          "output_type": "execute_result",
          "data": {
            "text/plain": [
              "(24060, 25)"
            ]
          },
          "metadata": {},
          "execution_count": 12
        }
      ]
    },
    {
      "cell_type": "code",
      "source": [
        "df = df.sample(frac=1).reset_index(drop=True)\n",
        "df.head()"
      ],
      "metadata": {
        "colab": {
          "base_uri": "https://localhost:8080/",
          "height": 299
        },
        "id": "G41D-DQEmEWa",
        "outputId": "d4366f99-5256-42d2-d00c-31a29acfe813"
      },
      "execution_count": null,
      "outputs": [
        {
          "output_type": "execute_result",
          "data": {
            "text/plain": [
              "   RRmean  PQmean  QPmean  RTmean  PSmean  QRSmean  ICEBmean   QTCmean  \\\n",
              "0   0.715   0.110   0.602   0.334   0.284    0.171  2.531378  0.604370   \n",
              "1   0.732   0.111   0.616   0.345   0.283    0.175  2.534713  0.603703   \n",
              "2   2.164   0.144   2.040   0.208   0.276    0.080  2.900000  0.107209   \n",
              "3   2.304   0.072   2.164   0.440   0.424    0.320  1.637500  0.227431   \n",
              "4   0.891   0.243   0.639   0.373   0.342    0.099  4.353877  0.493961   \n",
              "\n",
              "      RRvar     PQvar  ...    QTCvar     RRstd     PQstd     QPstd     RTstd  \\\n",
              "0  0.000587  0.000020  ...  0.000029  0.024228  0.004472  0.021260  0.010000   \n",
              "1  0.000152  0.000051  ...  0.000294  0.012329  0.007141  0.012961  0.014799   \n",
              "2  0.000000  0.000000  ...  0.000000  0.000000  0.000000  0.000000  0.000000   \n",
              "3  0.000000  0.000000  ...  0.000000  0.000000  0.000000  0.000000  0.000000   \n",
              "4  0.010035  0.005987  ...  0.016484  0.100175  0.077376  0.093782  0.072409   \n",
              "\n",
              "      PSstd    QRSstd   ICEBstd    QTCstd  TRAIN  \n",
              "0  0.002828  0.007141  0.136793  0.005356      V  \n",
              "1  0.006557  0.007681  0.208555  0.017135      V  \n",
              "2  0.000000  0.000000  0.000000  0.000000      N  \n",
              "3  0.000000  0.000000  0.000000  0.000000      S  \n",
              "4  0.070000  0.016823  0.304594  0.128390      S  \n",
              "\n",
              "[5 rows x 25 columns]"
            ],
            "text/html": [
              "\n",
              "  <div id=\"df-10ac0ff6-5166-4577-9a9d-112f788012e5\">\n",
              "    <div class=\"colab-df-container\">\n",
              "      <div>\n",
              "<style scoped>\n",
              "    .dataframe tbody tr th:only-of-type {\n",
              "        vertical-align: middle;\n",
              "    }\n",
              "\n",
              "    .dataframe tbody tr th {\n",
              "        vertical-align: top;\n",
              "    }\n",
              "\n",
              "    .dataframe thead th {\n",
              "        text-align: right;\n",
              "    }\n",
              "</style>\n",
              "<table border=\"1\" class=\"dataframe\">\n",
              "  <thead>\n",
              "    <tr style=\"text-align: right;\">\n",
              "      <th></th>\n",
              "      <th>RRmean</th>\n",
              "      <th>PQmean</th>\n",
              "      <th>QPmean</th>\n",
              "      <th>RTmean</th>\n",
              "      <th>PSmean</th>\n",
              "      <th>QRSmean</th>\n",
              "      <th>ICEBmean</th>\n",
              "      <th>QTCmean</th>\n",
              "      <th>RRvar</th>\n",
              "      <th>PQvar</th>\n",
              "      <th>...</th>\n",
              "      <th>QTCvar</th>\n",
              "      <th>RRstd</th>\n",
              "      <th>PQstd</th>\n",
              "      <th>QPstd</th>\n",
              "      <th>RTstd</th>\n",
              "      <th>PSstd</th>\n",
              "      <th>QRSstd</th>\n",
              "      <th>ICEBstd</th>\n",
              "      <th>QTCstd</th>\n",
              "      <th>TRAIN</th>\n",
              "    </tr>\n",
              "  </thead>\n",
              "  <tbody>\n",
              "    <tr>\n",
              "      <th>0</th>\n",
              "      <td>0.715</td>\n",
              "      <td>0.110</td>\n",
              "      <td>0.602</td>\n",
              "      <td>0.334</td>\n",
              "      <td>0.284</td>\n",
              "      <td>0.171</td>\n",
              "      <td>2.531378</td>\n",
              "      <td>0.604370</td>\n",
              "      <td>0.000587</td>\n",
              "      <td>0.000020</td>\n",
              "      <td>...</td>\n",
              "      <td>0.000029</td>\n",
              "      <td>0.024228</td>\n",
              "      <td>0.004472</td>\n",
              "      <td>0.021260</td>\n",
              "      <td>0.010000</td>\n",
              "      <td>0.002828</td>\n",
              "      <td>0.007141</td>\n",
              "      <td>0.136793</td>\n",
              "      <td>0.005356</td>\n",
              "      <td>V</td>\n",
              "    </tr>\n",
              "    <tr>\n",
              "      <th>1</th>\n",
              "      <td>0.732</td>\n",
              "      <td>0.111</td>\n",
              "      <td>0.616</td>\n",
              "      <td>0.345</td>\n",
              "      <td>0.283</td>\n",
              "      <td>0.175</td>\n",
              "      <td>2.534713</td>\n",
              "      <td>0.603703</td>\n",
              "      <td>0.000152</td>\n",
              "      <td>0.000051</td>\n",
              "      <td>...</td>\n",
              "      <td>0.000294</td>\n",
              "      <td>0.012329</td>\n",
              "      <td>0.007141</td>\n",
              "      <td>0.012961</td>\n",
              "      <td>0.014799</td>\n",
              "      <td>0.006557</td>\n",
              "      <td>0.007681</td>\n",
              "      <td>0.208555</td>\n",
              "      <td>0.017135</td>\n",
              "      <td>V</td>\n",
              "    </tr>\n",
              "    <tr>\n",
              "      <th>2</th>\n",
              "      <td>2.164</td>\n",
              "      <td>0.144</td>\n",
              "      <td>2.040</td>\n",
              "      <td>0.208</td>\n",
              "      <td>0.276</td>\n",
              "      <td>0.080</td>\n",
              "      <td>2.900000</td>\n",
              "      <td>0.107209</td>\n",
              "      <td>0.000000</td>\n",
              "      <td>0.000000</td>\n",
              "      <td>...</td>\n",
              "      <td>0.000000</td>\n",
              "      <td>0.000000</td>\n",
              "      <td>0.000000</td>\n",
              "      <td>0.000000</td>\n",
              "      <td>0.000000</td>\n",
              "      <td>0.000000</td>\n",
              "      <td>0.000000</td>\n",
              "      <td>0.000000</td>\n",
              "      <td>0.000000</td>\n",
              "      <td>N</td>\n",
              "    </tr>\n",
              "    <tr>\n",
              "      <th>3</th>\n",
              "      <td>2.304</td>\n",
              "      <td>0.072</td>\n",
              "      <td>2.164</td>\n",
              "      <td>0.440</td>\n",
              "      <td>0.424</td>\n",
              "      <td>0.320</td>\n",
              "      <td>1.637500</td>\n",
              "      <td>0.227431</td>\n",
              "      <td>0.000000</td>\n",
              "      <td>0.000000</td>\n",
              "      <td>...</td>\n",
              "      <td>0.000000</td>\n",
              "      <td>0.000000</td>\n",
              "      <td>0.000000</td>\n",
              "      <td>0.000000</td>\n",
              "      <td>0.000000</td>\n",
              "      <td>0.000000</td>\n",
              "      <td>0.000000</td>\n",
              "      <td>0.000000</td>\n",
              "      <td>0.000000</td>\n",
              "      <td>S</td>\n",
              "    </tr>\n",
              "    <tr>\n",
              "      <th>4</th>\n",
              "      <td>0.891</td>\n",
              "      <td>0.243</td>\n",
              "      <td>0.639</td>\n",
              "      <td>0.373</td>\n",
              "      <td>0.342</td>\n",
              "      <td>0.099</td>\n",
              "      <td>4.353877</td>\n",
              "      <td>0.493961</td>\n",
              "      <td>0.010035</td>\n",
              "      <td>0.005987</td>\n",
              "      <td>...</td>\n",
              "      <td>0.016484</td>\n",
              "      <td>0.100175</td>\n",
              "      <td>0.077376</td>\n",
              "      <td>0.093782</td>\n",
              "      <td>0.072409</td>\n",
              "      <td>0.070000</td>\n",
              "      <td>0.016823</td>\n",
              "      <td>0.304594</td>\n",
              "      <td>0.128390</td>\n",
              "      <td>S</td>\n",
              "    </tr>\n",
              "  </tbody>\n",
              "</table>\n",
              "<p>5 rows × 25 columns</p>\n",
              "</div>\n",
              "      <button class=\"colab-df-convert\" onclick=\"convertToInteractive('df-10ac0ff6-5166-4577-9a9d-112f788012e5')\"\n",
              "              title=\"Convert this dataframe to an interactive table.\"\n",
              "              style=\"display:none;\">\n",
              "        \n",
              "  <svg xmlns=\"http://www.w3.org/2000/svg\" height=\"24px\"viewBox=\"0 0 24 24\"\n",
              "       width=\"24px\">\n",
              "    <path d=\"M0 0h24v24H0V0z\" fill=\"none\"/>\n",
              "    <path d=\"M18.56 5.44l.94 2.06.94-2.06 2.06-.94-2.06-.94-.94-2.06-.94 2.06-2.06.94zm-11 1L8.5 8.5l.94-2.06 2.06-.94-2.06-.94L8.5 2.5l-.94 2.06-2.06.94zm10 10l.94 2.06.94-2.06 2.06-.94-2.06-.94-.94-2.06-.94 2.06-2.06.94z\"/><path d=\"M17.41 7.96l-1.37-1.37c-.4-.4-.92-.59-1.43-.59-.52 0-1.04.2-1.43.59L10.3 9.45l-7.72 7.72c-.78.78-.78 2.05 0 2.83L4 21.41c.39.39.9.59 1.41.59.51 0 1.02-.2 1.41-.59l7.78-7.78 2.81-2.81c.8-.78.8-2.07 0-2.86zM5.41 20L4 18.59l7.72-7.72 1.47 1.35L5.41 20z\"/>\n",
              "  </svg>\n",
              "      </button>\n",
              "      \n",
              "  <style>\n",
              "    .colab-df-container {\n",
              "      display:flex;\n",
              "      flex-wrap:wrap;\n",
              "      gap: 12px;\n",
              "    }\n",
              "\n",
              "    .colab-df-convert {\n",
              "      background-color: #E8F0FE;\n",
              "      border: none;\n",
              "      border-radius: 50%;\n",
              "      cursor: pointer;\n",
              "      display: none;\n",
              "      fill: #1967D2;\n",
              "      height: 32px;\n",
              "      padding: 0 0 0 0;\n",
              "      width: 32px;\n",
              "    }\n",
              "\n",
              "    .colab-df-convert:hover {\n",
              "      background-color: #E2EBFA;\n",
              "      box-shadow: 0px 1px 2px rgba(60, 64, 67, 0.3), 0px 1px 3px 1px rgba(60, 64, 67, 0.15);\n",
              "      fill: #174EA6;\n",
              "    }\n",
              "\n",
              "    [theme=dark] .colab-df-convert {\n",
              "      background-color: #3B4455;\n",
              "      fill: #D2E3FC;\n",
              "    }\n",
              "\n",
              "    [theme=dark] .colab-df-convert:hover {\n",
              "      background-color: #434B5C;\n",
              "      box-shadow: 0px 1px 3px 1px rgba(0, 0, 0, 0.15);\n",
              "      filter: drop-shadow(0px 1px 2px rgba(0, 0, 0, 0.3));\n",
              "      fill: #FFFFFF;\n",
              "    }\n",
              "  </style>\n",
              "\n",
              "      <script>\n",
              "        const buttonEl =\n",
              "          document.querySelector('#df-10ac0ff6-5166-4577-9a9d-112f788012e5 button.colab-df-convert');\n",
              "        buttonEl.style.display =\n",
              "          google.colab.kernel.accessAllowed ? 'block' : 'none';\n",
              "\n",
              "        async function convertToInteractive(key) {\n",
              "          const element = document.querySelector('#df-10ac0ff6-5166-4577-9a9d-112f788012e5');\n",
              "          const dataTable =\n",
              "            await google.colab.kernel.invokeFunction('convertToInteractive',\n",
              "                                                     [key], {});\n",
              "          if (!dataTable) return;\n",
              "\n",
              "          const docLinkHtml = 'Like what you see? Visit the ' +\n",
              "            '<a target=\"_blank\" href=https://colab.research.google.com/notebooks/data_table.ipynb>data table notebook</a>'\n",
              "            + ' to learn more about interactive tables.';\n",
              "          element.innerHTML = '';\n",
              "          dataTable['output_type'] = 'display_data';\n",
              "          await google.colab.output.renderOutput(dataTable, element);\n",
              "          const docLink = document.createElement('div');\n",
              "          docLink.innerHTML = docLinkHtml;\n",
              "          element.appendChild(docLink);\n",
              "        }\n",
              "      </script>\n",
              "    </div>\n",
              "  </div>\n",
              "  "
            ]
          },
          "metadata": {},
          "execution_count": 13
        }
      ]
    },
    {
      "cell_type": "code",
      "source": [
        "import keras\n",
        "from keras import optimizers, losses, activations, models, layers\n",
        "from keras.layers import Conv1D , MaxPooling1D , Dense , Dropout ,GlobalMaxPooling1D , Input, Activation\n",
        "from keras.optimizers import Adam\n",
        "from sklearn.preprocessing import StandardScaler\n",
        "from sklearn.model_selection import train_test_split\n",
        "from sklearn.metrics import confusion_matrix\n",
        "from sklearn.metrics import classification_report"
      ],
      "metadata": {
        "id": "c8NsiYU7nqKp"
      },
      "execution_count": null,
      "outputs": []
    },
    {
      "cell_type": "code",
      "source": [
        "from sklearn.model_selection import StratifiedKFold\n",
        "from sklearn.metrics import confusion_matrix"
      ],
      "metadata": {
        "id": "6ioi87LgmGNu"
      },
      "execution_count": null,
      "outputs": []
    },
    {
      "cell_type": "code",
      "source": [
        "# Here we calculate the 10 fold cross validation results by considering the entire set of 24 features.\n"
      ],
      "metadata": {
        "id": "c202rG8mmSDY"
      },
      "execution_count": null,
      "outputs": []
    },
    {
      "cell_type": "code",
      "source": [
        "import numpy as np"
      ],
      "metadata": {
        "id": "QyqJkmVLmodU"
      },
      "execution_count": null,
      "outputs": []
    },
    {
      "cell_type": "code",
      "source": [
        "seed = 8\n",
        "np.random.seed(seed)\n",
        "\n",
        "size = 24\n",
        "X_data = df.iloc[0:,0:size]\n",
        "y_data = df.iloc[0:,24:25]"
      ],
      "metadata": {
        "id": "I0DsNO9Nmj3U"
      },
      "execution_count": null,
      "outputs": []
    },
    {
      "cell_type": "code",
      "source": [
        "X_data.head()"
      ],
      "metadata": {
        "colab": {
          "base_uri": "https://localhost:8080/",
          "height": 299
        },
        "id": "f-eHPLKsmsJA",
        "outputId": "31c3b24b-cc85-4f2c-8a99-f2ea32788639"
      },
      "execution_count": null,
      "outputs": [
        {
          "output_type": "execute_result",
          "data": {
            "text/plain": [
              "   RRmean  PQmean  QPmean  RTmean  PSmean  QRSmean  ICEBmean   QTCmean  \\\n",
              "0   0.715   0.110   0.602   0.334   0.284    0.171  2.531378  0.604370   \n",
              "1   0.732   0.111   0.616   0.345   0.283    0.175  2.534713  0.603703   \n",
              "2   2.164   0.144   2.040   0.208   0.276    0.080  2.900000  0.107209   \n",
              "3   2.304   0.072   2.164   0.440   0.424    0.320  1.637500  0.227431   \n",
              "4   0.891   0.243   0.639   0.373   0.342    0.099  4.353877  0.493961   \n",
              "\n",
              "      RRvar     PQvar  ...   ICEBvar    QTCvar     RRstd     PQstd     QPstd  \\\n",
              "0  0.000587  0.000020  ...  0.018712  0.000029  0.024228  0.004472  0.021260   \n",
              "1  0.000152  0.000051  ...  0.043495  0.000294  0.012329  0.007141  0.012961   \n",
              "2  0.000000  0.000000  ...  0.000000  0.000000  0.000000  0.000000  0.000000   \n",
              "3  0.000000  0.000000  ...  0.000000  0.000000  0.000000  0.000000  0.000000   \n",
              "4  0.010035  0.005987  ...  0.092778  0.016484  0.100175  0.077376  0.093782   \n",
              "\n",
              "      RTstd     PSstd    QRSstd   ICEBstd    QTCstd  \n",
              "0  0.010000  0.002828  0.007141  0.136793  0.005356  \n",
              "1  0.014799  0.006557  0.007681  0.208555  0.017135  \n",
              "2  0.000000  0.000000  0.000000  0.000000  0.000000  \n",
              "3  0.000000  0.000000  0.000000  0.000000  0.000000  \n",
              "4  0.072409  0.070000  0.016823  0.304594  0.128390  \n",
              "\n",
              "[5 rows x 24 columns]"
            ],
            "text/html": [
              "\n",
              "  <div id=\"df-528ec8d6-d18f-4f08-8e29-6a66270c8371\">\n",
              "    <div class=\"colab-df-container\">\n",
              "      <div>\n",
              "<style scoped>\n",
              "    .dataframe tbody tr th:only-of-type {\n",
              "        vertical-align: middle;\n",
              "    }\n",
              "\n",
              "    .dataframe tbody tr th {\n",
              "        vertical-align: top;\n",
              "    }\n",
              "\n",
              "    .dataframe thead th {\n",
              "        text-align: right;\n",
              "    }\n",
              "</style>\n",
              "<table border=\"1\" class=\"dataframe\">\n",
              "  <thead>\n",
              "    <tr style=\"text-align: right;\">\n",
              "      <th></th>\n",
              "      <th>RRmean</th>\n",
              "      <th>PQmean</th>\n",
              "      <th>QPmean</th>\n",
              "      <th>RTmean</th>\n",
              "      <th>PSmean</th>\n",
              "      <th>QRSmean</th>\n",
              "      <th>ICEBmean</th>\n",
              "      <th>QTCmean</th>\n",
              "      <th>RRvar</th>\n",
              "      <th>PQvar</th>\n",
              "      <th>...</th>\n",
              "      <th>ICEBvar</th>\n",
              "      <th>QTCvar</th>\n",
              "      <th>RRstd</th>\n",
              "      <th>PQstd</th>\n",
              "      <th>QPstd</th>\n",
              "      <th>RTstd</th>\n",
              "      <th>PSstd</th>\n",
              "      <th>QRSstd</th>\n",
              "      <th>ICEBstd</th>\n",
              "      <th>QTCstd</th>\n",
              "    </tr>\n",
              "  </thead>\n",
              "  <tbody>\n",
              "    <tr>\n",
              "      <th>0</th>\n",
              "      <td>0.715</td>\n",
              "      <td>0.110</td>\n",
              "      <td>0.602</td>\n",
              "      <td>0.334</td>\n",
              "      <td>0.284</td>\n",
              "      <td>0.171</td>\n",
              "      <td>2.531378</td>\n",
              "      <td>0.604370</td>\n",
              "      <td>0.000587</td>\n",
              "      <td>0.000020</td>\n",
              "      <td>...</td>\n",
              "      <td>0.018712</td>\n",
              "      <td>0.000029</td>\n",
              "      <td>0.024228</td>\n",
              "      <td>0.004472</td>\n",
              "      <td>0.021260</td>\n",
              "      <td>0.010000</td>\n",
              "      <td>0.002828</td>\n",
              "      <td>0.007141</td>\n",
              "      <td>0.136793</td>\n",
              "      <td>0.005356</td>\n",
              "    </tr>\n",
              "    <tr>\n",
              "      <th>1</th>\n",
              "      <td>0.732</td>\n",
              "      <td>0.111</td>\n",
              "      <td>0.616</td>\n",
              "      <td>0.345</td>\n",
              "      <td>0.283</td>\n",
              "      <td>0.175</td>\n",
              "      <td>2.534713</td>\n",
              "      <td>0.603703</td>\n",
              "      <td>0.000152</td>\n",
              "      <td>0.000051</td>\n",
              "      <td>...</td>\n",
              "      <td>0.043495</td>\n",
              "      <td>0.000294</td>\n",
              "      <td>0.012329</td>\n",
              "      <td>0.007141</td>\n",
              "      <td>0.012961</td>\n",
              "      <td>0.014799</td>\n",
              "      <td>0.006557</td>\n",
              "      <td>0.007681</td>\n",
              "      <td>0.208555</td>\n",
              "      <td>0.017135</td>\n",
              "    </tr>\n",
              "    <tr>\n",
              "      <th>2</th>\n",
              "      <td>2.164</td>\n",
              "      <td>0.144</td>\n",
              "      <td>2.040</td>\n",
              "      <td>0.208</td>\n",
              "      <td>0.276</td>\n",
              "      <td>0.080</td>\n",
              "      <td>2.900000</td>\n",
              "      <td>0.107209</td>\n",
              "      <td>0.000000</td>\n",
              "      <td>0.000000</td>\n",
              "      <td>...</td>\n",
              "      <td>0.000000</td>\n",
              "      <td>0.000000</td>\n",
              "      <td>0.000000</td>\n",
              "      <td>0.000000</td>\n",
              "      <td>0.000000</td>\n",
              "      <td>0.000000</td>\n",
              "      <td>0.000000</td>\n",
              "      <td>0.000000</td>\n",
              "      <td>0.000000</td>\n",
              "      <td>0.000000</td>\n",
              "    </tr>\n",
              "    <tr>\n",
              "      <th>3</th>\n",
              "      <td>2.304</td>\n",
              "      <td>0.072</td>\n",
              "      <td>2.164</td>\n",
              "      <td>0.440</td>\n",
              "      <td>0.424</td>\n",
              "      <td>0.320</td>\n",
              "      <td>1.637500</td>\n",
              "      <td>0.227431</td>\n",
              "      <td>0.000000</td>\n",
              "      <td>0.000000</td>\n",
              "      <td>...</td>\n",
              "      <td>0.000000</td>\n",
              "      <td>0.000000</td>\n",
              "      <td>0.000000</td>\n",
              "      <td>0.000000</td>\n",
              "      <td>0.000000</td>\n",
              "      <td>0.000000</td>\n",
              "      <td>0.000000</td>\n",
              "      <td>0.000000</td>\n",
              "      <td>0.000000</td>\n",
              "      <td>0.000000</td>\n",
              "    </tr>\n",
              "    <tr>\n",
              "      <th>4</th>\n",
              "      <td>0.891</td>\n",
              "      <td>0.243</td>\n",
              "      <td>0.639</td>\n",
              "      <td>0.373</td>\n",
              "      <td>0.342</td>\n",
              "      <td>0.099</td>\n",
              "      <td>4.353877</td>\n",
              "      <td>0.493961</td>\n",
              "      <td>0.010035</td>\n",
              "      <td>0.005987</td>\n",
              "      <td>...</td>\n",
              "      <td>0.092778</td>\n",
              "      <td>0.016484</td>\n",
              "      <td>0.100175</td>\n",
              "      <td>0.077376</td>\n",
              "      <td>0.093782</td>\n",
              "      <td>0.072409</td>\n",
              "      <td>0.070000</td>\n",
              "      <td>0.016823</td>\n",
              "      <td>0.304594</td>\n",
              "      <td>0.128390</td>\n",
              "    </tr>\n",
              "  </tbody>\n",
              "</table>\n",
              "<p>5 rows × 24 columns</p>\n",
              "</div>\n",
              "      <button class=\"colab-df-convert\" onclick=\"convertToInteractive('df-528ec8d6-d18f-4f08-8e29-6a66270c8371')\"\n",
              "              title=\"Convert this dataframe to an interactive table.\"\n",
              "              style=\"display:none;\">\n",
              "        \n",
              "  <svg xmlns=\"http://www.w3.org/2000/svg\" height=\"24px\"viewBox=\"0 0 24 24\"\n",
              "       width=\"24px\">\n",
              "    <path d=\"M0 0h24v24H0V0z\" fill=\"none\"/>\n",
              "    <path d=\"M18.56 5.44l.94 2.06.94-2.06 2.06-.94-2.06-.94-.94-2.06-.94 2.06-2.06.94zm-11 1L8.5 8.5l.94-2.06 2.06-.94-2.06-.94L8.5 2.5l-.94 2.06-2.06.94zm10 10l.94 2.06.94-2.06 2.06-.94-2.06-.94-.94-2.06-.94 2.06-2.06.94z\"/><path d=\"M17.41 7.96l-1.37-1.37c-.4-.4-.92-.59-1.43-.59-.52 0-1.04.2-1.43.59L10.3 9.45l-7.72 7.72c-.78.78-.78 2.05 0 2.83L4 21.41c.39.39.9.59 1.41.59.51 0 1.02-.2 1.41-.59l7.78-7.78 2.81-2.81c.8-.78.8-2.07 0-2.86zM5.41 20L4 18.59l7.72-7.72 1.47 1.35L5.41 20z\"/>\n",
              "  </svg>\n",
              "      </button>\n",
              "      \n",
              "  <style>\n",
              "    .colab-df-container {\n",
              "      display:flex;\n",
              "      flex-wrap:wrap;\n",
              "      gap: 12px;\n",
              "    }\n",
              "\n",
              "    .colab-df-convert {\n",
              "      background-color: #E8F0FE;\n",
              "      border: none;\n",
              "      border-radius: 50%;\n",
              "      cursor: pointer;\n",
              "      display: none;\n",
              "      fill: #1967D2;\n",
              "      height: 32px;\n",
              "      padding: 0 0 0 0;\n",
              "      width: 32px;\n",
              "    }\n",
              "\n",
              "    .colab-df-convert:hover {\n",
              "      background-color: #E2EBFA;\n",
              "      box-shadow: 0px 1px 2px rgba(60, 64, 67, 0.3), 0px 1px 3px 1px rgba(60, 64, 67, 0.15);\n",
              "      fill: #174EA6;\n",
              "    }\n",
              "\n",
              "    [theme=dark] .colab-df-convert {\n",
              "      background-color: #3B4455;\n",
              "      fill: #D2E3FC;\n",
              "    }\n",
              "\n",
              "    [theme=dark] .colab-df-convert:hover {\n",
              "      background-color: #434B5C;\n",
              "      box-shadow: 0px 1px 3px 1px rgba(0, 0, 0, 0.15);\n",
              "      filter: drop-shadow(0px 1px 2px rgba(0, 0, 0, 0.3));\n",
              "      fill: #FFFFFF;\n",
              "    }\n",
              "  </style>\n",
              "\n",
              "      <script>\n",
              "        const buttonEl =\n",
              "          document.querySelector('#df-528ec8d6-d18f-4f08-8e29-6a66270c8371 button.colab-df-convert');\n",
              "        buttonEl.style.display =\n",
              "          google.colab.kernel.accessAllowed ? 'block' : 'none';\n",
              "\n",
              "        async function convertToInteractive(key) {\n",
              "          const element = document.querySelector('#df-528ec8d6-d18f-4f08-8e29-6a66270c8371');\n",
              "          const dataTable =\n",
              "            await google.colab.kernel.invokeFunction('convertToInteractive',\n",
              "                                                     [key], {});\n",
              "          if (!dataTable) return;\n",
              "\n",
              "          const docLinkHtml = 'Like what you see? Visit the ' +\n",
              "            '<a target=\"_blank\" href=https://colab.research.google.com/notebooks/data_table.ipynb>data table notebook</a>'\n",
              "            + ' to learn more about interactive tables.';\n",
              "          element.innerHTML = '';\n",
              "          dataTable['output_type'] = 'display_data';\n",
              "          await google.colab.output.renderOutput(dataTable, element);\n",
              "          const docLink = document.createElement('div');\n",
              "          docLink.innerHTML = docLinkHtml;\n",
              "          element.appendChild(docLink);\n",
              "        }\n",
              "      </script>\n",
              "    </div>\n",
              "  </div>\n",
              "  "
            ]
          },
          "metadata": {},
          "execution_count": 19
        }
      ]
    },
    {
      "cell_type": "code",
      "source": [
        "y_data.head()"
      ],
      "metadata": {
        "colab": {
          "base_uri": "https://localhost:8080/",
          "height": 206
        },
        "id": "ET0ePzD-mtzP",
        "outputId": "df55e1da-9e9f-4229-cd64-1854e822aa0b"
      },
      "execution_count": null,
      "outputs": [
        {
          "output_type": "execute_result",
          "data": {
            "text/plain": [
              "  TRAIN\n",
              "0     V\n",
              "1     V\n",
              "2     N\n",
              "3     S\n",
              "4     S"
            ],
            "text/html": [
              "\n",
              "  <div id=\"df-55484b60-b3c0-467b-bfd8-559a5ca42f77\">\n",
              "    <div class=\"colab-df-container\">\n",
              "      <div>\n",
              "<style scoped>\n",
              "    .dataframe tbody tr th:only-of-type {\n",
              "        vertical-align: middle;\n",
              "    }\n",
              "\n",
              "    .dataframe tbody tr th {\n",
              "        vertical-align: top;\n",
              "    }\n",
              "\n",
              "    .dataframe thead th {\n",
              "        text-align: right;\n",
              "    }\n",
              "</style>\n",
              "<table border=\"1\" class=\"dataframe\">\n",
              "  <thead>\n",
              "    <tr style=\"text-align: right;\">\n",
              "      <th></th>\n",
              "      <th>TRAIN</th>\n",
              "    </tr>\n",
              "  </thead>\n",
              "  <tbody>\n",
              "    <tr>\n",
              "      <th>0</th>\n",
              "      <td>V</td>\n",
              "    </tr>\n",
              "    <tr>\n",
              "      <th>1</th>\n",
              "      <td>V</td>\n",
              "    </tr>\n",
              "    <tr>\n",
              "      <th>2</th>\n",
              "      <td>N</td>\n",
              "    </tr>\n",
              "    <tr>\n",
              "      <th>3</th>\n",
              "      <td>S</td>\n",
              "    </tr>\n",
              "    <tr>\n",
              "      <th>4</th>\n",
              "      <td>S</td>\n",
              "    </tr>\n",
              "  </tbody>\n",
              "</table>\n",
              "</div>\n",
              "      <button class=\"colab-df-convert\" onclick=\"convertToInteractive('df-55484b60-b3c0-467b-bfd8-559a5ca42f77')\"\n",
              "              title=\"Convert this dataframe to an interactive table.\"\n",
              "              style=\"display:none;\">\n",
              "        \n",
              "  <svg xmlns=\"http://www.w3.org/2000/svg\" height=\"24px\"viewBox=\"0 0 24 24\"\n",
              "       width=\"24px\">\n",
              "    <path d=\"M0 0h24v24H0V0z\" fill=\"none\"/>\n",
              "    <path d=\"M18.56 5.44l.94 2.06.94-2.06 2.06-.94-2.06-.94-.94-2.06-.94 2.06-2.06.94zm-11 1L8.5 8.5l.94-2.06 2.06-.94-2.06-.94L8.5 2.5l-.94 2.06-2.06.94zm10 10l.94 2.06.94-2.06 2.06-.94-2.06-.94-.94-2.06-.94 2.06-2.06.94z\"/><path d=\"M17.41 7.96l-1.37-1.37c-.4-.4-.92-.59-1.43-.59-.52 0-1.04.2-1.43.59L10.3 9.45l-7.72 7.72c-.78.78-.78 2.05 0 2.83L4 21.41c.39.39.9.59 1.41.59.51 0 1.02-.2 1.41-.59l7.78-7.78 2.81-2.81c.8-.78.8-2.07 0-2.86zM5.41 20L4 18.59l7.72-7.72 1.47 1.35L5.41 20z\"/>\n",
              "  </svg>\n",
              "      </button>\n",
              "      \n",
              "  <style>\n",
              "    .colab-df-container {\n",
              "      display:flex;\n",
              "      flex-wrap:wrap;\n",
              "      gap: 12px;\n",
              "    }\n",
              "\n",
              "    .colab-df-convert {\n",
              "      background-color: #E8F0FE;\n",
              "      border: none;\n",
              "      border-radius: 50%;\n",
              "      cursor: pointer;\n",
              "      display: none;\n",
              "      fill: #1967D2;\n",
              "      height: 32px;\n",
              "      padding: 0 0 0 0;\n",
              "      width: 32px;\n",
              "    }\n",
              "\n",
              "    .colab-df-convert:hover {\n",
              "      background-color: #E2EBFA;\n",
              "      box-shadow: 0px 1px 2px rgba(60, 64, 67, 0.3), 0px 1px 3px 1px rgba(60, 64, 67, 0.15);\n",
              "      fill: #174EA6;\n",
              "    }\n",
              "\n",
              "    [theme=dark] .colab-df-convert {\n",
              "      background-color: #3B4455;\n",
              "      fill: #D2E3FC;\n",
              "    }\n",
              "\n",
              "    [theme=dark] .colab-df-convert:hover {\n",
              "      background-color: #434B5C;\n",
              "      box-shadow: 0px 1px 3px 1px rgba(0, 0, 0, 0.15);\n",
              "      filter: drop-shadow(0px 1px 2px rgba(0, 0, 0, 0.3));\n",
              "      fill: #FFFFFF;\n",
              "    }\n",
              "  </style>\n",
              "\n",
              "      <script>\n",
              "        const buttonEl =\n",
              "          document.querySelector('#df-55484b60-b3c0-467b-bfd8-559a5ca42f77 button.colab-df-convert');\n",
              "        buttonEl.style.display =\n",
              "          google.colab.kernel.accessAllowed ? 'block' : 'none';\n",
              "\n",
              "        async function convertToInteractive(key) {\n",
              "          const element = document.querySelector('#df-55484b60-b3c0-467b-bfd8-559a5ca42f77');\n",
              "          const dataTable =\n",
              "            await google.colab.kernel.invokeFunction('convertToInteractive',\n",
              "                                                     [key], {});\n",
              "          if (!dataTable) return;\n",
              "\n",
              "          const docLinkHtml = 'Like what you see? Visit the ' +\n",
              "            '<a target=\"_blank\" href=https://colab.research.google.com/notebooks/data_table.ipynb>data table notebook</a>'\n",
              "            + ' to learn more about interactive tables.';\n",
              "          element.innerHTML = '';\n",
              "          dataTable['output_type'] = 'display_data';\n",
              "          await google.colab.output.renderOutput(dataTable, element);\n",
              "          const docLink = document.createElement('div');\n",
              "          docLink.innerHTML = docLinkHtml;\n",
              "          element.appendChild(docLink);\n",
              "        }\n",
              "      </script>\n",
              "    </div>\n",
              "  </div>\n",
              "  "
            ]
          },
          "metadata": {},
          "execution_count": 20
        }
      ]
    },
    {
      "cell_type": "code",
      "source": [
        "y_encoded= pd.get_dummies(y_data)"
      ],
      "metadata": {
        "id": "rhHMpEj7mysV"
      },
      "execution_count": null,
      "outputs": []
    },
    {
      "cell_type": "code",
      "source": [
        "from sklearn.preprocessing import LabelEncoder"
      ],
      "metadata": {
        "id": "bbtH8bI5c2Wp"
      },
      "execution_count": null,
      "outputs": []
    },
    {
      "cell_type": "code",
      "source": [
        "y_data= LabelEncoder().fit_transform(y_data)"
      ],
      "metadata": {
        "colab": {
          "base_uri": "https://localhost:8080/"
        },
        "id": "81E5wjQ7c_Hr",
        "outputId": "21413043-5c21-499b-cf58-1776cbddb45b"
      },
      "execution_count": null,
      "outputs": [
        {
          "output_type": "stream",
          "name": "stderr",
          "text": [
            "/usr/local/lib/python3.10/dist-packages/sklearn/preprocessing/_label.py:116: DataConversionWarning: A column-vector y was passed when a 1d array was expected. Please change the shape of y to (n_samples, ), for example using ravel().\n",
            "  y = column_or_1d(y, warn=True)\n"
          ]
        }
      ]
    },
    {
      "cell_type": "code",
      "source": [
        "from tensorflow.keras.utils import to_categorical"
      ],
      "metadata": {
        "id": "eVDCTyUohnBQ"
      },
      "execution_count": null,
      "outputs": []
    },
    {
      "cell_type": "code",
      "source": [
        "# y_encoded= to_categorical(y_data, num_classes=3)"
      ],
      "metadata": {
        "id": "cOkc8QinhhVY"
      },
      "execution_count": null,
      "outputs": []
    },
    {
      "cell_type": "code",
      "source": [
        "# y_encoded.head()"
      ],
      "metadata": {
        "colab": {
          "base_uri": "https://localhost:8080/",
          "height": 206
        },
        "id": "wcEv6fg1nWga",
        "outputId": "44ed31bb-8c83-447e-cfc1-3b2a338aa7c3"
      },
      "execution_count": null,
      "outputs": [
        {
          "output_type": "execute_result",
          "data": {
            "text/plain": [
              "   TRAIN_N  TRAIN_S  TRAIN_V\n",
              "0        1        0        0\n",
              "1        0        1        0\n",
              "2        1        0        0\n",
              "3        0        1        0\n",
              "4        0        0        1"
            ],
            "text/html": [
              "\n",
              "  <div id=\"df-1e2ec637-0be3-4ff3-af9b-70ed3385f0af\">\n",
              "    <div class=\"colab-df-container\">\n",
              "      <div>\n",
              "<style scoped>\n",
              "    .dataframe tbody tr th:only-of-type {\n",
              "        vertical-align: middle;\n",
              "    }\n",
              "\n",
              "    .dataframe tbody tr th {\n",
              "        vertical-align: top;\n",
              "    }\n",
              "\n",
              "    .dataframe thead th {\n",
              "        text-align: right;\n",
              "    }\n",
              "</style>\n",
              "<table border=\"1\" class=\"dataframe\">\n",
              "  <thead>\n",
              "    <tr style=\"text-align: right;\">\n",
              "      <th></th>\n",
              "      <th>TRAIN_N</th>\n",
              "      <th>TRAIN_S</th>\n",
              "      <th>TRAIN_V</th>\n",
              "    </tr>\n",
              "  </thead>\n",
              "  <tbody>\n",
              "    <tr>\n",
              "      <th>0</th>\n",
              "      <td>1</td>\n",
              "      <td>0</td>\n",
              "      <td>0</td>\n",
              "    </tr>\n",
              "    <tr>\n",
              "      <th>1</th>\n",
              "      <td>0</td>\n",
              "      <td>1</td>\n",
              "      <td>0</td>\n",
              "    </tr>\n",
              "    <tr>\n",
              "      <th>2</th>\n",
              "      <td>1</td>\n",
              "      <td>0</td>\n",
              "      <td>0</td>\n",
              "    </tr>\n",
              "    <tr>\n",
              "      <th>3</th>\n",
              "      <td>0</td>\n",
              "      <td>1</td>\n",
              "      <td>0</td>\n",
              "    </tr>\n",
              "    <tr>\n",
              "      <th>4</th>\n",
              "      <td>0</td>\n",
              "      <td>0</td>\n",
              "      <td>1</td>\n",
              "    </tr>\n",
              "  </tbody>\n",
              "</table>\n",
              "</div>\n",
              "      <button class=\"colab-df-convert\" onclick=\"convertToInteractive('df-1e2ec637-0be3-4ff3-af9b-70ed3385f0af')\"\n",
              "              title=\"Convert this dataframe to an interactive table.\"\n",
              "              style=\"display:none;\">\n",
              "        \n",
              "  <svg xmlns=\"http://www.w3.org/2000/svg\" height=\"24px\"viewBox=\"0 0 24 24\"\n",
              "       width=\"24px\">\n",
              "    <path d=\"M0 0h24v24H0V0z\" fill=\"none\"/>\n",
              "    <path d=\"M18.56 5.44l.94 2.06.94-2.06 2.06-.94-2.06-.94-.94-2.06-.94 2.06-2.06.94zm-11 1L8.5 8.5l.94-2.06 2.06-.94-2.06-.94L8.5 2.5l-.94 2.06-2.06.94zm10 10l.94 2.06.94-2.06 2.06-.94-2.06-.94-.94-2.06-.94 2.06-2.06.94z\"/><path d=\"M17.41 7.96l-1.37-1.37c-.4-.4-.92-.59-1.43-.59-.52 0-1.04.2-1.43.59L10.3 9.45l-7.72 7.72c-.78.78-.78 2.05 0 2.83L4 21.41c.39.39.9.59 1.41.59.51 0 1.02-.2 1.41-.59l7.78-7.78 2.81-2.81c.8-.78.8-2.07 0-2.86zM5.41 20L4 18.59l7.72-7.72 1.47 1.35L5.41 20z\"/>\n",
              "  </svg>\n",
              "      </button>\n",
              "      \n",
              "  <style>\n",
              "    .colab-df-container {\n",
              "      display:flex;\n",
              "      flex-wrap:wrap;\n",
              "      gap: 12px;\n",
              "    }\n",
              "\n",
              "    .colab-df-convert {\n",
              "      background-color: #E8F0FE;\n",
              "      border: none;\n",
              "      border-radius: 50%;\n",
              "      cursor: pointer;\n",
              "      display: none;\n",
              "      fill: #1967D2;\n",
              "      height: 32px;\n",
              "      padding: 0 0 0 0;\n",
              "      width: 32px;\n",
              "    }\n",
              "\n",
              "    .colab-df-convert:hover {\n",
              "      background-color: #E2EBFA;\n",
              "      box-shadow: 0px 1px 2px rgba(60, 64, 67, 0.3), 0px 1px 3px 1px rgba(60, 64, 67, 0.15);\n",
              "      fill: #174EA6;\n",
              "    }\n",
              "\n",
              "    [theme=dark] .colab-df-convert {\n",
              "      background-color: #3B4455;\n",
              "      fill: #D2E3FC;\n",
              "    }\n",
              "\n",
              "    [theme=dark] .colab-df-convert:hover {\n",
              "      background-color: #434B5C;\n",
              "      box-shadow: 0px 1px 3px 1px rgba(0, 0, 0, 0.15);\n",
              "      filter: drop-shadow(0px 1px 2px rgba(0, 0, 0, 0.3));\n",
              "      fill: #FFFFFF;\n",
              "    }\n",
              "  </style>\n",
              "\n",
              "      <script>\n",
              "        const buttonEl =\n",
              "          document.querySelector('#df-1e2ec637-0be3-4ff3-af9b-70ed3385f0af button.colab-df-convert');\n",
              "        buttonEl.style.display =\n",
              "          google.colab.kernel.accessAllowed ? 'block' : 'none';\n",
              "\n",
              "        async function convertToInteractive(key) {\n",
              "          const element = document.querySelector('#df-1e2ec637-0be3-4ff3-af9b-70ed3385f0af');\n",
              "          const dataTable =\n",
              "            await google.colab.kernel.invokeFunction('convertToInteractive',\n",
              "                                                     [key], {});\n",
              "          if (!dataTable) return;\n",
              "\n",
              "          const docLinkHtml = 'Like what you see? Visit the ' +\n",
              "            '<a target=\"_blank\" href=https://colab.research.google.com/notebooks/data_table.ipynb>data table notebook</a>'\n",
              "            + ' to learn more about interactive tables.';\n",
              "          element.innerHTML = '';\n",
              "          dataTable['output_type'] = 'display_data';\n",
              "          await google.colab.output.renderOutput(dataTable, element);\n",
              "          const docLink = document.createElement('div');\n",
              "          docLink.innerHTML = docLinkHtml;\n",
              "          element.appendChild(docLink);\n",
              "        }\n",
              "      </script>\n",
              "    </div>\n",
              "  </div>\n",
              "  "
            ]
          },
          "metadata": {},
          "execution_count": 166
        }
      ]
    },
    {
      "cell_type": "code",
      "source": [
        "# y_encoded.shape\n"
      ],
      "metadata": {
        "colab": {
          "base_uri": "https://localhost:8080/"
        },
        "id": "55aNEzgjfBaM",
        "outputId": "402f001a-9777-4193-e8e6-054461000342"
      },
      "execution_count": null,
      "outputs": [
        {
          "output_type": "execute_result",
          "data": {
            "text/plain": [
              "(24060, 3)"
            ]
          },
          "metadata": {},
          "execution_count": 167
        }
      ]
    },
    {
      "cell_type": "code",
      "source": [
        "X_data = StandardScaler().fit(X_data).transform(X_data)\n",
        "# y_data = y_data.to_numpy()"
      ],
      "metadata": {
        "id": "9Fu-4mTmm9jn"
      },
      "execution_count": null,
      "outputs": []
    },
    {
      "cell_type": "code",
      "source": [
        "# y_encoded.head()"
      ],
      "metadata": {
        "colab": {
          "base_uri": "https://localhost:8080/",
          "height": 206
        },
        "id": "7EcnRe8PimH_",
        "outputId": "d1c3ca33-4e40-465c-fc7b-ade640d59343"
      },
      "execution_count": null,
      "outputs": [
        {
          "output_type": "execute_result",
          "data": {
            "text/plain": [
              "   TRAIN_N  TRAIN_S  TRAIN_V\n",
              "0        1        0        0\n",
              "1        0        1        0\n",
              "2        1        0        0\n",
              "3        0        1        0\n",
              "4        0        0        1"
            ],
            "text/html": [
              "\n",
              "  <div id=\"df-9e54dfd7-46de-4f2d-83fd-dea0206e5675\">\n",
              "    <div class=\"colab-df-container\">\n",
              "      <div>\n",
              "<style scoped>\n",
              "    .dataframe tbody tr th:only-of-type {\n",
              "        vertical-align: middle;\n",
              "    }\n",
              "\n",
              "    .dataframe tbody tr th {\n",
              "        vertical-align: top;\n",
              "    }\n",
              "\n",
              "    .dataframe thead th {\n",
              "        text-align: right;\n",
              "    }\n",
              "</style>\n",
              "<table border=\"1\" class=\"dataframe\">\n",
              "  <thead>\n",
              "    <tr style=\"text-align: right;\">\n",
              "      <th></th>\n",
              "      <th>TRAIN_N</th>\n",
              "      <th>TRAIN_S</th>\n",
              "      <th>TRAIN_V</th>\n",
              "    </tr>\n",
              "  </thead>\n",
              "  <tbody>\n",
              "    <tr>\n",
              "      <th>0</th>\n",
              "      <td>1</td>\n",
              "      <td>0</td>\n",
              "      <td>0</td>\n",
              "    </tr>\n",
              "    <tr>\n",
              "      <th>1</th>\n",
              "      <td>0</td>\n",
              "      <td>1</td>\n",
              "      <td>0</td>\n",
              "    </tr>\n",
              "    <tr>\n",
              "      <th>2</th>\n",
              "      <td>1</td>\n",
              "      <td>0</td>\n",
              "      <td>0</td>\n",
              "    </tr>\n",
              "    <tr>\n",
              "      <th>3</th>\n",
              "      <td>0</td>\n",
              "      <td>1</td>\n",
              "      <td>0</td>\n",
              "    </tr>\n",
              "    <tr>\n",
              "      <th>4</th>\n",
              "      <td>0</td>\n",
              "      <td>0</td>\n",
              "      <td>1</td>\n",
              "    </tr>\n",
              "  </tbody>\n",
              "</table>\n",
              "</div>\n",
              "      <button class=\"colab-df-convert\" onclick=\"convertToInteractive('df-9e54dfd7-46de-4f2d-83fd-dea0206e5675')\"\n",
              "              title=\"Convert this dataframe to an interactive table.\"\n",
              "              style=\"display:none;\">\n",
              "        \n",
              "  <svg xmlns=\"http://www.w3.org/2000/svg\" height=\"24px\"viewBox=\"0 0 24 24\"\n",
              "       width=\"24px\">\n",
              "    <path d=\"M0 0h24v24H0V0z\" fill=\"none\"/>\n",
              "    <path d=\"M18.56 5.44l.94 2.06.94-2.06 2.06-.94-2.06-.94-.94-2.06-.94 2.06-2.06.94zm-11 1L8.5 8.5l.94-2.06 2.06-.94-2.06-.94L8.5 2.5l-.94 2.06-2.06.94zm10 10l.94 2.06.94-2.06 2.06-.94-2.06-.94-.94-2.06-.94 2.06-2.06.94z\"/><path d=\"M17.41 7.96l-1.37-1.37c-.4-.4-.92-.59-1.43-.59-.52 0-1.04.2-1.43.59L10.3 9.45l-7.72 7.72c-.78.78-.78 2.05 0 2.83L4 21.41c.39.39.9.59 1.41.59.51 0 1.02-.2 1.41-.59l7.78-7.78 2.81-2.81c.8-.78.8-2.07 0-2.86zM5.41 20L4 18.59l7.72-7.72 1.47 1.35L5.41 20z\"/>\n",
              "  </svg>\n",
              "      </button>\n",
              "      \n",
              "  <style>\n",
              "    .colab-df-container {\n",
              "      display:flex;\n",
              "      flex-wrap:wrap;\n",
              "      gap: 12px;\n",
              "    }\n",
              "\n",
              "    .colab-df-convert {\n",
              "      background-color: #E8F0FE;\n",
              "      border: none;\n",
              "      border-radius: 50%;\n",
              "      cursor: pointer;\n",
              "      display: none;\n",
              "      fill: #1967D2;\n",
              "      height: 32px;\n",
              "      padding: 0 0 0 0;\n",
              "      width: 32px;\n",
              "    }\n",
              "\n",
              "    .colab-df-convert:hover {\n",
              "      background-color: #E2EBFA;\n",
              "      box-shadow: 0px 1px 2px rgba(60, 64, 67, 0.3), 0px 1px 3px 1px rgba(60, 64, 67, 0.15);\n",
              "      fill: #174EA6;\n",
              "    }\n",
              "\n",
              "    [theme=dark] .colab-df-convert {\n",
              "      background-color: #3B4455;\n",
              "      fill: #D2E3FC;\n",
              "    }\n",
              "\n",
              "    [theme=dark] .colab-df-convert:hover {\n",
              "      background-color: #434B5C;\n",
              "      box-shadow: 0px 1px 3px 1px rgba(0, 0, 0, 0.15);\n",
              "      filter: drop-shadow(0px 1px 2px rgba(0, 0, 0, 0.3));\n",
              "      fill: #FFFFFF;\n",
              "    }\n",
              "  </style>\n",
              "\n",
              "      <script>\n",
              "        const buttonEl =\n",
              "          document.querySelector('#df-9e54dfd7-46de-4f2d-83fd-dea0206e5675 button.colab-df-convert');\n",
              "        buttonEl.style.display =\n",
              "          google.colab.kernel.accessAllowed ? 'block' : 'none';\n",
              "\n",
              "        async function convertToInteractive(key) {\n",
              "          const element = document.querySelector('#df-9e54dfd7-46de-4f2d-83fd-dea0206e5675');\n",
              "          const dataTable =\n",
              "            await google.colab.kernel.invokeFunction('convertToInteractive',\n",
              "                                                     [key], {});\n",
              "          if (!dataTable) return;\n",
              "\n",
              "          const docLinkHtml = 'Like what you see? Visit the ' +\n",
              "            '<a target=\"_blank\" href=https://colab.research.google.com/notebooks/data_table.ipynb>data table notebook</a>'\n",
              "            + ' to learn more about interactive tables.';\n",
              "          element.innerHTML = '';\n",
              "          dataTable['output_type'] = 'display_data';\n",
              "          await google.colab.output.renderOutput(dataTable, element);\n",
              "          const docLink = document.createElement('div');\n",
              "          docLink.innerHTML = docLinkHtml;\n",
              "          element.appendChild(docLink);\n",
              "        }\n",
              "      </script>\n",
              "    </div>\n",
              "  </div>\n",
              "  "
            ]
          },
          "metadata": {},
          "execution_count": 170
        }
      ]
    },
    {
      "cell_type": "code",
      "source": [
        "# y_encoded.to_numpy()"
      ],
      "metadata": {
        "colab": {
          "base_uri": "https://localhost:8080/"
        },
        "id": "QjXQeSQpp2ar",
        "outputId": "e33ca18c-100c-46b2-b621-94d91b30950b"
      },
      "execution_count": null,
      "outputs": [
        {
          "output_type": "execute_result",
          "data": {
            "text/plain": [
              "array([[1, 0, 0],\n",
              "       [0, 1, 0],\n",
              "       [1, 0, 0],\n",
              "       ...,\n",
              "       [0, 1, 0],\n",
              "       [1, 0, 0],\n",
              "       [1, 0, 0]], dtype=uint8)"
            ]
          },
          "metadata": {},
          "execution_count": 171
        }
      ]
    },
    {
      "cell_type": "code",
      "source": [
        "kfold = StratifiedKFold(n_splits=10, shuffle=True, random_state=seed)\n",
        "sensscores = []\n",
        "specscores = []\n",
        "ppvscores = []\n",
        "aucscores = []"
      ],
      "metadata": {
        "id": "AvHQVqfjnvTQ"
      },
      "execution_count": null,
      "outputs": []
    },
    {
      "cell_type": "code",
      "source": [
        "X_data = X_data.reshape(X_data.shape[0], size, 1)"
      ],
      "metadata": {
        "id": "W-nSP05inxmO"
      },
      "execution_count": null,
      "outputs": []
    },
    {
      "cell_type": "code",
      "source": [
        "y_data"
      ],
      "metadata": {
        "colab": {
          "base_uri": "https://localhost:8080/"
        },
        "id": "mENXPQtPtqOc",
        "outputId": "b4274b13-cca7-4b81-853f-8aedf98398cf"
      },
      "execution_count": null,
      "outputs": [
        {
          "output_type": "execute_result",
          "data": {
            "text/plain": [
              "array([2, 2, 0, ..., 0, 2, 0])"
            ]
          },
          "metadata": {},
          "execution_count": 30
        }
      ]
    },
    {
      "cell_type": "code",
      "source": [
        "X_data.shape"
      ],
      "metadata": {
        "colab": {
          "base_uri": "https://localhost:8080/"
        },
        "id": "SwoClwkUi8Ja",
        "outputId": "f7a6e9a1-f3de-4fdf-a156-6fb8a6144840"
      },
      "execution_count": null,
      "outputs": [
        {
          "output_type": "execute_result",
          "data": {
            "text/plain": [
              "(24060, 24, 1)"
            ]
          },
          "metadata": {},
          "execution_count": 31
        }
      ]
    },
    {
      "cell_type": "code",
      "source": [
        "for train_idx, test_idx in kfold.split(X_data, y_data):\n",
        "\n",
        "    X_train, X_test = X_data[train_idx], X_data[test_idx]\n",
        "    y_train, y_test = y_data[train_idx], y_data[test_idx]\n",
        "\n",
        "    y_train= pd.get_dummies(y_train)\n",
        "    y_test= pd.get_dummies(y_test).to_numpy()\n",
        "    ann = models.Sequential([\n",
        "\n",
        "\n",
        "        layers.Dense(32, kernel_initializer=\"lecun_normal\", activation = 'relu',  input_shape=(size,1)),\n",
        "        layers.Flatten(),\n",
        "#         layers.Dense(32, kernel_initializer=\"lecun_normal\", activation = 'relu'),\n",
        "        layers.Dense(20, kernel_initializer=\"lecun_normal\", activation = 'relu'),\n",
        "        layers.Dense(14, kernel_initializer=\"lecun_normal\", activation = 'relu'),\n",
        "        layers.Dense(8, kernel_initializer=\"lecun_normal\", activation = 'relu'),\n",
        "        layers.Dense(3, kernel_initializer=\"lecun_normal\", activation = 'softmax')\n",
        "    ])\n",
        "\n",
        "    ann.compile(optimizer = 'adam', loss='categorical_crossentropy',\n",
        "                metrics=['Recall','AUC','TruePositives','FalsePositives','TrueNegatives','FalseNegatives'])\n",
        "    ann.fit(X_train ,y_train, epochs = 40, verbose = 1)\n",
        "\n",
        "    preds = (ann.predict(X_test) > 0.5).astype(\"int32\").ravel()\n",
        "    tn, fp, fn, tp = confusion_matrix(y_test.ravel(), preds).ravel()\n",
        "\n",
        "    scores = ann.evaluate(X_test, y_test, verbose=0)\n",
        "    sensitivity = tp/(tp + fn)\n",
        "    specificity = tn/(tn + fp)\n",
        "    ppv = tp/(tp + fp)\n",
        "\n",
        "    sensscores.append(sensitivity*100)\n",
        "    specscores.append(specificity*100)\n",
        "    ppvscores.append(ppv*100)\n",
        "    aucscores.append(scores[2])\n",
        "\n",
        "print(\"Mean Sensitivity is %.2f%% (+/- %.2f%%)\" % (np.mean(sensscores), np.std(sensscores)))\n",
        "print(\"Mean Specificity is %.2f%% (+/- %.2f%%)\" % (np.mean(specscores), np.std(specscores)))\n",
        "print(\"Mean PPV is %.2f%% (+/- %.2f%%)\" % (np.mean(ppvscores), np.std(ppvscores)))\n",
        "print(\"Mean AUC is %.2f%% (+/- %.2f%%)\" % (np.mean(aucscores), np.std(aucscores)))"
      ],
      "metadata": {
        "id": "jyllVCuyll3S"
      },
      "execution_count": null,
      "outputs": []
    },
    {
      "cell_type": "code",
      "source": [
        "from sklearn.utils.multiclass import type_of_target\n",
        "type_of_target(y_encoded)"
      ],
      "metadata": {
        "colab": {
          "base_uri": "https://localhost:8080/",
          "height": 36
        },
        "id": "5vsmG3hqrNmX",
        "outputId": "bd67bfb6-6d7d-43e4-bce2-f95ac6ef735e"
      },
      "execution_count": null,
      "outputs": [
        {
          "output_type": "execute_result",
          "data": {
            "text/plain": [
              "'multilabel-indicator'"
            ],
            "application/vnd.google.colaboratory.intrinsic+json": {
              "type": "string"
            }
          },
          "metadata": {},
          "execution_count": 33
        }
      ]
    },
    {
      "cell_type": "code",
      "source": [
        "y1= pd.get_dummies(y_data)"
      ],
      "metadata": {
        "id": "FE1qhgRdrt7c"
      },
      "execution_count": null,
      "outputs": []
    },
    {
      "cell_type": "code",
      "source": [
        "type_of_target(y1)"
      ],
      "metadata": {
        "colab": {
          "base_uri": "https://localhost:8080/",
          "height": 36
        },
        "id": "VxXxqj7Ur15q",
        "outputId": "fef3ba8f-fdb0-49ee-b5f4-ab73e1fb5ef3"
      },
      "execution_count": null,
      "outputs": [
        {
          "output_type": "execute_result",
          "data": {
            "text/plain": [
              "'multilabel-indicator'"
            ],
            "application/vnd.google.colaboratory.intrinsic+json": {
              "type": "string"
            }
          },
          "metadata": {},
          "execution_count": 35
        }
      ]
    },
    {
      "cell_type": "code",
      "source": [
        "y2= LabelEncoder().fit_transform(y_data)"
      ],
      "metadata": {
        "id": "UvFM2nesr8dN"
      },
      "execution_count": null,
      "outputs": []
    },
    {
      "cell_type": "code",
      "source": [
        "type_of_target(y2)"
      ],
      "metadata": {
        "colab": {
          "base_uri": "https://localhost:8080/",
          "height": 36
        },
        "id": "SANxCW4csCLk",
        "outputId": "2b2d58ca-e898-406e-92e2-dea1345c1bbf"
      },
      "execution_count": null,
      "outputs": [
        {
          "output_type": "execute_result",
          "data": {
            "text/plain": [
              "'multiclass'"
            ],
            "application/vnd.google.colaboratory.intrinsic+json": {
              "type": "string"
            }
          },
          "metadata": {},
          "execution_count": 37
        }
      ]
    },
    {
      "cell_type": "code",
      "source": [
        "print(\"Mean Sensitivity is %.2f%% (+/- %.2f%%)\" % (np.mean(sensscores), np.std(sensscores)))\n",
        "print(\"Mean Specificity is %.2f%% (+/- %.2f%%)\" % (np.mean(specscores), np.std(specscores)))\n",
        "print(\"Mean PPV is %.2f%% (+/- %.2f%%)\" % (np.mean(ppvscores), np.std(ppvscores)))\n",
        "print(\"Mean AUC is %.2f%% (+/- %.2f%%)\" % (np.mean(aucscores), np.std(aucscores)))"
      ],
      "metadata": {
        "colab": {
          "base_uri": "https://localhost:8080/"
        },
        "id": "MphJs399sFEO",
        "outputId": "33f145d9-cd2e-4576-ed70-5995f838b384"
      },
      "execution_count": null,
      "outputs": [
        {
          "output_type": "stream",
          "name": "stdout",
          "text": [
            "Mean Sensitivity is 49.90% (+/- 2.26%)\n",
            "Mean Specificity is 85.94% (+/- 0.79%)\n",
            "Mean PPV is 63.96% (+/- 1.05%)\n",
            "Mean AUC is 0.82% (+/- 0.00%)\n"
          ]
        }
      ]
    },
    {
      "cell_type": "code",
      "source": [
        "#Code for Cross Validation\n",
        "\n",
        "# Here we use ANOVA test to reduce the feature set size. An iterative process is run for 5,6,7,8 features\n",
        "# respectively to find the top set of features. The metrics are recalculated for theses set of features as well."
      ],
      "metadata": {
        "id": "wgw37MRQ04LY"
      },
      "execution_count": null,
      "outputs": []
    },
    {
      "cell_type": "code",
      "source": [
        "from sklearn.feature_selection import SelectKBest, f_classif\n",
        "from sklearn.model_selection import StratifiedKFold\n",
        "from sklearn.metrics import confusion_matrix"
      ],
      "metadata": {
        "id": "FGUng_Pf1KGf"
      },
      "execution_count": null,
      "outputs": []
    },
    {
      "cell_type": "code",
      "source": [
        "predicted = []\n",
        "true = []\n",
        "\n",
        "seed = 8\n",
        "np.random.seed(seed)\n",
        "\n",
        "size = 24\n",
        "X_data = df.iloc[0:,0:size]\n",
        "y_data = df.iloc[0:,24:25]\n",
        "\n",
        "X_data = StandardScaler().fit(X_data).transform(X_data)\n",
        "y_data = y_data.to_numpy()[:,0]\n",
        "\n",
        "kfold = StratifiedKFold(n_splits=10, shuffle=True, random_state=seed)\n",
        "accscores = []\n",
        "sensscores = []\n",
        "specscores = []\n",
        "ppvscores = []\n",
        "aucscores = []\n",
        "\n",
        "newsize = 7\n",
        "count = 0\n",
        "\n",
        "print(\"NUMBER OF FEATURES : \", newsize)"
      ],
      "metadata": {
        "colab": {
          "base_uri": "https://localhost:8080/"
        },
        "id": "2dv72Dor1QTV",
        "outputId": "e84544f5-d929-4cd2-dc9e-0316b769a01c"
      },
      "execution_count": null,
      "outputs": [
        {
          "output_type": "stream",
          "name": "stdout",
          "text": [
            "NUMBER OF FEATURES :  7\n"
          ]
        }
      ]
    },
    {
      "cell_type": "code",
      "source": [
        "y_data"
      ],
      "metadata": {
        "colab": {
          "base_uri": "https://localhost:8080/"
        },
        "id": "iyJzqjBdASac",
        "outputId": "4cc701d0-6d48-432d-8fc3-43f5a1774777"
      },
      "execution_count": null,
      "outputs": [
        {
          "output_type": "execute_result",
          "data": {
            "text/plain": [
              "array([2, 2, 0, ..., 0, 2, 0])"
            ]
          },
          "metadata": {},
          "execution_count": 40
        }
      ]
    },
    {
      "cell_type": "code",
      "source": [
        "for train_idx, test_idx in kfold.split(X_data, y_data):\n",
        "\n",
        "    fs = SelectKBest(score_func=f_classif, k=newsize)\n",
        "\n",
        "    X_train, X_test = X_data[train_idx], X_data[test_idx]\n",
        "    y_train, y_test = y_data[train_idx], y_data[test_idx]\n",
        "\n",
        "    X_selected = fs.fit_transform(X_train ,y_train)\n",
        "\n",
        "    y_train= pd.get_dummies(y_train)\n",
        "    y_test= pd.get_dummies(y_test).to_numpy()\n",
        "\n",
        "\n",
        "\n",
        "    indices = []\n",
        "    for i in range(0,len(X_train[0])):\n",
        "        for j in range(0, len(X_selected[0])):\n",
        "\n",
        "            if X_train[0][i] == X_selected[0][j]:\n",
        "                indices.append(i)\n",
        "\n",
        "    selectedColumns = []\n",
        "    for i in indices:\n",
        "        selectedColumns.append(df.columns[i])\n",
        "\n",
        "    if count == 0:\n",
        "        print('SELECTED COLUMNS : ', selectedColumns)\n",
        "\n",
        "    count = count + 1\n",
        "\n",
        "    Xnew1 = X_train[:,indices]\n",
        "    new1 = X_test[:,indices]\n",
        "\n",
        "    ann = models.Sequential([\n",
        "\n",
        "\n",
        "        layers.Dense(64, kernel_initializer=\"lecun_normal\", activation = 'relu',  input_shape=(newsize,1)),\n",
        "        layers.Flatten(),\n",
        "        layers.Dense(32, kernel_initializer=\"lecun_normal\", activation = 'relu'),\n",
        "        layers.Dense(16, kernel_initializer=\"lecun_normal\", activation = 'relu'),\n",
        "        layers.Dense(8, kernel_initializer=\"lecun_normal\", activation = 'relu'),\n",
        "        layers.Dense(4, kernel_initializer=\"lecun_normal\", activation = 'relu'),\n",
        "        layers.Dense(3, kernel_initializer=\"lecun_normal\", activation = 'sigmoid')\n",
        "    ])\n",
        "\n",
        "    ann.compile(optimizer = 'adam', loss='categorical_crossentropy',\n",
        "                metrics=['Recall','AUC','accuracy'])\n",
        "\n",
        "    Xnew1 = Xnew1.reshape(Xnew1.shape[0], newsize, 1)\n",
        "    new1 = new1.reshape(new1.shape[0], newsize, 1)\n",
        "\n",
        "    ann.fit(Xnew1 ,y_train  ,epochs = 40, verbose=0)\n",
        "\n",
        "    preds = (ann.predict(new1) > 0.5).astype(\"int32\").ravel()\n",
        "    tn, fp, fn, tp = confusion_matrix(y_test.ravel(), preds).ravel()\n",
        "\n",
        "    scores = ann.evaluate(new1, y_test, verbose=0)\n",
        "    sensitivity = tp/(tp + fn)\n",
        "    specificity = tn/(tn + fp)\n",
        "    ppv = tp/(tp + fp)\n",
        "\n",
        "    sensscores.append(sensitivity*100)\n",
        "    specscores.append(specificity*100)\n",
        "    ppvscores.append(ppv*100)\n",
        "    aucscores.append(scores[2])\n",
        "    accscores.append(scores[3]*100)"
      ],
      "metadata": {
        "colab": {
          "base_uri": "https://localhost:8080/"
        },
        "id": "GeAfzXG71TTY",
        "outputId": "f9d170e4-20c4-4123-a680-0a0f4192d0d9"
      },
      "execution_count": null,
      "outputs": [
        {
          "output_type": "stream",
          "name": "stdout",
          "text": [
            "SELECTED COLUMNS :  ['RTmean', 'PSmean', 'QRSmean', 'ICEBmean', 'QTCmean', 'RTvar', 'RTstd']\n",
            "76/76 [==============================] - 0s 1ms/step\n",
            "76/76 [==============================] - 0s 2ms/step\n",
            "76/76 [==============================] - 0s 1ms/step\n",
            "76/76 [==============================] - 0s 2ms/step\n",
            "76/76 [==============================] - 0s 2ms/step\n",
            "76/76 [==============================] - 0s 2ms/step\n",
            "76/76 [==============================] - 0s 1ms/step\n",
            "76/76 [==============================] - 0s 1ms/step\n",
            "76/76 [==============================] - 0s 2ms/step\n",
            "76/76 [==============================] - 0s 2ms/step\n"
          ]
        }
      ]
    },
    {
      "cell_type": "code",
      "source": [
        "print(\"Mean Accuracy is %.2f%% (+/- %.2f%%)\" % (np.mean(accscores), np.std(accscores)))\n",
        "print(\"Mean Sensitivity is %.2f%% (+/- %.2f%%)\" % (np.mean(sensscores), np.std(sensscores)))\n",
        "print(\"Mean Specificity is %.2f%% (+/- %.2f%%)\" % (np.mean(specscores), np.std(specscores)))\n",
        "print(\"Mean PPV is %.2f%% (+/- %.2f%%)\" % (np.mean(ppvscores), np.std(ppvscores)))\n",
        "print(\"Mean AUC is %.2f%% (+/- %.2f%%)\" % (np.mean(aucscores), np.std(aucscores)))"
      ],
      "metadata": {
        "colab": {
          "base_uri": "https://localhost:8080/"
        },
        "id": "hWvTHxDP2QTd",
        "outputId": "e0c9cf60-7c4e-4306-f7c5-fd4f39394b83"
      },
      "execution_count": null,
      "outputs": [
        {
          "output_type": "stream",
          "name": "stdout",
          "text": [
            "Mean Accuracy is 58.51% (+/- 0.74%)\n",
            "Mean Sensitivity is 79.15% (+/- 23.52%)\n",
            "Mean Specificity is 51.48% (+/- 23.43%)\n",
            "Mean PPV is 46.62% (+/- 5.78%)\n",
            "Mean AUC is 0.74% (+/- 0.07%)\n"
          ]
        }
      ]
    },
    {
      "cell_type": "code",
      "source": [
        "y_data"
      ],
      "metadata": {
        "colab": {
          "base_uri": "https://localhost:8080/"
        },
        "id": "LxlHXQgC-Gyj",
        "outputId": "01ac96c7-378a-4c60-d461-0f4680f17637"
      },
      "execution_count": null,
      "outputs": [
        {
          "output_type": "execute_result",
          "data": {
            "text/plain": [
              "array([2, 2, 0, ..., 0, 2, 0])"
            ]
          },
          "metadata": {},
          "execution_count": 41
        }
      ]
    },
    {
      "cell_type": "code",
      "source": [
        "\n",
        "# Code for Cross Validation\n",
        "# Here we calculate the 10 fold cross validation results by considering the customized feature set.\n",
        "\n",
        "\n",
        "from sklearn.model_selection import StratifiedKFold\n",
        "from sklearn.metrics import confusion_matrix\n",
        "\n",
        "seed = 8\n",
        "np.random.seed(seed)\n",
        "\n",
        "size = 6\n",
        "X_data =  df[['RTmean','PSmean','QRSmean','ICEBmean','ICEBvar','RTvar']]\n",
        "# y_data = df.iloc[0:,24:25]\n",
        "\n",
        "\n",
        "X_data = StandardScaler().fit(X_data).transform(X_data)\n",
        "# y_data = y_data.to_numpy()\n",
        "\n",
        "kfold = StratifiedKFold(n_splits=10, shuffle=True, random_state=seed)\n",
        "accscores = []\n",
        "sensscores = []\n",
        "specscores = []\n",
        "ppvscores = []\n",
        "aucscores = []\n",
        "\n",
        "X_data = X_data.reshape(X_data.shape[0], size, 1)"
      ],
      "metadata": {
        "id": "EPD6u3rAAcBv"
      },
      "execution_count": null,
      "outputs": []
    },
    {
      "cell_type": "code",
      "source": [
        "for train_idx, test_idx in kfold.split(X_data, y_data):\n",
        "\n",
        "    X_train, X_test = X_data[train_idx], X_data[test_idx]\n",
        "    y_train, y_test = y_data[train_idx], y_data[test_idx]\n",
        "\n",
        "    y_train= pd.get_dummies(y_train)\n",
        "    y_test= pd.get_dummies(y_test).to_numpy()\n",
        "\n",
        "    ann = models.Sequential([\n",
        "\n",
        "\n",
        "        layers.Dense(32, kernel_initializer=\"lecun_normal\", activation = 'relu',  input_shape=(size,1)),\n",
        "        layers.Flatten(),\n",
        "        layers.Dense(32, kernel_initializer=\"lecun_normal\", activation = 'relu'),\n",
        "        layers.Dense(20, kernel_initializer=\"lecun_normal\", activation = 'relu'),\n",
        "        layers.Dense(12, kernel_initializer=\"lecun_normal\", activation = 'relu'),\n",
        "        layers.Dense(6, kernel_initializer=\"lecun_normal\", activation = 'relu'),\n",
        "        layers.Dense(3, kernel_initializer=\"lecun_normal\", activation = 'sigmoid')\n",
        "    ])\n",
        "\n",
        "    ann.compile(optimizer = 'adam', loss='categorical_crossentropy',\n",
        "                metrics=['Recall','AUC','accuracy'])\n",
        "\n",
        "    ann.fit(X_train ,y_train  ,epochs = 40, verbose = 1)\n",
        "\n",
        "    preds = (ann.predict(X_test) > 0.5).astype(\"int32\").ravel()\n",
        "    tn, fp, fn, tp = confusion_matrix(y_test.ravel(), preds).ravel()\n",
        "\n",
        "    scores = ann.evaluate(X_test, y_test, verbose=1)\n",
        "    sensitivity = tp/(tp + fn)\n",
        "    specificity = tn/(tn + fp)\n",
        "    ppv = tp/(tp + fp)\n",
        "\n",
        "    sensscores.append(sensitivity*100)\n",
        "    specscores.append(specificity*100)\n",
        "    ppvscores.append(ppv*100)\n",
        "    aucscores.append(scores[2])\n",
        "    accscores.append(scores[3]*100)\n",
        ""
      ],
      "metadata": {
        "id": "nB3kBx146g3u"
      },
      "execution_count": null,
      "outputs": []
    },
    {
      "cell_type": "code",
      "source": [
        "print(\"Mean Accuracy is %.2f%% (+/- %.2f%%)\" % (np.mean(accscores), np.std(accscores)))\n",
        "print(\"Mean Sensitivity is %.2f%% (+/- %.2f%%)\" % (np.mean(sensscores), np.std(sensscores)))\n",
        "print(\"Mean Specificity is %.2f%% (+/- %.2f%%)\" % (np.mean(specscores), np.std(specscores)))\n",
        "print(\"Mean PPV is %.2f%% (+/- %.2f%%)\" % (np.mean(ppvscores), np.std(ppvscores)))\n",
        "print(\"Mean AUC is %.2f%% (+/- %.2f%%)\" % (np.mean(aucscores), np.std(aucscores)))"
      ],
      "metadata": {
        "colab": {
          "base_uri": "https://localhost:8080/"
        },
        "id": "GGfKdgpIBVdT",
        "outputId": "9d748e8a-fda0-4204-c4aa-52e42e334b22"
      },
      "execution_count": null,
      "outputs": [
        {
          "output_type": "stream",
          "name": "stdout",
          "text": [
            "Mean Accuracy is 59.19% (+/- 0.69%)\n",
            "Mean Sensitivity is 84.24% (+/- 10.67%)\n",
            "Mean Specificity is 57.45% (+/- 8.93%)\n",
            "Mean PPV is 50.08% (+/- 2.33%)\n",
            "Mean AUC is 0.78% (+/- 0.01%)\n"
          ]
        }
      ]
    },
    {
      "cell_type": "code",
      "source": [
        "# Last model me kya kar rhe hai ??"
      ],
      "metadata": {
        "id": "-5ttslh1Ddxj"
      },
      "execution_count": null,
      "outputs": []
    },
    {
      "cell_type": "code",
      "source": [
        "# KNN: (Unsuperwised ML)"
      ],
      "metadata": {
        "id": "Pw-ZvjDVD21S"
      },
      "execution_count": null,
      "outputs": []
    },
    {
      "cell_type": "code",
      "source": [
        "import matplotlib.pyplot as plt"
      ],
      "metadata": {
        "id": "qElhvIwkFVAP"
      },
      "execution_count": null,
      "outputs": []
    },
    {
      "cell_type": "code",
      "source": [
        "# Essential libraries:\n",
        "\n",
        "from sklearn.cluster import KMeans\n",
        "from sklearn.preprocessing import MinMaxScaler"
      ],
      "metadata": {
        "id": "-ok1-XaIFY_T"
      },
      "execution_count": null,
      "outputs": []
    },
    {
      "cell_type": "code",
      "source": [
        "seed = 8\n",
        "np.random.seed(seed)\n",
        "\n",
        "size = 24\n",
        "X_data = df.iloc[0:,0:size]\n",
        "y_data = df.iloc[0:,24:25]"
      ],
      "metadata": {
        "id": "G7fUMeFwH3iz"
      },
      "execution_count": null,
      "outputs": []
    },
    {
      "cell_type": "code",
      "source": [
        "X_data = StandardScaler().fit(X_data).transform(X_data)"
      ],
      "metadata": {
        "id": "-0wK6jSBIQxE"
      },
      "execution_count": null,
      "outputs": []
    },
    {
      "cell_type": "code",
      "source": [
        "X_data.shape"
      ],
      "metadata": {
        "colab": {
          "base_uri": "https://localhost:8080/"
        },
        "id": "uPzWrK7aIW0M",
        "outputId": "b0522631-751d-4bfa-992c-179cfc202ab1"
      },
      "execution_count": null,
      "outputs": [
        {
          "output_type": "execute_result",
          "data": {
            "text/plain": [
              "(24060, 24)"
            ]
          },
          "metadata": {},
          "execution_count": 70
        }
      ]
    },
    {
      "cell_type": "code",
      "source": [
        "# X_data = X_data.reshape(X_data.shape[0], size, 1)\n",
        "# X_data.shape"
      ],
      "metadata": {
        "colab": {
          "base_uri": "https://localhost:8080/"
        },
        "id": "K2vqLNZhIg3w",
        "outputId": "d255dfa7-c8ed-4f37-df11-94a3e74db2e3"
      },
      "execution_count": null,
      "outputs": [
        {
          "output_type": "execute_result",
          "data": {
            "text/plain": [
              "(24060, 24, 1)"
            ]
          },
          "metadata": {},
          "execution_count": 66
        }
      ]
    },
    {
      "cell_type": "code",
      "source": [
        "# Create K-means model\n",
        "kmeans = KMeans(n_clusters=3, random_state=0)\n",
        "\n",
        "# Fit the model to the data\n",
        "kmeans.fit(X_data)\n",
        "\n",
        "# Predict cluster labels for the data points\n",
        "labels = kmeans.predict(X_data)\n",
        "\n",
        "# Print the predicted cluster labels\n",
        "print(labels)"
      ],
      "metadata": {
        "colab": {
          "base_uri": "https://localhost:8080/"
        },
        "id": "ibILjWhfFUF7",
        "outputId": "1d8bac1e-8944-4436-cf6e-ad8b8bf62311"
      },
      "execution_count": null,
      "outputs": [
        {
          "output_type": "stream",
          "name": "stderr",
          "text": [
            "/usr/local/lib/python3.10/dist-packages/sklearn/cluster/_kmeans.py:870: FutureWarning: The default value of `n_init` will change from 10 to 'auto' in 1.4. Set the value of `n_init` explicitly to suppress the warning\n",
            "  warnings.warn(\n"
          ]
        },
        {
          "output_type": "stream",
          "name": "stdout",
          "text": [
            "[2 2 2 ... 2 2 0]\n"
          ]
        }
      ]
    },
    {
      "cell_type": "code",
      "source": [
        "y_data= LabelEncoder().fit_transform(y_data)\n",
        "y_data"
      ],
      "metadata": {
        "colab": {
          "base_uri": "https://localhost:8080/"
        },
        "id": "x3nebO6uHzwz",
        "outputId": "f2e543c6-95a7-4f22-9f65-8dd82d721531"
      },
      "execution_count": null,
      "outputs": [
        {
          "output_type": "stream",
          "name": "stderr",
          "text": [
            "/usr/local/lib/python3.10/dist-packages/sklearn/preprocessing/_label.py:116: DataConversionWarning: A column-vector y was passed when a 1d array was expected. Please change the shape of y to (n_samples, ), for example using ravel().\n",
            "  y = column_or_1d(y, warn=True)\n"
          ]
        },
        {
          "output_type": "execute_result",
          "data": {
            "text/plain": [
              "array([2, 2, 0, ..., 0, 2, 0])"
            ]
          },
          "metadata": {},
          "execution_count": 72
        }
      ]
    },
    {
      "cell_type": "code",
      "source": [
        "plt.scatter(X_data[:, 0], X_data[:, 12], c=labels)\n",
        "plt.xlabel('Feature 1')\n",
        "plt.ylabel('Feature 2')\n",
        "plt.title('K-means Clustering')\n",
        "plt.show()"
      ],
      "metadata": {
        "colab": {
          "base_uri": "https://localhost:8080/",
          "height": 472
        },
        "id": "BGuyjSenIwiO",
        "outputId": "cf52c540-df4d-49f1-ffd1-d2418572def4"
      },
      "execution_count": null,
      "outputs": [
        {
          "output_type": "display_data",
          "data": {
            "text/plain": [
              "<Figure size 640x480 with 1 Axes>"
            ],
            "image/png": "[encoded data removed]"
          },
          "metadata": {}
        }
      ]
    },
    {
      "cell_type": "code",
      "source": [
        "import warnings\n",
        "warnings.filterwarnings(\"ignore\")"
      ],
      "metadata": {
        "id": "1NCIIOjpJ6DB"
      },
      "execution_count": null,
      "outputs": []
    },
    {
      "cell_type": "code",
      "source": [
        "import numpy as np\n",
        "import matplotlib.pyplot as plt\n",
        "from sklearn.cluster import KMeans\n",
        "\n",
        "# Define the range of number of clusters to try\n",
        "k_values = range(1, 11)\n",
        "\n",
        "# Initialize an empty list to store the WCSS values\n",
        "wcss_values = []\n",
        "\n",
        "# Calculate the WCSS for each value of k\n",
        "for k in k_values:\n",
        "    kmeans = KMeans(n_clusters=k, random_state=0)\n",
        "    kmeans.fit(X_data)\n",
        "    wcss_values.append(kmeans.inertia_)\n",
        "\n",
        "# Plot the elbow curve\n",
        "plt.plot(k_values, wcss_values, marker='o')\n",
        "plt.xlabel('Number of Clusters (k)')\n",
        "plt.ylabel('Within-Cluster Sum of Squares (WCSS)')\n",
        "plt.title('Elbow Plot')\n",
        "plt.show()\n"
      ],
      "metadata": {
        "colab": {
          "base_uri": "https://localhost:8080/",
          "height": 472
        },
        "id": "sH5V29IUI722",
        "outputId": "b33f3a65-d743-43f2-c6b1-2a9554679aac"
      },
      "execution_count": null,
      "outputs": [
        {
          "output_type": "display_data",
          "data": {
            "text/plain": [
              "<Figure size 640x480 with 1 Axes>"
            ],
            "image/png": "[encoded data removed]"
          },
          "metadata": {}
        }
      ]
    },
    {
      "cell_type": "code",
      "source": [
        "# we see the bend at k=3. Hence there will be 3 clusters means 3 main classes."
      ],
      "metadata": {
        "id": "LHCCS80HJxGO"
      },
      "execution_count": null,
      "outputs": []
    },
    {
      "cell_type": "markdown",
      "source": [
        "K-means is an unsupervised clustering algorithm and does not directly support classification with labeled output. It is primarily used for clustering and finding patterns in unlabeled data. However, if you have labeled data and want to perform classification, K-means is not the appropriate choice.\n",
        "\n",
        "Then why are we using it?"
      ],
      "metadata": {
        "id": "rek9d6QmKc7L"
      }
    },
    {
      "cell_type": "code",
      "source": [
        "# now finding accuracy of KMEANS:"
      ],
      "metadata": {
        "id": "uw3S4HkLKIgP"
      },
      "execution_count": null,
      "outputs": []
    },
    {
      "cell_type": "code",
      "source": [
        "from sklearn.metrics import accuracy_score"
      ],
      "metadata": {
        "id": "vD5mDwkBK7g4"
      },
      "execution_count": null,
      "outputs": []
    },
    {
      "cell_type": "code",
      "source": [
        "accuracy_kmeans = accuracy_score(y_data, labels)"
      ],
      "metadata": {
        "id": "5fQiUIYRKTEr"
      },
      "execution_count": null,
      "outputs": []
    },
    {
      "cell_type": "code",
      "source": [
        "accuracy_kmeans"
      ],
      "metadata": {
        "colab": {
          "base_uri": "https://localhost:8080/"
        },
        "id": "Ueot2TCwK_P8",
        "outputId": "44006f6c-a43a-4652-ee43-41e2735fde4c"
      },
      "execution_count": null,
      "outputs": [
        {
          "output_type": "execute_result",
          "data": {
            "text/plain": [
              "0.313549459684123"
            ]
          },
          "metadata": {},
          "execution_count": 95
        }
      ]
    },
    {
      "cell_type": "code",
      "source": [
        "# KNN model:"
      ],
      "metadata": {
        "id": "PfOoLxaALBKk"
      },
      "execution_count": null,
      "outputs": []
    },
    {
      "cell_type": "code",
      "source": [
        "from sklearn.model_selection import train_test_split\n",
        "x_train, x_test, y_train, y_test= train_test_split(X_data, y_data, test_size=0.2, random_state=2)"
      ],
      "metadata": {
        "id": "u8ybyl1bOCML"
      },
      "execution_count": null,
      "outputs": []
    },
    {
      "cell_type": "code",
      "source": [
        "len(x_test)"
      ],
      "metadata": {
        "colab": {
          "base_uri": "https://localhost:8080/"
        },
        "id": "VeD1qAn8OFoQ",
        "outputId": "5ee9dbab-dcc5-4be8-fb51-7053a7685ed5"
      },
      "execution_count": null,
      "outputs": [
        {
          "output_type": "execute_result",
          "data": {
            "text/plain": [
              "4812"
            ]
          },
          "metadata": {},
          "execution_count": 101
        }
      ]
    },
    {
      "cell_type": "code",
      "source": [
        "len(x_train)"
      ],
      "metadata": {
        "colab": {
          "base_uri": "https://localhost:8080/"
        },
        "id": "79bwFApBOLL3",
        "outputId": "247838fe-6007-4d99-bb4e-39f8db88cd01"
      },
      "execution_count": null,
      "outputs": [
        {
          "output_type": "execute_result",
          "data": {
            "text/plain": [
              "19248"
            ]
          },
          "metadata": {},
          "execution_count": 102
        }
      ]
    },
    {
      "cell_type": "code",
      "source": [
        "from sklearn.neighbors import KNeighborsClassifier\n",
        "\n",
        "model= KNeighborsClassifier( n_neighbors=40)\n",
        "model.fit(x_train, y_train)"
      ],
      "metadata": {
        "colab": {
          "base_uri": "https://localhost:8080/",
          "height": 74
        },
        "id": "vIP1lKp2ONc5",
        "outputId": "b7316760-0b7a-43a9-a179-7b07dd36d209"
      },
      "execution_count": null,
      "outputs": [
        {
          "output_type": "execute_result",
          "data": {
            "text/plain": [
              "KNeighborsClassifier(n_neighbors=40)"
            ],
            "text/html": [
              "<style>#sk-container-id-5 {color: black;background-color: white;}#sk-container-id-5 pre{padding: 0;}#sk-container-id-5 div.sk-toggleable {background-color: white;}#sk-container-id-5 label.sk-toggleable__label {cursor: pointer;display: block;width: 100%;margin-bottom: 0;padding: 0.3em;box-sizing: border-box;text-align: center;}#sk-container-id-5 label.sk-toggleable__label-arrow:before {content: \"▸\";float: left;margin-right: 0.25em;color: #696969;}#sk-container-id-5 label.sk-toggleable__label-arrow:hover:before {color: black;}#sk-container-id-5 div.sk-estimator:hover label.sk-toggleable__label-arrow:before {color: black;}#sk-container-id-5 div.sk-toggleable__content {max-height: 0;max-width: 0;overflow: hidden;text-align: left;background-color: #f0f8ff;}#sk-container-id-5 div.sk-toggleable__content pre {margin: 0.2em;color: black;border-radius: 0.25em;background-color: #f0f8ff;}#sk-container-id-5 input.sk-toggleable__control:checked~div.sk-toggleable__content {max-height: 200px;max-width: 100%;overflow: auto;}#sk-container-id-5 input.sk-toggleable__control:checked~label.sk-toggleable__label-arrow:before {content: \"▾\";}#sk-container-id-5 div.sk-estimator input.sk-toggleable__control:checked~label.sk-toggleable__label {background-color: #d4ebff;}#sk-container-id-5 div.sk-label input.sk-toggleable__control:checked~label.sk-toggleable__label {background-color: #d4ebff;}#sk-container-id-5 input.sk-hidden--visually {border: 0;clip: rect(1px 1px 1px 1px);clip: rect(1px, 1px, 1px, 1px);height: 1px;margin: -1px;overflow: hidden;padding: 0;position: absolute;width: 1px;}#sk-container-id-5 div.sk-estimator {font-family: monospace;background-color: #f0f8ff;border: 1px dotted black;border-radius: 0.25em;box-sizing: border-box;margin-bottom: 0.5em;}#sk-container-id-5 div.sk-estimator:hover {background-color: #d4ebff;}#sk-container-id-5 div.sk-parallel-item::after {content: \"\";width: 100%;border-bottom: 1px solid gray;flex-grow: 1;}#sk-container-id-5 div.sk-label:hover label.sk-toggleable__label {background-color: #d4ebff;}#sk-container-id-5 div.sk-serial::before {content: \"\";position: absolute;border-left: 1px solid gray;box-sizing: border-box;top: 0;bottom: 0;left: 50%;z-index: 0;}#sk-container-id-5 div.sk-serial {display: flex;flex-direction: column;align-items: center;background-color: white;padding-right: 0.2em;padding-left: 0.2em;position: relative;}#sk-container-id-5 div.sk-item {position: relative;z-index: 1;}#sk-container-id-5 div.sk-parallel {display: flex;align-items: stretch;justify-content: center;background-color: white;position: relative;}#sk-container-id-5 div.sk-item::before, #sk-container-id-5 div.sk-parallel-item::before {content: \"\";position: absolute;border-left: 1px solid gray;box-sizing: border-box;top: 0;bottom: 0;left: 50%;z-index: -1;}#sk-container-id-5 div.sk-parallel-item {display: flex;flex-direction: column;z-index: 1;position: relative;background-color: white;}#sk-container-id-5 div.sk-parallel-item:first-child::after {align-self: flex-end;width: 50%;}#sk-container-id-5 div.sk-parallel-item:last-child::after {align-self: flex-start;width: 50%;}#sk-container-id-5 div.sk-parallel-item:only-child::after {width: 0;}#sk-container-id-5 div.sk-dashed-wrapped {border: 1px dashed gray;margin: 0 0.4em 0.5em 0.4em;box-sizing: border-box;padding-bottom: 0.4em;background-color: white;}#sk-container-id-5 div.sk-label label {font-family: monospace;font-weight: bold;display: inline-block;line-height: 1.2em;}#sk-container-id-5 div.sk-label-container {text-align: center;}#sk-container-id-5 div.sk-container {/* jupyter's `normalize.less` sets `[hidden] { display: none; }` but bootstrap.min.css set `[hidden] { display: none !important; }` so we also need the `!important` here to be able to override the default hidden behavior on the sphinx rendered scikit-learn.org. See: https://github.com/scikit-learn/scikit-learn/issues/21755 */display: inline-block !important;position: relative;}#sk-container-id-5 div.sk-text-repr-fallback {display: none;}</style><div id=\"sk-container-id-5\" class=\"sk-top-container\"><div class=\"sk-text-repr-fallback\"><pre>KNeighborsClassifier(n_neighbors=40)</pre><b>In a Jupyter environment, please rerun this cell to show the HTML representation or trust the notebook. <br />On GitHub, the HTML representation is unable to render, please try loading this page with nbviewer.org.</b></div><div class=\"sk-container\" hidden><div class=\"sk-item\"><div class=\"sk-estimator sk-toggleable\"><input class=\"sk-toggleable__control sk-hidden--visually\" id=\"sk-estimator-id-9\" type=\"checkbox\" checked><label for=\"sk-estimator-id-9\" class=\"sk-toggleable__label sk-toggleable__label-arrow\">KNeighborsClassifier</label><div class=\"sk-toggleable__content\"><pre>KNeighborsClassifier(n_neighbors=40)</pre></div></div></div></div></div>"
            ]
          },
          "metadata": {},
          "execution_count": 122
        }
      ]
    },
    {
      "cell_type": "code",
      "source": [
        "model.score(x_test, y_test)"
      ],
      "metadata": {
        "colab": {
          "base_uri": "https://localhost:8080/"
        },
        "id": "ZSL1A3_HOSGW",
        "outputId": "ee7af2fa-4901-4349-8e5b-21065e048c12"
      },
      "execution_count": null,
      "outputs": [
        {
          "output_type": "execute_result",
          "data": {
            "text/plain": [
              "0.5891521197007481"
            ]
          },
          "metadata": {},
          "execution_count": 123
        }
      ]
    },
    {
      "cell_type": "code",
      "source": [
        "model_param={\n",
        "    'KNN' : {\n",
        "        'model': KNeighborsClassifier(),\n",
        "        'params': {\n",
        "            'n_neighbors': [3,5,10,20, 30, 40, 100, 500]\n",
        "        }\n",
        "    }\n",
        "}"
      ],
      "metadata": {
        "id": "ss4IAZjgOT8h"
      },
      "execution_count": null,
      "outputs": []
    },
    {
      "cell_type": "code",
      "source": [
        "from sklearn.model_selection import GridSearchCV\n",
        "\n",
        "clf= GridSearchCV( KNeighborsClassifier(), {\n",
        "    'n_neighbors': [3,5,10,20, 30, 40, 100, 500]\n",
        "}, cv=5, return_train_score=False)"
      ],
      "metadata": {
        "id": "yZ6D3U5jOXVo"
      },
      "execution_count": null,
      "outputs": []
    },
    {
      "cell_type": "code",
      "source": [
        "clf.fit(x_train, y_train)"
      ],
      "metadata": {
        "colab": {
          "base_uri": "https://localhost:8080/",
          "height": 117
        },
        "id": "bsN2ckklOZ6y",
        "outputId": "02e6a57e-3b68-4727-a4e1-07951b075ccc"
      },
      "execution_count": null,
      "outputs": [
        {
          "output_type": "execute_result",
          "data": {
            "text/plain": [
              "GridSearchCV(cv=5, estimator=KNeighborsClassifier(),\n",
              "             param_grid={'n_neighbors': [3, 5, 10, 20, 30, 40, 100, 500]})"
            ],
            "text/html": [
              "<style>#sk-container-id-4 {color: black;background-color: white;}#sk-container-id-4 pre{padding: 0;}#sk-container-id-4 div.sk-toggleable {background-color: white;}#sk-container-id-4 label.sk-toggleable__label {cursor: pointer;display: block;width: 100%;margin-bottom: 0;padding: 0.3em;box-sizing: border-box;text-align: center;}#sk-container-id-4 label.sk-toggleable__label-arrow:before {content: \"▸\";float: left;margin-right: 0.25em;color: #696969;}#sk-container-id-4 label.sk-toggleable__label-arrow:hover:before {color: black;}#sk-container-id-4 div.sk-estimator:hover label.sk-toggleable__label-arrow:before {color: black;}#sk-container-id-4 div.sk-toggleable__content {max-height: 0;max-width: 0;overflow: hidden;text-align: left;background-color: #f0f8ff;}#sk-container-id-4 div.sk-toggleable__content pre {margin: 0.2em;color: black;border-radius: 0.25em;background-color: #f0f8ff;}#sk-container-id-4 input.sk-toggleable__control:checked~div.sk-toggleable__content {max-height: 200px;max-width: 100%;overflow: auto;}#sk-container-id-4 input.sk-toggleable__control:checked~label.sk-toggleable__label-arrow:before {content: \"▾\";}#sk-container-id-4 div.sk-estimator input.sk-toggleable__control:checked~label.sk-toggleable__label {background-color: #d4ebff;}#sk-container-id-4 div.sk-label input.sk-toggleable__control:checked~label.sk-toggleable__label {background-color: #d4ebff;}#sk-container-id-4 input.sk-hidden--visually {border: 0;clip: rect(1px 1px 1px 1px);clip: rect(1px, 1px, 1px, 1px);height: 1px;margin: -1px;overflow: hidden;padding: 0;position: absolute;width: 1px;}#sk-container-id-4 div.sk-estimator {font-family: monospace;background-color: #f0f8ff;border: 1px dotted black;border-radius: 0.25em;box-sizing: border-box;margin-bottom: 0.5em;}#sk-container-id-4 div.sk-estimator:hover {background-color: #d4ebff;}#sk-container-id-4 div.sk-parallel-item::after {content: \"\";width: 100%;border-bottom: 1px solid gray;flex-grow: 1;}#sk-container-id-4 div.sk-label:hover label.sk-toggleable__label {background-color: #d4ebff;}#sk-container-id-4 div.sk-serial::before {content: \"\";position: absolute;border-left: 1px solid gray;box-sizing: border-box;top: 0;bottom: 0;left: 50%;z-index: 0;}#sk-container-id-4 div.sk-serial {display: flex;flex-direction: column;align-items: center;background-color: white;padding-right: 0.2em;padding-left: 0.2em;position: relative;}#sk-container-id-4 div.sk-item {position: relative;z-index: 1;}#sk-container-id-4 div.sk-parallel {display: flex;align-items: stretch;justify-content: center;background-color: white;position: relative;}#sk-container-id-4 div.sk-item::before, #sk-container-id-4 div.sk-parallel-item::before {content: \"\";position: absolute;border-left: 1px solid gray;box-sizing: border-box;top: 0;bottom: 0;left: 50%;z-index: -1;}#sk-container-id-4 div.sk-parallel-item {display: flex;flex-direction: column;z-index: 1;position: relative;background-color: white;}#sk-container-id-4 div.sk-parallel-item:first-child::after {align-self: flex-end;width: 50%;}#sk-container-id-4 div.sk-parallel-item:last-child::after {align-self: flex-start;width: 50%;}#sk-container-id-4 div.sk-parallel-item:only-child::after {width: 0;}#sk-container-id-4 div.sk-dashed-wrapped {border: 1px dashed gray;margin: 0 0.4em 0.5em 0.4em;box-sizing: border-box;padding-bottom: 0.4em;background-color: white;}#sk-container-id-4 div.sk-label label {font-family: monospace;font-weight: bold;display: inline-block;line-height: 1.2em;}#sk-container-id-4 div.sk-label-container {text-align: center;}#sk-container-id-4 div.sk-container {/* jupyter's `normalize.less` sets `[hidden] { display: none; }` but bootstrap.min.css set `[hidden] { display: none !important; }` so we also need the `!important` here to be able to override the default hidden behavior on the sphinx rendered scikit-learn.org. See: https://github.com/scikit-learn/scikit-learn/issues/21755 */display: inline-block !important;position: relative;}#sk-container-id-4 div.sk-text-repr-fallback {display: none;}</style><div id=\"sk-container-id-4\" class=\"sk-top-container\"><div class=\"sk-text-repr-fallback\"><pre>GridSearchCV(cv=5, estimator=KNeighborsClassifier(),\n",
              "             param_grid={&#x27;n_neighbors&#x27;: [3, 5, 10, 20, 30, 40, 100, 500]})</pre><b>In a Jupyter environment, please rerun this cell to show the HTML representation or trust the notebook. <br />On GitHub, the HTML representation is unable to render, please try loading this page with nbviewer.org.</b></div><div class=\"sk-container\" hidden><div class=\"sk-item sk-dashed-wrapped\"><div class=\"sk-label-container\"><div class=\"sk-label sk-toggleable\"><input class=\"sk-toggleable__control sk-hidden--visually\" id=\"sk-estimator-id-6\" type=\"checkbox\" ><label for=\"sk-estimator-id-6\" class=\"sk-toggleable__label sk-toggleable__label-arrow\">GridSearchCV</label><div class=\"sk-toggleable__content\"><pre>GridSearchCV(cv=5, estimator=KNeighborsClassifier(),\n",
              "             param_grid={&#x27;n_neighbors&#x27;: [3, 5, 10, 20, 30, 40, 100, 500]})</pre></div></div></div><div class=\"sk-parallel\"><div class=\"sk-parallel-item\"><div class=\"sk-item\"><div class=\"sk-label-container\"><div class=\"sk-label sk-toggleable\"><input class=\"sk-toggleable__control sk-hidden--visually\" id=\"sk-estimator-id-7\" type=\"checkbox\" ><label for=\"sk-estimator-id-7\" class=\"sk-toggleable__label sk-toggleable__label-arrow\">estimator: KNeighborsClassifier</label><div class=\"sk-toggleable__content\"><pre>KNeighborsClassifier()</pre></div></div></div><div class=\"sk-serial\"><div class=\"sk-item\"><div class=\"sk-estimator sk-toggleable\"><input class=\"sk-toggleable__control sk-hidden--visually\" id=\"sk-estimator-id-8\" type=\"checkbox\" ><label for=\"sk-estimator-id-8\" class=\"sk-toggleable__label sk-toggleable__label-arrow\">KNeighborsClassifier</label><div class=\"sk-toggleable__content\"><pre>KNeighborsClassifier()</pre></div></div></div></div></div></div></div></div></div></div>"
            ]
          },
          "metadata": {},
          "execution_count": 117
        }
      ]
    },
    {
      "cell_type": "code",
      "source": [
        "d= pd.DataFrame(clf.cv_results_)\n",
        "d"
      ],
      "metadata": {
        "colab": {
          "base_uri": "https://localhost:8080/",
          "height": 503
        },
        "id": "9c8pWsiAObe7",
        "outputId": "3c6588ef-df92-457b-e9a1-1915bbdf298b"
      },
      "execution_count": null,
      "outputs": [
        {
          "output_type": "execute_result",
          "data": {
            "text/plain": [
              "   mean_fit_time  std_fit_time  mean_score_time  std_score_time  \\\n",
              "0       0.005109      0.002433         0.642766        0.105277   \n",
              "1       0.003110      0.000153         0.396688        0.042253   \n",
              "2       0.003135      0.000214         0.384728        0.015155   \n",
              "3       0.003223      0.000284         0.406269        0.029018   \n",
              "4       0.003049      0.000006         0.406322        0.007138   \n",
              "5       0.003290      0.000292         0.468085        0.091578   \n",
              "6       0.005328      0.000699         0.860492        0.058457   \n",
              "7       0.003397      0.000464         0.964573        0.012370   \n",
              "\n",
              "  param_n_neighbors                params  split0_test_score  \\\n",
              "0                 3    {'n_neighbors': 3}           0.531169   \n",
              "1                 5    {'n_neighbors': 5}           0.541818   \n",
              "2                10   {'n_neighbors': 10}           0.573766   \n",
              "3                20   {'n_neighbors': 20}           0.585455   \n",
              "4                30   {'n_neighbors': 30}           0.582857   \n",
              "5                40   {'n_neighbors': 40}           0.589351   \n",
              "6               100  {'n_neighbors': 100}           0.588831   \n",
              "7               500  {'n_neighbors': 500}           0.556364   \n",
              "\n",
              "   split1_test_score  split2_test_score  split3_test_score  split4_test_score  \\\n",
              "0           0.529351           0.537922           0.526111           0.531567   \n",
              "1           0.551688           0.561558           0.547415           0.551572   \n",
              "2           0.567013           0.585714           0.581190           0.570018   \n",
              "3           0.580779           0.587273           0.594180           0.579111   \n",
              "4           0.579740           0.590909           0.597558           0.577553   \n",
              "5           0.582597           0.597143           0.591322           0.574175   \n",
              "6           0.587013           0.587532           0.577033           0.576254   \n",
              "7           0.558442           0.555065           0.562484           0.558846   \n",
              "\n",
              "   mean_test_score  std_test_score  rank_test_score  \n",
              "0         0.531224        0.003864                8  \n",
              "1         0.550810        0.006469                7  \n",
              "2         0.575540        0.006954                5  \n",
              "3         0.585360        0.005320                3  \n",
              "4         0.585723        0.007453                2  \n",
              "5         0.586918        0.007886                1  \n",
              "6         0.583333        0.005499                4  \n",
              "7         0.558240        0.002531                6  "
            ],
            "text/html": [
              "\n",
              "  <div id=\"df-2f6371df-4b20-4007-94d1-95a8579f0063\">\n",
              "    <div class=\"colab-df-container\">\n",
              "      <div>\n",
              "<style scoped>\n",
              "    .dataframe tbody tr th:only-of-type {\n",
              "        vertical-align: middle;\n",
              "    }\n",
              "\n",
              "    .dataframe tbody tr th {\n",
              "        vertical-align: top;\n",
              "    }\n",
              "\n",
              "    .dataframe thead th {\n",
              "        text-align: right;\n",
              "    }\n",
              "</style>\n",
              "<table border=\"1\" class=\"dataframe\">\n",
              "  <thead>\n",
              "    <tr style=\"text-align: right;\">\n",
              "      <th></th>\n",
              "      <th>mean_fit_time</th>\n",
              "      <th>std_fit_time</th>\n",
              "      <th>mean_score_time</th>\n",
              "      <th>std_score_time</th>\n",
              "      <th>param_n_neighbors</th>\n",
              "      <th>params</th>\n",
              "      <th>split0_test_score</th>\n",
              "      <th>split1_test_score</th>\n",
              "      <th>split2_test_score</th>\n",
              "      <th>split3_test_score</th>\n",
              "      <th>split4_test_score</th>\n",
              "      <th>mean_test_score</th>\n",
              "      <th>std_test_score</th>\n",
              "      <th>rank_test_score</th>\n",
              "    </tr>\n",
              "  </thead>\n",
              "  <tbody>\n",
              "    <tr>\n",
              "      <th>0</th>\n",
              "      <td>0.005109</td>\n",
              "      <td>0.002433</td>\n",
              "      <td>0.642766</td>\n",
              "      <td>0.105277</td>\n",
              "      <td>3</td>\n",
              "      <td>{'n_neighbors': 3}</td>\n",
              "      <td>0.531169</td>\n",
              "      <td>0.529351</td>\n",
              "      <td>0.537922</td>\n",
              "      <td>0.526111</td>\n",
              "      <td>0.531567</td>\n",
              "      <td>0.531224</td>\n",
              "      <td>0.003864</td>\n",
              "      <td>8</td>\n",
              "    </tr>\n",
              "    <tr>\n",
              "      <th>1</th>\n",
              "      <td>0.003110</td>\n",
              "      <td>0.000153</td>\n",
              "      <td>0.396688</td>\n",
              "      <td>0.042253</td>\n",
              "      <td>5</td>\n",
              "      <td>{'n_neighbors': 5}</td>\n",
              "      <td>0.541818</td>\n",
              "      <td>0.551688</td>\n",
              "      <td>0.561558</td>\n",
              "      <td>0.547415</td>\n",
              "      <td>0.551572</td>\n",
              "      <td>0.550810</td>\n",
              "      <td>0.006469</td>\n",
              "      <td>7</td>\n",
              "    </tr>\n",
              "    <tr>\n",
              "      <th>2</th>\n",
              "      <td>0.003135</td>\n",
              "      <td>0.000214</td>\n",
              "      <td>0.384728</td>\n",
              "      <td>0.015155</td>\n",
              "      <td>10</td>\n",
              "      <td>{'n_neighbors': 10}</td>\n",
              "      <td>0.573766</td>\n",
              "      <td>0.567013</td>\n",
              "      <td>0.585714</td>\n",
              "      <td>0.581190</td>\n",
              "      <td>0.570018</td>\n",
              "      <td>0.575540</td>\n",
              "      <td>0.006954</td>\n",
              "      <td>5</td>\n",
              "    </tr>\n",
              "    <tr>\n",
              "      <th>3</th>\n",
              "      <td>0.003223</td>\n",
              "      <td>0.000284</td>\n",
              "      <td>0.406269</td>\n",
              "      <td>0.029018</td>\n",
              "      <td>20</td>\n",
              "      <td>{'n_neighbors': 20}</td>\n",
              "      <td>0.585455</td>\n",
              "      <td>0.580779</td>\n",
              "      <td>0.587273</td>\n",
              "      <td>0.594180</td>\n",
              "      <td>0.579111</td>\n",
              "      <td>0.585360</td>\n",
              "      <td>0.005320</td>\n",
              "      <td>3</td>\n",
              "    </tr>\n",
              "    <tr>\n",
              "      <th>4</th>\n",
              "      <td>0.003049</td>\n",
              "      <td>0.000006</td>\n",
              "      <td>0.406322</td>\n",
              "      <td>0.007138</td>\n",
              "      <td>30</td>\n",
              "      <td>{'n_neighbors': 30}</td>\n",
              "      <td>0.582857</td>\n",
              "      <td>0.579740</td>\n",
              "      <td>0.590909</td>\n",
              "      <td>0.597558</td>\n",
              "      <td>0.577553</td>\n",
              "      <td>0.585723</td>\n",
              "      <td>0.007453</td>\n",
              "      <td>2</td>\n",
              "    </tr>\n",
              "    <tr>\n",
              "      <th>5</th>\n",
              "      <td>0.003290</td>\n",
              "      <td>0.000292</td>\n",
              "      <td>0.468085</td>\n",
              "      <td>0.091578</td>\n",
              "      <td>40</td>\n",
              "      <td>{'n_neighbors': 40}</td>\n",
              "      <td>0.589351</td>\n",
              "      <td>0.582597</td>\n",
              "      <td>0.597143</td>\n",
              "      <td>0.591322</td>\n",
              "      <td>0.574175</td>\n",
              "      <td>0.586918</td>\n",
              "      <td>0.007886</td>\n",
              "      <td>1</td>\n",
              "    </tr>\n",
              "    <tr>\n",
              "      <th>6</th>\n",
              "      <td>0.005328</td>\n",
              "      <td>0.000699</td>\n",
              "      <td>0.860492</td>\n",
              "      <td>0.058457</td>\n",
              "      <td>100</td>\n",
              "      <td>{'n_neighbors': 100}</td>\n",
              "      <td>0.588831</td>\n",
              "      <td>0.587013</td>\n",
              "      <td>0.587532</td>\n",
              "      <td>0.577033</td>\n",
              "      <td>0.576254</td>\n",
              "      <td>0.583333</td>\n",
              "      <td>0.005499</td>\n",
              "      <td>4</td>\n",
              "    </tr>\n",
              "    <tr>\n",
              "      <th>7</th>\n",
              "      <td>0.003397</td>\n",
              "      <td>0.000464</td>\n",
              "      <td>0.964573</td>\n",
              "      <td>0.012370</td>\n",
              "      <td>500</td>\n",
              "      <td>{'n_neighbors': 500}</td>\n",
              "      <td>0.556364</td>\n",
              "      <td>0.558442</td>\n",
              "      <td>0.555065</td>\n",
              "      <td>0.562484</td>\n",
              "      <td>0.558846</td>\n",
              "      <td>0.558240</td>\n",
              "      <td>0.002531</td>\n",
              "      <td>6</td>\n",
              "    </tr>\n",
              "  </tbody>\n",
              "</table>\n",
              "</div>\n",
              "      <button class=\"colab-df-convert\" onclick=\"convertToInteractive('df-2f6371df-4b20-4007-94d1-95a8579f0063')\"\n",
              "              title=\"Convert this dataframe to an interactive table.\"\n",
              "              style=\"display:none;\">\n",
              "        \n",
              "  <svg xmlns=\"http://www.w3.org/2000/svg\" height=\"24px\"viewBox=\"0 0 24 24\"\n",
              "       width=\"24px\">\n",
              "    <path d=\"M0 0h24v24H0V0z\" fill=\"none\"/>\n",
              "    <path d=\"M18.56 5.44l.94 2.06.94-2.06 2.06-.94-2.06-.94-.94-2.06-.94 2.06-2.06.94zm-11 1L8.5 8.5l.94-2.06 2.06-.94-2.06-.94L8.5 2.5l-.94 2.06-2.06.94zm10 10l.94 2.06.94-2.06 2.06-.94-2.06-.94-.94-2.06-.94 2.06-2.06.94z\"/><path d=\"M17.41 7.96l-1.37-1.37c-.4-.4-.92-.59-1.43-.59-.52 0-1.04.2-1.43.59L10.3 9.45l-7.72 7.72c-.78.78-.78 2.05 0 2.83L4 21.41c.39.39.9.59 1.41.59.51 0 1.02-.2 1.41-.59l7.78-7.78 2.81-2.81c.8-.78.8-2.07 0-2.86zM5.41 20L4 18.59l7.72-7.72 1.47 1.35L5.41 20z\"/>\n",
              "  </svg>\n",
              "      </button>\n",
              "      \n",
              "  <style>\n",
              "    .colab-df-container {\n",
              "      display:flex;\n",
              "      flex-wrap:wrap;\n",
              "      gap: 12px;\n",
              "    }\n",
              "\n",
              "    .colab-df-convert {\n",
              "      background-color: #E8F0FE;\n",
              "      border: none;\n",
              "      border-radius: 50%;\n",
              "      cursor: pointer;\n",
              "      display: none;\n",
              "      fill: #1967D2;\n",
              "      height: 32px;\n",
              "      padding: 0 0 0 0;\n",
              "      width: 32px;\n",
              "    }\n",
              "\n",
              "    .colab-df-convert:hover {\n",
              "      background-color: #E2EBFA;\n",
              "      box-shadow: 0px 1px 2px rgba(60, 64, 67, 0.3), 0px 1px 3px 1px rgba(60, 64, 67, 0.15);\n",
              "      fill: #174EA6;\n",
              "    }\n",
              "\n",
              "    [theme=dark] .colab-df-convert {\n",
              "      background-color: #3B4455;\n",
              "      fill: #D2E3FC;\n",
              "    }\n",
              "\n",
              "    [theme=dark] .colab-df-convert:hover {\n",
              "      background-color: #434B5C;\n",
              "      box-shadow: 0px 1px 3px 1px rgba(0, 0, 0, 0.15);\n",
              "      filter: drop-shadow(0px 1px 2px rgba(0, 0, 0, 0.3));\n",
              "      fill: #FFFFFF;\n",
              "    }\n",
              "  </style>\n",
              "\n",
              "      <script>\n",
              "        const buttonEl =\n",
              "          document.querySelector('#df-2f6371df-4b20-4007-94d1-95a8579f0063 button.colab-df-convert');\n",
              "        buttonEl.style.display =\n",
              "          google.colab.kernel.accessAllowed ? 'block' : 'none';\n",
              "\n",
              "        async function convertToInteractive(key) {\n",
              "          const element = document.querySelector('#df-2f6371df-4b20-4007-94d1-95a8579f0063');\n",
              "          const dataTable =\n",
              "            await google.colab.kernel.invokeFunction('convertToInteractive',\n",
              "                                                     [key], {});\n",
              "          if (!dataTable) return;\n",
              "\n",
              "          const docLinkHtml = 'Like what you see? Visit the ' +\n",
              "            '<a target=\"_blank\" href=https://colab.research.google.com/notebooks/data_table.ipynb>data table notebook</a>'\n",
              "            + ' to learn more about interactive tables.';\n",
              "          element.innerHTML = '';\n",
              "          dataTable['output_type'] = 'display_data';\n",
              "          await google.colab.output.renderOutput(dataTable, element);\n",
              "          const docLink = document.createElement('div');\n",
              "          docLink.innerHTML = docLinkHtml;\n",
              "          element.appendChild(docLink);\n",
              "        }\n",
              "      </script>\n",
              "    </div>\n",
              "  </div>\n",
              "  "
            ]
          },
          "metadata": {},
          "execution_count": 118
        }
      ]
    },
    {
      "cell_type": "code",
      "source": [
        "d[['param_n_neighbors', 'mean_test_score']]"
      ],
      "metadata": {
        "colab": {
          "base_uri": "https://localhost:8080/",
          "height": 300
        },
        "id": "GR7uAqbFOgKv",
        "outputId": "cb4f097e-795a-4e09-881c-dbe346cb255e"
      },
      "execution_count": null,
      "outputs": [
        {
          "output_type": "execute_result",
          "data": {
            "text/plain": [
              "  param_n_neighbors  mean_test_score\n",
              "0                 3         0.531224\n",
              "1                 5         0.550810\n",
              "2                10         0.575540\n",
              "3                20         0.585360\n",
              "4                30         0.585723\n",
              "5                40         0.586918\n",
              "6               100         0.583333\n",
              "7               500         0.558240"
            ],
            "text/html": [
              "\n",
              "  <div id=\"df-989a46c1-6624-44a0-8ea0-bb1446288864\">\n",
              "    <div class=\"colab-df-container\">\n",
              "      <div>\n",
              "<style scoped>\n",
              "    .dataframe tbody tr th:only-of-type {\n",
              "        vertical-align: middle;\n",
              "    }\n",
              "\n",
              "    .dataframe tbody tr th {\n",
              "        vertical-align: top;\n",
              "    }\n",
              "\n",
              "    .dataframe thead th {\n",
              "        text-align: right;\n",
              "    }\n",
              "</style>\n",
              "<table border=\"1\" class=\"dataframe\">\n",
              "  <thead>\n",
              "    <tr style=\"text-align: right;\">\n",
              "      <th></th>\n",
              "      <th>param_n_neighbors</th>\n",
              "      <th>mean_test_score</th>\n",
              "    </tr>\n",
              "  </thead>\n",
              "  <tbody>\n",
              "    <tr>\n",
              "      <th>0</th>\n",
              "      <td>3</td>\n",
              "      <td>0.531224</td>\n",
              "    </tr>\n",
              "    <tr>\n",
              "      <th>1</th>\n",
              "      <td>5</td>\n",
              "      <td>0.550810</td>\n",
              "    </tr>\n",
              "    <tr>\n",
              "      <th>2</th>\n",
              "      <td>10</td>\n",
              "      <td>0.575540</td>\n",
              "    </tr>\n",
              "    <tr>\n",
              "      <th>3</th>\n",
              "      <td>20</td>\n",
              "      <td>0.585360</td>\n",
              "    </tr>\n",
              "    <tr>\n",
              "      <th>4</th>\n",
              "      <td>30</td>\n",
              "      <td>0.585723</td>\n",
              "    </tr>\n",
              "    <tr>\n",
              "      <th>5</th>\n",
              "      <td>40</td>\n",
              "      <td>0.586918</td>\n",
              "    </tr>\n",
              "    <tr>\n",
              "      <th>6</th>\n",
              "      <td>100</td>\n",
              "      <td>0.583333</td>\n",
              "    </tr>\n",
              "    <tr>\n",
              "      <th>7</th>\n",
              "      <td>500</td>\n",
              "      <td>0.558240</td>\n",
              "    </tr>\n",
              "  </tbody>\n",
              "</table>\n",
              "</div>\n",
              "      <button class=\"colab-df-convert\" onclick=\"convertToInteractive('df-989a46c1-6624-44a0-8ea0-bb1446288864')\"\n",
              "              title=\"Convert this dataframe to an interactive table.\"\n",
              "              style=\"display:none;\">\n",
              "        \n",
              "  <svg xmlns=\"http://www.w3.org/2000/svg\" height=\"24px\"viewBox=\"0 0 24 24\"\n",
              "       width=\"24px\">\n",
              "    <path d=\"M0 0h24v24H0V0z\" fill=\"none\"/>\n",
              "    <path d=\"M18.56 5.44l.94 2.06.94-2.06 2.06-.94-2.06-.94-.94-2.06-.94 2.06-2.06.94zm-11 1L8.5 8.5l.94-2.06 2.06-.94-2.06-.94L8.5 2.5l-.94 2.06-2.06.94zm10 10l.94 2.06.94-2.06 2.06-.94-2.06-.94-.94-2.06-.94 2.06-2.06.94z\"/><path d=\"M17.41 7.96l-1.37-1.37c-.4-.4-.92-.59-1.43-.59-.52 0-1.04.2-1.43.59L10.3 9.45l-7.72 7.72c-.78.78-.78 2.05 0 2.83L4 21.41c.39.39.9.59 1.41.59.51 0 1.02-.2 1.41-.59l7.78-7.78 2.81-2.81c.8-.78.8-2.07 0-2.86zM5.41 20L4 18.59l7.72-7.72 1.47 1.35L5.41 20z\"/>\n",
              "  </svg>\n",
              "      </button>\n",
              "      \n",
              "  <style>\n",
              "    .colab-df-container {\n",
              "      display:flex;\n",
              "      flex-wrap:wrap;\n",
              "      gap: 12px;\n",
              "    }\n",
              "\n",
              "    .colab-df-convert {\n",
              "      background-color: #E8F0FE;\n",
              "      border: none;\n",
              "      border-radius: 50%;\n",
              "      cursor: pointer;\n",
              "      display: none;\n",
              "      fill: #1967D2;\n",
              "      height: 32px;\n",
              "      padding: 0 0 0 0;\n",
              "      width: 32px;\n",
              "    }\n",
              "\n",
              "    .colab-df-convert:hover {\n",
              "      background-color: #E2EBFA;\n",
              "      box-shadow: 0px 1px 2px rgba(60, 64, 67, 0.3), 0px 1px 3px 1px rgba(60, 64, 67, 0.15);\n",
              "      fill: #174EA6;\n",
              "    }\n",
              "\n",
              "    [theme=dark] .colab-df-convert {\n",
              "      background-color: #3B4455;\n",
              "      fill: #D2E3FC;\n",
              "    }\n",
              "\n",
              "    [theme=dark] .colab-df-convert:hover {\n",
              "      background-color: #434B5C;\n",
              "      box-shadow: 0px 1px 3px 1px rgba(0, 0, 0, 0.15);\n",
              "      filter: drop-shadow(0px 1px 2px rgba(0, 0, 0, 0.3));\n",
              "      fill: #FFFFFF;\n",
              "    }\n",
              "  </style>\n",
              "\n",
              "      <script>\n",
              "        const buttonEl =\n",
              "          document.querySelector('#df-989a46c1-6624-44a0-8ea0-bb1446288864 button.colab-df-convert');\n",
              "        buttonEl.style.display =\n",
              "          google.colab.kernel.accessAllowed ? 'block' : 'none';\n",
              "\n",
              "        async function convertToInteractive(key) {\n",
              "          const element = document.querySelector('#df-989a46c1-6624-44a0-8ea0-bb1446288864');\n",
              "          const dataTable =\n",
              "            await google.colab.kernel.invokeFunction('convertToInteractive',\n",
              "                                                     [key], {});\n",
              "          if (!dataTable) return;\n",
              "\n",
              "          const docLinkHtml = 'Like what you see? Visit the ' +\n",
              "            '<a target=\"_blank\" href=https://colab.research.google.com/notebooks/data_table.ipynb>data table notebook</a>'\n",
              "            + ' to learn more about interactive tables.';\n",
              "          element.innerHTML = '';\n",
              "          dataTable['output_type'] = 'display_data';\n",
              "          await google.colab.output.renderOutput(dataTable, element);\n",
              "          const docLink = document.createElement('div');\n",
              "          docLink.innerHTML = docLinkHtml;\n",
              "          element.appendChild(docLink);\n",
              "        }\n",
              "      </script>\n",
              "    </div>\n",
              "  </div>\n",
              "  "
            ]
          },
          "metadata": {},
          "execution_count": 119
        }
      ]
    },
    {
      "cell_type": "code",
      "source": [
        "from sklearn.metrics import confusion_matrix\n",
        "\n",
        "y_predicted= model.predict(x_test)\n",
        "\n",
        "truth= y_test\n",
        "\n",
        "cm= confusion_matrix(truth, y_predicted)\n",
        "\n",
        "%matplotlib inline\n",
        "import matplotlib.pyplot as plt\n",
        "import seaborn as sn\n",
        "plt.figure(figsize=(7,5))\n",
        "sn.heatmap(cm, annot=True)\n",
        "plt.xlabel('Predicted')\n",
        "plt.ylabel('Truth')"
      ],
      "metadata": {
        "colab": {
          "base_uri": "https://localhost:8080/",
          "height": 482
        },
        "id": "16ezZDhoOrQ2",
        "outputId": "227cd9e0-0f35-41b4-a6af-88af5d0ec7d9"
      },
      "execution_count": null,
      "outputs": [
        {
          "output_type": "execute_result",
          "data": {
            "text/plain": [
              "Text(58.222222222222214, 0.5, 'Truth')"
            ]
          },
          "metadata": {},
          "execution_count": 124
        },
        {
          "output_type": "display_data",
          "data": {
            "text/plain": [
              "<Figure size 700x500 with 2 Axes>"
            ],
            "image/png": "[encoded data removed]"
          },
          "metadata": {}
        }
      ]
    },
    {
      "cell_type": "code",
      "source": [
        "from sklearn.metrics import classification_report\n",
        "\n",
        "print(classification_report(y_test, y_predicted))"
      ],
      "metadata": {
        "colab": {
          "base_uri": "https://localhost:8080/"
        },
        "id": "HVwm0gP0O0um",
        "outputId": "0f611665-a419-4f5d-8b4c-9fb96011e360"
      },
      "execution_count": null,
      "outputs": [
        {
          "output_type": "stream",
          "name": "stdout",
          "text": [
            "              precision    recall  f1-score   support\n",
            "\n",
            "           0       0.66      0.83      0.74      2282\n",
            "           1       0.50      0.41      0.45      1173\n",
            "           2       0.47      0.34      0.39      1357\n",
            "\n",
            "    accuracy                           0.59      4812\n",
            "   macro avg       0.54      0.53      0.53      4812\n",
            "weighted avg       0.57      0.59      0.57      4812\n",
            "\n"
          ]
        }
      ]
    },
    {
      "cell_type": "code",
      "source": [
        "# DNN:"
      ],
      "metadata": {
        "id": "7n26IyVPO73u"
      },
      "execution_count": null,
      "outputs": []
    },
    {
      "cell_type": "code",
      "source": [
        "import tensorflow as tf\n",
        "from sklearn.metrics import confusion_matrix\n",
        "from sklearn.model_selection import cross_val_predict\n",
        "from sklearn.model_selection import cross_val_score\n",
        "\n",
        "from tensorflow import keras\n",
        "from tensorflow.keras import layers\n",
        "from tensorflow.keras import optimizers, losses, activations, models\n",
        "from tensorflow.keras.layers import Conv1D , MaxPooling1D , Dense ,Activation, Dropout ,GlobalMaxPooling1D , Input , Flatten\n",
        "from tensorflow.keras.optimizers import Adam\n",
        "from tensorflow.keras import layers"
      ],
      "metadata": {
        "id": "61F6SNTXSpwn"
      },
      "execution_count": null,
      "outputs": []
    },
    {
      "cell_type": "code",
      "source": [
        "model = keras.Sequential()\n",
        "model.add(keras.Input(shape=(24,)))\n",
        "model.add(layers.Dense(40,activation='relu'))\n",
        "model.add(layers.Dense(30,activation='relu'))\n",
        "model.add(layers.Dense(20,activation='relu'))\n",
        "model.add(layers.Dense(10,activation='relu'))\n",
        "model.add(layers.Dense(5,activation='relu'))\n",
        "model.add(layers.Dense(3,activation='softmax'))\n",
        "\n",
        "opt = optimizers.Adam(0.0001)\n",
        "model.compile(optimizer=opt, loss=losses.categorical_crossentropy, metrics=['accuracy'])\n",
        "\n",
        "model.summary()"
      ],
      "metadata": {
        "colab": {
          "base_uri": "https://localhost:8080/"
        },
        "id": "Y-tzVtmTSvrd",
        "outputId": "a404350d-b777-4f64-dc2e-6dd043ab9d60"
      },
      "execution_count": null,
      "outputs": [
        {
          "output_type": "stream",
          "name": "stdout",
          "text": [
            "Model: \"sequential_11\"\n",
            "_________________________________________________________________\n",
            " Layer (type)                Output Shape              Param #   \n",
            "=================================================================\n",
            " dense_65 (Dense)            (None, 40)                1000      \n",
            "                                                                 \n",
            " dense_66 (Dense)            (None, 30)                1230      \n",
            "                                                                 \n",
            " dense_67 (Dense)            (None, 20)                620       \n",
            "                                                                 \n",
            " dense_68 (Dense)            (None, 10)                210       \n",
            "                                                                 \n",
            " dense_69 (Dense)            (None, 5)                 55        \n",
            "                                                                 \n",
            " dense_70 (Dense)            (None, 3)                 18        \n",
            "                                                                 \n",
            "=================================================================\n",
            "Total params: 3,133\n",
            "Trainable params: 3,133\n",
            "Non-trainable params: 0\n",
            "_________________________________________________________________\n"
          ]
        }
      ]
    },
    {
      "cell_type": "code",
      "source": [
        "y_encoded= pd.get_dummies(y_data)"
      ],
      "metadata": {
        "id": "mtK-JhK_S4bd"
      },
      "execution_count": null,
      "outputs": []
    },
    {
      "cell_type": "code",
      "source": [
        "y_encoded.head()"
      ],
      "metadata": {
        "colab": {
          "base_uri": "https://localhost:8080/",
          "height": 206
        },
        "id": "WmNRJZGmTClF",
        "outputId": "38035554-fcf9-4ff1-a058-45133c8befc2"
      },
      "execution_count": null,
      "outputs": [
        {
          "output_type": "execute_result",
          "data": {
            "text/plain": [
              "   0  1  2\n",
              "0  0  0  1\n",
              "1  0  0  1\n",
              "2  1  0  0\n",
              "3  0  1  0\n",
              "4  0  1  0"
            ],
            "text/html": [
              "\n",
              "  <div id=\"df-ca62a25f-d004-4717-bd2b-3260a4fe72a4\">\n",
              "    <div class=\"colab-df-container\">\n",
              "      <div>\n",
              "<style scoped>\n",
              "    .dataframe tbody tr th:only-of-type {\n",
              "        vertical-align: middle;\n",
              "    }\n",
              "\n",
              "    .dataframe tbody tr th {\n",
              "        vertical-align: top;\n",
              "    }\n",
              "\n",
              "    .dataframe thead th {\n",
              "        text-align: right;\n",
              "    }\n",
              "</style>\n",
              "<table border=\"1\" class=\"dataframe\">\n",
              "  <thead>\n",
              "    <tr style=\"text-align: right;\">\n",
              "      <th></th>\n",
              "      <th>0</th>\n",
              "      <th>1</th>\n",
              "      <th>2</th>\n",
              "    </tr>\n",
              "  </thead>\n",
              "  <tbody>\n",
              "    <tr>\n",
              "      <th>0</th>\n",
              "      <td>0</td>\n",
              "      <td>0</td>\n",
              "      <td>1</td>\n",
              "    </tr>\n",
              "    <tr>\n",
              "      <th>1</th>\n",
              "      <td>0</td>\n",
              "      <td>0</td>\n",
              "      <td>1</td>\n",
              "    </tr>\n",
              "    <tr>\n",
              "      <th>2</th>\n",
              "      <td>1</td>\n",
              "      <td>0</td>\n",
              "      <td>0</td>\n",
              "    </tr>\n",
              "    <tr>\n",
              "      <th>3</th>\n",
              "      <td>0</td>\n",
              "      <td>1</td>\n",
              "      <td>0</td>\n",
              "    </tr>\n",
              "    <tr>\n",
              "      <th>4</th>\n",
              "      <td>0</td>\n",
              "      <td>1</td>\n",
              "      <td>0</td>\n",
              "    </tr>\n",
              "  </tbody>\n",
              "</table>\n",
              "</div>\n",
              "      <button class=\"colab-df-convert\" onclick=\"convertToInteractive('df-ca62a25f-d004-4717-bd2b-3260a4fe72a4')\"\n",
              "              title=\"Convert this dataframe to an interactive table.\"\n",
              "              style=\"display:none;\">\n",
              "        \n",
              "  <svg xmlns=\"http://www.w3.org/2000/svg\" height=\"24px\"viewBox=\"0 0 24 24\"\n",
              "       width=\"24px\">\n",
              "    <path d=\"M0 0h24v24H0V0z\" fill=\"none\"/>\n",
              "    <path d=\"M18.56 5.44l.94 2.06.94-2.06 2.06-.94-2.06-.94-.94-2.06-.94 2.06-2.06.94zm-11 1L8.5 8.5l.94-2.06 2.06-.94-2.06-.94L8.5 2.5l-.94 2.06-2.06.94zm10 10l.94 2.06.94-2.06 2.06-.94-2.06-.94-.94-2.06-.94 2.06-2.06.94z\"/><path d=\"M17.41 7.96l-1.37-1.37c-.4-.4-.92-.59-1.43-.59-.52 0-1.04.2-1.43.59L10.3 9.45l-7.72 7.72c-.78.78-.78 2.05 0 2.83L4 21.41c.39.39.9.59 1.41.59.51 0 1.02-.2 1.41-.59l7.78-7.78 2.81-2.81c.8-.78.8-2.07 0-2.86zM5.41 20L4 18.59l7.72-7.72 1.47 1.35L5.41 20z\"/>\n",
              "  </svg>\n",
              "      </button>\n",
              "      \n",
              "  <style>\n",
              "    .colab-df-container {\n",
              "      display:flex;\n",
              "      flex-wrap:wrap;\n",
              "      gap: 12px;\n",
              "    }\n",
              "\n",
              "    .colab-df-convert {\n",
              "      background-color: #E8F0FE;\n",
              "      border: none;\n",
              "      border-radius: 50%;\n",
              "      cursor: pointer;\n",
              "      display: none;\n",
              "      fill: #1967D2;\n",
              "      height: 32px;\n",
              "      padding: 0 0 0 0;\n",
              "      width: 32px;\n",
              "    }\n",
              "\n",
              "    .colab-df-convert:hover {\n",
              "      background-color: #E2EBFA;\n",
              "      box-shadow: 0px 1px 2px rgba(60, 64, 67, 0.3), 0px 1px 3px 1px rgba(60, 64, 67, 0.15);\n",
              "      fill: #174EA6;\n",
              "    }\n",
              "\n",
              "    [theme=dark] .colab-df-convert {\n",
              "      background-color: #3B4455;\n",
              "      fill: #D2E3FC;\n",
              "    }\n",
              "\n",
              "    [theme=dark] .colab-df-convert:hover {\n",
              "      background-color: #434B5C;\n",
              "      box-shadow: 0px 1px 3px 1px rgba(0, 0, 0, 0.15);\n",
              "      filter: drop-shadow(0px 1px 2px rgba(0, 0, 0, 0.3));\n",
              "      fill: #FFFFFF;\n",
              "    }\n",
              "  </style>\n",
              "\n",
              "      <script>\n",
              "        const buttonEl =\n",
              "          document.querySelector('#df-ca62a25f-d004-4717-bd2b-3260a4fe72a4 button.colab-df-convert');\n",
              "        buttonEl.style.display =\n",
              "          google.colab.kernel.accessAllowed ? 'block' : 'none';\n",
              "\n",
              "        async function convertToInteractive(key) {\n",
              "          const element = document.querySelector('#df-ca62a25f-d004-4717-bd2b-3260a4fe72a4');\n",
              "          const dataTable =\n",
              "            await google.colab.kernel.invokeFunction('convertToInteractive',\n",
              "                                                     [key], {});\n",
              "          if (!dataTable) return;\n",
              "\n",
              "          const docLinkHtml = 'Like what you see? Visit the ' +\n",
              "            '<a target=\"_blank\" href=https://colab.research.google.com/notebooks/data_table.ipynb>data table notebook</a>'\n",
              "            + ' to learn more about interactive tables.';\n",
              "          element.innerHTML = '';\n",
              "          dataTable['output_type'] = 'display_data';\n",
              "          await google.colab.output.renderOutput(dataTable, element);\n",
              "          const docLink = document.createElement('div');\n",
              "          docLink.innerHTML = docLinkHtml;\n",
              "          element.appendChild(docLink);\n",
              "        }\n",
              "      </script>\n",
              "    </div>\n",
              "  </div>\n",
              "  "
            ]
          },
          "metadata": {},
          "execution_count": 134
        }
      ]
    },
    {
      "cell_type": "code",
      "source": [
        "X_train, X_test, y_train, y_test = train_test_split(X_data, y_encoded, test_size=0.2, random_state=42, stratify=y_encoded)"
      ],
      "metadata": {
        "id": "Zsk5jndUTDuy"
      },
      "execution_count": null,
      "outputs": []
    },
    {
      "cell_type": "code",
      "source": [
        "X_train.shape"
      ],
      "metadata": {
        "colab": {
          "base_uri": "https://localhost:8080/"
        },
        "id": "LQbPg_wvTMnH",
        "outputId": "4cdc7ad4-c367-4311-ea7e-36b0d67714cc"
      },
      "execution_count": null,
      "outputs": [
        {
          "output_type": "execute_result",
          "data": {
            "text/plain": [
              "(19248, 24)"
            ]
          },
          "metadata": {},
          "execution_count": 136
        }
      ]
    },
    {
      "cell_type": "code",
      "source": [
        "y_test.shape"
      ],
      "metadata": {
        "colab": {
          "base_uri": "https://localhost:8080/"
        },
        "id": "4oa3vMvmTP4H",
        "outputId": "28235123-7448-40d3-ca32-80f42d9d8729"
      },
      "execution_count": null,
      "outputs": [
        {
          "output_type": "execute_result",
          "data": {
            "text/plain": [
              "(4812, 3)"
            ]
          },
          "metadata": {},
          "execution_count": 137
        }
      ]
    },
    {
      "cell_type": "code",
      "source": [
        "model.fit(X_train, y_train,batch_size = 8,epochs = 100, validation_data=(X_test, y_test))"
      ],
      "metadata": {
        "colab": {
          "base_uri": "https://localhost:8080/"
        },
        "id": "c5hktWkjTQ_3",
        "outputId": "da6b0666-5eb3-4a4d-e5ce-f25980a5d9d1"
      },
      "execution_count": null,
      "outputs": [
        {
          "output_type": "stream",
          "name": "stdout",
          "text": [
            "Epoch 1/100\n",
            "2406/2406 [==============================] - 12s 3ms/step - loss: 1.0367 - accuracy: 0.4677 - val_loss: 0.9884 - val_accuracy: 0.4796\n",
            "Epoch 2/100\n",
            "2406/2406 [==============================] - 8s 3ms/step - loss: 0.9547 - accuracy: 0.5047 - val_loss: 0.9286 - val_accuracy: 0.5073\n",
            "Epoch 3/100\n",
            "2406/2406 [==============================] - 11s 5ms/step - loss: 0.9055 - accuracy: 0.5359 - val_loss: 0.8961 - val_accuracy: 0.5364\n",
            "Epoch 4/100\n",
            "2406/2406 [==============================] - 7s 3ms/step - loss: 0.8797 - accuracy: 0.5624 - val_loss: 0.8779 - val_accuracy: 0.5571\n",
            "Epoch 5/100\n",
            "2406/2406 [==============================] - 7s 3ms/step - loss: 0.8620 - accuracy: 0.5724 - val_loss: 0.8620 - val_accuracy: 0.5642\n",
            "Epoch 6/100\n",
            "2406/2406 [==============================] - 7s 3ms/step - loss: 0.8484 - accuracy: 0.5769 - val_loss: 0.8526 - val_accuracy: 0.5661\n",
            "Epoch 7/100\n",
            "2406/2406 [==============================] - 8s 3ms/step - loss: 0.8376 - accuracy: 0.5818 - val_loss: 0.8416 - val_accuracy: 0.5719\n",
            "Epoch 8/100\n",
            "2406/2406 [==============================] - 6s 3ms/step - loss: 0.8280 - accuracy: 0.5834 - val_loss: 0.8337 - val_accuracy: 0.5750\n",
            "Epoch 9/100\n",
            "2406/2406 [==============================] - 8s 3ms/step - loss: 0.8188 - accuracy: 0.5854 - val_loss: 0.8265 - val_accuracy: 0.5792\n",
            "Epoch 10/100\n",
            "2406/2406 [==============================] - 6s 2ms/step - loss: 0.8112 - accuracy: 0.5867 - val_loss: 0.8190 - val_accuracy: 0.5756\n",
            "Epoch 11/100\n",
            "2406/2406 [==============================] - 7s 3ms/step - loss: 0.8041 - accuracy: 0.5890 - val_loss: 0.8154 - val_accuracy: 0.5725\n",
            "Epoch 12/100\n",
            "2406/2406 [==============================] - 7s 3ms/step - loss: 0.7979 - accuracy: 0.5901 - val_loss: 0.8107 - val_accuracy: 0.5686\n",
            "Epoch 13/100\n",
            "2406/2406 [==============================] - 7s 3ms/step - loss: 0.7927 - accuracy: 0.5904 - val_loss: 0.8069 - val_accuracy: 0.5759\n",
            "Epoch 14/100\n",
            "2406/2406 [==============================] - 8s 3ms/step - loss: 0.7875 - accuracy: 0.5916 - val_loss: 0.8029 - val_accuracy: 0.5713\n",
            "Epoch 15/100\n",
            "2406/2406 [==============================] - 9s 4ms/step - loss: 0.7820 - accuracy: 0.5922 - val_loss: 0.7962 - val_accuracy: 0.5702\n",
            "Epoch 16/100\n",
            "2406/2406 [==============================] - 7s 3ms/step - loss: 0.7773 - accuracy: 0.5955 - val_loss: 0.7922 - val_accuracy: 0.5707\n",
            "Epoch 17/100\n",
            "2406/2406 [==============================] - 9s 4ms/step - loss: 0.7730 - accuracy: 0.5958 - val_loss: 0.7901 - val_accuracy: 0.5717\n",
            "Epoch 18/100\n",
            "2406/2406 [==============================] - 6s 3ms/step - loss: 0.7696 - accuracy: 0.5963 - val_loss: 0.7890 - val_accuracy: 0.5792\n",
            "Epoch 19/100\n",
            "2406/2406 [==============================] - 12s 5ms/step - loss: 0.7656 - accuracy: 0.5997 - val_loss: 0.7856 - val_accuracy: 0.5738\n",
            "Epoch 20/100\n",
            "2406/2406 [==============================] - 15s 6ms/step - loss: 0.7626 - accuracy: 0.5965 - val_loss: 0.7840 - val_accuracy: 0.5698\n",
            "Epoch 21/100\n",
            "2406/2406 [==============================] - 12s 5ms/step - loss: 0.7597 - accuracy: 0.6002 - val_loss: 0.7802 - val_accuracy: 0.5748\n",
            "Epoch 22/100\n",
            "2406/2406 [==============================] - 6s 2ms/step - loss: 0.7564 - accuracy: 0.6022 - val_loss: 0.7795 - val_accuracy: 0.5748\n",
            "Epoch 23/100\n",
            "2406/2406 [==============================] - 8s 3ms/step - loss: 0.7535 - accuracy: 0.6035 - val_loss: 0.7808 - val_accuracy: 0.5742\n",
            "Epoch 24/100\n",
            "2406/2406 [==============================] - 8s 3ms/step - loss: 0.7520 - accuracy: 0.6019 - val_loss: 0.7776 - val_accuracy: 0.5802\n",
            "Epoch 25/100\n",
            "2406/2406 [==============================] - 8s 3ms/step - loss: 0.7497 - accuracy: 0.6019 - val_loss: 0.7745 - val_accuracy: 0.5775\n",
            "Epoch 26/100\n",
            "2406/2406 [==============================] - 10s 4ms/step - loss: 0.7474 - accuracy: 0.6029 - val_loss: 0.7740 - val_accuracy: 0.5769\n",
            "Epoch 27/100\n",
            "2406/2406 [==============================] - 11s 5ms/step - loss: 0.7451 - accuracy: 0.6050 - val_loss: 0.7769 - val_accuracy: 0.5763\n",
            "Epoch 28/100\n",
            "2406/2406 [==============================] - 7s 3ms/step - loss: 0.7431 - accuracy: 0.6032 - val_loss: 0.7716 - val_accuracy: 0.5835\n",
            "Epoch 29/100\n",
            "2406/2406 [==============================] - 6s 3ms/step - loss: 0.7420 - accuracy: 0.6023 - val_loss: 0.7698 - val_accuracy: 0.5796\n",
            "Epoch 30/100\n",
            "2406/2406 [==============================] - 7s 3ms/step - loss: 0.7398 - accuracy: 0.6074 - val_loss: 0.7680 - val_accuracy: 0.5804\n",
            "Epoch 31/100\n",
            "2406/2406 [==============================] - 6s 3ms/step - loss: 0.7388 - accuracy: 0.6060 - val_loss: 0.7661 - val_accuracy: 0.5856\n",
            "Epoch 32/100\n",
            "2406/2406 [==============================] - 7s 3ms/step - loss: 0.7373 - accuracy: 0.6056 - val_loss: 0.7654 - val_accuracy: 0.5862\n",
            "Epoch 33/100\n",
            "2406/2406 [==============================] - 7s 3ms/step - loss: 0.7354 - accuracy: 0.6078 - val_loss: 0.7646 - val_accuracy: 0.5852\n",
            "Epoch 34/100\n",
            "2406/2406 [==============================] - 7s 3ms/step - loss: 0.7336 - accuracy: 0.6078 - val_loss: 0.7694 - val_accuracy: 0.5815\n",
            "Epoch 35/100\n",
            "2406/2406 [==============================] - 7s 3ms/step - loss: 0.7319 - accuracy: 0.6074 - val_loss: 0.7679 - val_accuracy: 0.5860\n",
            "Epoch 36/100\n",
            "2406/2406 [==============================] - 8s 3ms/step - loss: 0.7310 - accuracy: 0.6069 - val_loss: 0.7626 - val_accuracy: 0.5810\n",
            "Epoch 37/100\n",
            "2406/2406 [==============================] - 7s 3ms/step - loss: 0.7294 - accuracy: 0.6083 - val_loss: 0.7604 - val_accuracy: 0.5848\n",
            "Epoch 38/100\n",
            "2406/2406 [==============================] - 8s 3ms/step - loss: 0.7272 - accuracy: 0.6100 - val_loss: 0.7614 - val_accuracy: 0.5860\n",
            "Epoch 39/100\n",
            "2406/2406 [==============================] - 8s 3ms/step - loss: 0.7265 - accuracy: 0.6056 - val_loss: 0.7619 - val_accuracy: 0.5854\n",
            "Epoch 40/100\n",
            "2406/2406 [==============================] - 8s 3ms/step - loss: 0.7248 - accuracy: 0.6106 - val_loss: 0.7610 - val_accuracy: 0.5848\n",
            "Epoch 41/100\n",
            "2406/2406 [==============================] - 8s 3ms/step - loss: 0.7233 - accuracy: 0.6106 - val_loss: 0.7634 - val_accuracy: 0.5790\n",
            "Epoch 42/100\n",
            "2406/2406 [==============================] - 7s 3ms/step - loss: 0.7226 - accuracy: 0.6094 - val_loss: 0.7587 - val_accuracy: 0.5842\n",
            "Epoch 43/100\n",
            "2406/2406 [==============================] - 8s 3ms/step - loss: 0.7205 - accuracy: 0.6111 - val_loss: 0.7604 - val_accuracy: 0.5850\n",
            "Epoch 44/100\n",
            "2406/2406 [==============================] - 6s 2ms/step - loss: 0.7194 - accuracy: 0.6121 - val_loss: 0.7576 - val_accuracy: 0.5858\n",
            "Epoch 45/100\n",
            "2406/2406 [==============================] - 8s 3ms/step - loss: 0.7175 - accuracy: 0.6122 - val_loss: 0.7558 - val_accuracy: 0.5842\n",
            "Epoch 46/100\n",
            "2406/2406 [==============================] - 6s 2ms/step - loss: 0.7169 - accuracy: 0.6142 - val_loss: 0.7571 - val_accuracy: 0.5823\n",
            "Epoch 47/100\n",
            "2406/2406 [==============================] - 8s 3ms/step - loss: 0.7152 - accuracy: 0.6138 - val_loss: 0.7588 - val_accuracy: 0.5879\n",
            "Epoch 48/100\n",
            "2406/2406 [==============================] - 6s 2ms/step - loss: 0.7141 - accuracy: 0.6143 - val_loss: 0.7560 - val_accuracy: 0.5856\n",
            "Epoch 49/100\n",
            "2406/2406 [==============================] - 7s 3ms/step - loss: 0.7126 - accuracy: 0.6128 - val_loss: 0.7576 - val_accuracy: 0.5835\n",
            "Epoch 50/100\n",
            "2406/2406 [==============================] - 6s 3ms/step - loss: 0.7124 - accuracy: 0.6128 - val_loss: 0.7528 - val_accuracy: 0.5875\n",
            "Epoch 51/100\n",
            "2406/2406 [==============================] - 7s 3ms/step - loss: 0.7105 - accuracy: 0.6147 - val_loss: 0.7516 - val_accuracy: 0.5854\n",
            "Epoch 52/100\n",
            "2406/2406 [==============================] - 6s 2ms/step - loss: 0.7097 - accuracy: 0.6156 - val_loss: 0.7545 - val_accuracy: 0.5867\n",
            "Epoch 53/100\n",
            "2406/2406 [==============================] - 6s 3ms/step - loss: 0.7079 - accuracy: 0.6158 - val_loss: 0.7555 - val_accuracy: 0.5792\n",
            "Epoch 54/100\n",
            "2406/2406 [==============================] - 7s 3ms/step - loss: 0.7068 - accuracy: 0.6168 - val_loss: 0.7510 - val_accuracy: 0.5883\n",
            "Epoch 55/100\n",
            "2406/2406 [==============================] - 6s 3ms/step - loss: 0.7059 - accuracy: 0.6167 - val_loss: 0.7532 - val_accuracy: 0.5819\n",
            "Epoch 56/100\n",
            "2406/2406 [==============================] - 10s 4ms/step - loss: 0.7046 - accuracy: 0.6173 - val_loss: 0.7541 - val_accuracy: 0.5802\n",
            "Epoch 57/100\n",
            "2406/2406 [==============================] - 7s 3ms/step - loss: 0.7039 - accuracy: 0.6186 - val_loss: 0.7581 - val_accuracy: 0.5781\n",
            "Epoch 58/100\n",
            "2406/2406 [==============================] - 6s 2ms/step - loss: 0.7020 - accuracy: 0.6175 - val_loss: 0.7523 - val_accuracy: 0.5860\n",
            "Epoch 59/100\n",
            "2406/2406 [==============================] - 6s 3ms/step - loss: 0.7024 - accuracy: 0.6167 - val_loss: 0.7504 - val_accuracy: 0.5885\n",
            "Epoch 60/100\n",
            "2406/2406 [==============================] - 7s 3ms/step - loss: 0.7001 - accuracy: 0.6190 - val_loss: 0.7534 - val_accuracy: 0.5867\n",
            "Epoch 61/100\n",
            "2406/2406 [==============================] - 6s 3ms/step - loss: 0.7001 - accuracy: 0.6168 - val_loss: 0.7481 - val_accuracy: 0.5817\n",
            "Epoch 62/100\n",
            "2406/2406 [==============================] - 7s 3ms/step - loss: 0.6985 - accuracy: 0.6206 - val_loss: 0.7485 - val_accuracy: 0.5825\n",
            "Epoch 63/100\n",
            "2406/2406 [==============================] - 6s 3ms/step - loss: 0.6979 - accuracy: 0.6196 - val_loss: 0.7505 - val_accuracy: 0.5865\n",
            "Epoch 64/100\n",
            "2406/2406 [==============================] - 9s 4ms/step - loss: 0.6975 - accuracy: 0.6199 - val_loss: 0.7485 - val_accuracy: 0.5804\n",
            "Epoch 65/100\n",
            "2406/2406 [==============================] - 6s 3ms/step - loss: 0.6962 - accuracy: 0.6192 - val_loss: 0.7471 - val_accuracy: 0.5879\n",
            "Epoch 66/100\n",
            "2406/2406 [==============================] - 7s 3ms/step - loss: 0.6958 - accuracy: 0.6216 - val_loss: 0.7537 - val_accuracy: 0.5956\n",
            "Epoch 67/100\n",
            "2406/2406 [==============================] - 6s 3ms/step - loss: 0.6945 - accuracy: 0.6247 - val_loss: 0.7504 - val_accuracy: 0.5879\n",
            "Epoch 68/100\n",
            "2406/2406 [==============================] - 7s 3ms/step - loss: 0.6939 - accuracy: 0.6203 - val_loss: 0.7480 - val_accuracy: 0.5850\n",
            "Epoch 69/100\n",
            "2406/2406 [==============================] - 6s 2ms/step - loss: 0.6928 - accuracy: 0.6201 - val_loss: 0.7501 - val_accuracy: 0.5840\n",
            "Epoch 70/100\n",
            "2406/2406 [==============================] - 8s 3ms/step - loss: 0.6920 - accuracy: 0.6241 - val_loss: 0.7434 - val_accuracy: 0.5844\n",
            "Epoch 71/100\n",
            "2406/2406 [==============================] - 6s 3ms/step - loss: 0.6918 - accuracy: 0.6223 - val_loss: 0.7461 - val_accuracy: 0.5877\n",
            "Epoch 72/100\n",
            "2406/2406 [==============================] - 8s 3ms/step - loss: 0.6907 - accuracy: 0.6246 - val_loss: 0.7460 - val_accuracy: 0.5885\n",
            "Epoch 73/100\n",
            "2406/2406 [==============================] - 6s 2ms/step - loss: 0.6901 - accuracy: 0.6218 - val_loss: 0.7454 - val_accuracy: 0.5852\n",
            "Epoch 74/100\n",
            "2406/2406 [==============================] - 8s 3ms/step - loss: 0.6883 - accuracy: 0.6250 - val_loss: 0.7454 - val_accuracy: 0.5900\n",
            "Epoch 75/100\n",
            "2406/2406 [==============================] - 6s 3ms/step - loss: 0.6888 - accuracy: 0.6249 - val_loss: 0.7429 - val_accuracy: 0.5887\n",
            "Epoch 76/100\n",
            "2406/2406 [==============================] - 8s 3ms/step - loss: 0.6873 - accuracy: 0.6234 - val_loss: 0.7476 - val_accuracy: 0.5781\n",
            "Epoch 77/100\n",
            "2406/2406 [==============================] - 6s 3ms/step - loss: 0.6872 - accuracy: 0.6253 - val_loss: 0.7464 - val_accuracy: 0.5840\n",
            "Epoch 78/100\n",
            "2406/2406 [==============================] - 8s 3ms/step - loss: 0.6860 - accuracy: 0.6256 - val_loss: 0.7475 - val_accuracy: 0.5916\n",
            "Epoch 79/100\n",
            "2406/2406 [==============================] - 6s 3ms/step - loss: 0.6856 - accuracy: 0.6276 - val_loss: 0.7451 - val_accuracy: 0.5817\n",
            "Epoch 80/100\n",
            "2406/2406 [==============================] - 8s 3ms/step - loss: 0.6846 - accuracy: 0.6255 - val_loss: 0.7462 - val_accuracy: 0.5767\n",
            "Epoch 81/100\n",
            "2406/2406 [==============================] - 6s 3ms/step - loss: 0.6841 - accuracy: 0.6255 - val_loss: 0.7452 - val_accuracy: 0.5908\n",
            "Epoch 82/100\n",
            "2406/2406 [==============================] - 7s 3ms/step - loss: 0.6833 - accuracy: 0.6281 - val_loss: 0.7437 - val_accuracy: 0.5885\n",
            "Epoch 83/100\n",
            "2406/2406 [==============================] - 6s 3ms/step - loss: 0.6831 - accuracy: 0.6265 - val_loss: 0.7445 - val_accuracy: 0.5821\n",
            "Epoch 84/100\n",
            "2406/2406 [==============================] - 8s 3ms/step - loss: 0.6822 - accuracy: 0.6271 - val_loss: 0.7460 - val_accuracy: 0.5773\n",
            "Epoch 85/100\n",
            "2406/2406 [==============================] - 6s 3ms/step - loss: 0.6810 - accuracy: 0.6269 - val_loss: 0.7464 - val_accuracy: 0.5844\n",
            "Epoch 86/100\n",
            "2406/2406 [==============================] - 7s 3ms/step - loss: 0.6804 - accuracy: 0.6304 - val_loss: 0.7464 - val_accuracy: 0.5887\n",
            "Epoch 87/100\n",
            "2406/2406 [==============================] - 6s 3ms/step - loss: 0.6801 - accuracy: 0.6260 - val_loss: 0.7438 - val_accuracy: 0.5829\n",
            "Epoch 88/100\n",
            "2406/2406 [==============================] - 8s 3ms/step - loss: 0.6796 - accuracy: 0.6265 - val_loss: 0.7457 - val_accuracy: 0.5806\n",
            "Epoch 89/100\n",
            "2406/2406 [==============================] - 6s 2ms/step - loss: 0.6793 - accuracy: 0.6280 - val_loss: 0.7425 - val_accuracy: 0.5833\n",
            "Epoch 90/100\n",
            "2406/2406 [==============================] - 7s 3ms/step - loss: 0.6784 - accuracy: 0.6274 - val_loss: 0.7433 - val_accuracy: 0.5883\n",
            "Epoch 91/100\n",
            "2406/2406 [==============================] - 6s 3ms/step - loss: 0.6782 - accuracy: 0.6297 - val_loss: 0.7468 - val_accuracy: 0.5894\n",
            "Epoch 92/100\n",
            "2406/2406 [==============================] - 7s 3ms/step - loss: 0.6774 - accuracy: 0.6283 - val_loss: 0.7470 - val_accuracy: 0.5892\n",
            "Epoch 93/100\n",
            "2406/2406 [==============================] - 7s 3ms/step - loss: 0.6771 - accuracy: 0.6318 - val_loss: 0.7504 - val_accuracy: 0.5941\n",
            "Epoch 94/100\n",
            "2406/2406 [==============================] - 7s 3ms/step - loss: 0.6759 - accuracy: 0.6314 - val_loss: 0.7448 - val_accuracy: 0.5804\n",
            "Epoch 95/100\n",
            "2406/2406 [==============================] - 7s 3ms/step - loss: 0.6756 - accuracy: 0.6309 - val_loss: 0.7446 - val_accuracy: 0.5879\n",
            "Epoch 96/100\n",
            "2406/2406 [==============================] - 7s 3ms/step - loss: 0.6752 - accuracy: 0.6285 - val_loss: 0.7501 - val_accuracy: 0.5709\n",
            "Epoch 97/100\n",
            "2406/2406 [==============================] - 9s 4ms/step - loss: 0.6747 - accuracy: 0.6312 - val_loss: 0.7486 - val_accuracy: 0.5808\n",
            "Epoch 98/100\n",
            "2406/2406 [==============================] - 8s 3ms/step - loss: 0.6738 - accuracy: 0.6305 - val_loss: 0.7469 - val_accuracy: 0.5902\n",
            "Epoch 99/100\n",
            "2406/2406 [==============================] - 6s 2ms/step - loss: 0.6739 - accuracy: 0.6296 - val_loss: 0.7480 - val_accuracy: 0.5875\n",
            "Epoch 100/100\n",
            "2406/2406 [==============================] - 8s 3ms/step - loss: 0.6729 - accuracy: 0.6336 - val_loss: 0.7479 - val_accuracy: 0.5873\n"
          ]
        },
        {
          "output_type": "execute_result",
          "data": {
            "text/plain": [
              "<keras.callbacks.History at 0x7f3c06f67580>"
            ]
          },
          "metadata": {},
          "execution_count": 138
        }
      ]
    },
    {
      "cell_type": "code",
      "source": [
        "model.evaluate(X_test, y_test)"
      ],
      "metadata": {
        "colab": {
          "base_uri": "https://localhost:8080/"
        },
        "id": "6p6uk2PZaMNQ",
        "outputId": "9abccd5d-3486-45d6-fd7e-c4c4eac777b0"
      },
      "execution_count": null,
      "outputs": [
        {
          "output_type": "stream",
          "name": "stdout",
          "text": [
            "151/151 [==============================] - 1s 5ms/step - loss: 0.7479 - accuracy: 0.5873\n"
          ]
        },
        {
          "output_type": "execute_result",
          "data": {
            "text/plain": [
              "[0.747873067855835, 0.5872818231582642]"
            ]
          },
          "metadata": {},
          "execution_count": 148
        }
      ]
    },
    {
      "cell_type": "code",
      "source": [
        "\n",
        "# CNN:"
      ],
      "metadata": {
        "id": "GGhEqAVSTefW"
      },
      "execution_count": null,
      "outputs": []
    },
    {
      "cell_type": "code",
      "source": [
        "from keras.models import Sequential\n",
        "from keras.layers import Conv1D, MaxPooling1D, Flatten, Dense"
      ],
      "metadata": {
        "id": "1xK-dMBGT4aR"
      },
      "execution_count": null,
      "outputs": []
    },
    {
      "cell_type": "code",
      "source": [
        "num_classes=3"
      ],
      "metadata": {
        "id": "j8n3i5RuUB48"
      },
      "execution_count": null,
      "outputs": []
    },
    {
      "cell_type": "code",
      "source": [
        "model_1D= Sequential()\n",
        "model_1D.add(Conv1D(6, kernel_size=3, activation='relu', input_shape=(24, 1)))\n",
        "model_1D.add(MaxPooling1D(pool_size=2))\n",
        "model_1D.add(Conv1D(4, kernel_size=3, activation='relu'))\n",
        "model_1D.add(MaxPooling1D(pool_size=2))\n",
        "model_1D.add(Flatten())\n",
        "model_1D.add(Dense(20, activation='relu'))\n",
        "model_1D.add(Dense(10, activation='relu'))\n",
        "model_1D.add(Dense(num_classes, activation='softmax'))"
      ],
      "metadata": {
        "id": "CjWGrUeBUEv1"
      },
      "execution_count": null,
      "outputs": []
    },
    {
      "cell_type": "code",
      "source": [
        "model_1D.compile(loss='categorical_crossentropy', optimizer='adam', metrics=['accuracy'])"
      ],
      "metadata": {
        "id": "7NZ4esRHUI1v"
      },
      "execution_count": null,
      "outputs": []
    },
    {
      "cell_type": "code",
      "source": [
        "model_1D.summary()"
      ],
      "metadata": {
        "colab": {
          "base_uri": "https://localhost:8080/"
        },
        "id": "WSsYUtHhUNb-",
        "outputId": "0c8e9f78-7906-4302-e679-65d3c384e35b"
      },
      "execution_count": null,
      "outputs": [
        {
          "output_type": "stream",
          "name": "stdout",
          "text": [
            "Model: \"sequential_12\"\n",
            "_________________________________________________________________\n",
            " Layer (type)                Output Shape              Param #   \n",
            "=================================================================\n",
            " conv1d (Conv1D)             (None, 22, 6)             24        \n",
            "                                                                 \n",
            " max_pooling1d (MaxPooling1D  (None, 11, 6)            0         \n",
            " )                                                               \n",
            "                                                                 \n",
            " conv1d_1 (Conv1D)           (None, 9, 4)              76        \n",
            "                                                                 \n",
            " max_pooling1d_1 (MaxPooling  (None, 4, 4)             0         \n",
            " 1D)                                                             \n",
            "                                                                 \n",
            " flatten_10 (Flatten)        (None, 16)                0         \n",
            "                                                                 \n",
            " dense_71 (Dense)            (None, 20)                340       \n",
            "                                                                 \n",
            " dense_72 (Dense)            (None, 10)                210       \n",
            "                                                                 \n",
            " dense_73 (Dense)            (None, 3)                 33        \n",
            "                                                                 \n",
            "=================================================================\n",
            "Total params: 683\n",
            "Trainable params: 683\n",
            "Non-trainable params: 0\n",
            "_________________________________________________________________\n"
          ]
        }
      ]
    },
    {
      "cell_type": "code",
      "source": [
        "model_1D.fit(X_train, y_train, batch_size=8, epochs=50, validation_data=(X_test, y_test))"
      ],
      "metadata": {
        "colab": {
          "base_uri": "https://localhost:8080/"
        },
        "id": "XdUx5JPbUQ8C",
        "outputId": "d94d528b-2702-47a9-e414-26b5601821b4"
      },
      "execution_count": null,
      "outputs": [
        {
          "output_type": "stream",
          "name": "stdout",
          "text": [
            "Epoch 1/50\n",
            "2406/2406 [==============================] - 8s 3ms/step - loss: 0.9928 - accuracy: 0.5033 - val_loss: 0.9592 - val_accuracy: 0.5436\n",
            "Epoch 2/50\n",
            "2406/2406 [==============================] - 8s 3ms/step - loss: 0.9363 - accuracy: 0.5483 - val_loss: 0.9244 - val_accuracy: 0.5493\n",
            "Epoch 3/50\n",
            "2406/2406 [==============================] - 7s 3ms/step - loss: 0.9065 - accuracy: 0.5615 - val_loss: 0.8974 - val_accuracy: 0.5569\n",
            "Epoch 4/50\n",
            "2406/2406 [==============================] - 7s 3ms/step - loss: 0.8869 - accuracy: 0.5654 - val_loss: 0.8805 - val_accuracy: 0.5667\n",
            "Epoch 5/50\n",
            "2406/2406 [==============================] - 7s 3ms/step - loss: 0.8703 - accuracy: 0.5657 - val_loss: 0.8639 - val_accuracy: 0.5609\n",
            "Epoch 6/50\n",
            "2406/2406 [==============================] - 8s 3ms/step - loss: 0.8547 - accuracy: 0.5676 - val_loss: 0.8493 - val_accuracy: 0.5644\n",
            "Epoch 7/50\n",
            "2406/2406 [==============================] - 7s 3ms/step - loss: 0.8380 - accuracy: 0.5679 - val_loss: 0.8274 - val_accuracy: 0.5665\n",
            "Epoch 8/50\n",
            "2406/2406 [==============================] - 7s 3ms/step - loss: 0.8231 - accuracy: 0.5732 - val_loss: 0.8360 - val_accuracy: 0.5650\n",
            "Epoch 9/50\n",
            "2406/2406 [==============================] - 6s 3ms/step - loss: 0.8143 - accuracy: 0.5767 - val_loss: 0.8131 - val_accuracy: 0.5628\n",
            "Epoch 10/50\n",
            "2406/2406 [==============================] - 7s 3ms/step - loss: 0.8073 - accuracy: 0.5749 - val_loss: 0.8201 - val_accuracy: 0.5665\n",
            "Epoch 11/50\n",
            "2406/2406 [==============================] - 7s 3ms/step - loss: 0.8007 - accuracy: 0.5790 - val_loss: 0.8048 - val_accuracy: 0.5692\n",
            "Epoch 12/50\n",
            "2406/2406 [==============================] - 7s 3ms/step - loss: 0.7964 - accuracy: 0.5764 - val_loss: 0.8072 - val_accuracy: 0.5709\n",
            "Epoch 13/50\n",
            "2406/2406 [==============================] - 7s 3ms/step - loss: 0.7942 - accuracy: 0.5778 - val_loss: 0.7981 - val_accuracy: 0.5663\n",
            "Epoch 14/50\n",
            "2406/2406 [==============================] - 8s 3ms/step - loss: 0.7913 - accuracy: 0.5805 - val_loss: 0.8026 - val_accuracy: 0.5665\n",
            "Epoch 15/50\n",
            "2406/2406 [==============================] - 7s 3ms/step - loss: 0.7866 - accuracy: 0.5823 - val_loss: 0.8051 - val_accuracy: 0.5650\n",
            "Epoch 16/50\n",
            "2406/2406 [==============================] - 7s 3ms/step - loss: 0.7845 - accuracy: 0.5818 - val_loss: 0.7964 - val_accuracy: 0.5653\n",
            "Epoch 17/50\n",
            "2406/2406 [==============================] - 6s 2ms/step - loss: 0.7827 - accuracy: 0.5821 - val_loss: 0.7962 - val_accuracy: 0.5642\n",
            "Epoch 18/50\n",
            "2406/2406 [==============================] - 8s 3ms/step - loss: 0.7813 - accuracy: 0.5832 - val_loss: 0.7955 - val_accuracy: 0.5692\n",
            "Epoch 19/50\n",
            "2406/2406 [==============================] - 7s 3ms/step - loss: 0.7797 - accuracy: 0.5832 - val_loss: 0.7998 - val_accuracy: 0.5623\n",
            "Epoch 20/50\n",
            "2406/2406 [==============================] - 8s 3ms/step - loss: 0.7770 - accuracy: 0.5861 - val_loss: 0.7964 - val_accuracy: 0.5630\n",
            "Epoch 21/50\n",
            "2406/2406 [==============================] - 6s 3ms/step - loss: 0.7758 - accuracy: 0.5850 - val_loss: 0.7898 - val_accuracy: 0.5680\n",
            "Epoch 22/50\n",
            "2406/2406 [==============================] - 8s 3ms/step - loss: 0.7742 - accuracy: 0.5848 - val_loss: 0.7887 - val_accuracy: 0.5646\n",
            "Epoch 23/50\n",
            "2406/2406 [==============================] - 6s 3ms/step - loss: 0.7728 - accuracy: 0.5858 - val_loss: 0.7894 - val_accuracy: 0.5644\n",
            "Epoch 24/50\n",
            "2406/2406 [==============================] - 8s 3ms/step - loss: 0.7727 - accuracy: 0.5843 - val_loss: 0.7874 - val_accuracy: 0.5669\n",
            "Epoch 25/50\n",
            "2406/2406 [==============================] - 6s 3ms/step - loss: 0.7696 - accuracy: 0.5872 - val_loss: 0.7876 - val_accuracy: 0.5659\n",
            "Epoch 26/50\n",
            "2406/2406 [==============================] - 7s 3ms/step - loss: 0.7688 - accuracy: 0.5885 - val_loss: 0.7966 - val_accuracy: 0.5596\n",
            "Epoch 27/50\n",
            "2406/2406 [==============================] - 6s 3ms/step - loss: 0.7666 - accuracy: 0.5879 - val_loss: 0.7901 - val_accuracy: 0.5671\n",
            "Epoch 28/50\n",
            "2406/2406 [==============================] - 8s 3ms/step - loss: 0.7654 - accuracy: 0.5893 - val_loss: 0.7985 - val_accuracy: 0.5626\n",
            "Epoch 29/50\n",
            "2406/2406 [==============================] - 6s 2ms/step - loss: 0.7652 - accuracy: 0.5888 - val_loss: 0.7979 - val_accuracy: 0.5599\n",
            "Epoch 30/50\n",
            "2406/2406 [==============================] - 8s 3ms/step - loss: 0.7646 - accuracy: 0.5880 - val_loss: 0.7900 - val_accuracy: 0.5646\n",
            "Epoch 31/50\n",
            "2406/2406 [==============================] - 6s 3ms/step - loss: 0.7627 - accuracy: 0.5866 - val_loss: 0.8006 - val_accuracy: 0.5669\n",
            "Epoch 32/50\n",
            "2406/2406 [==============================] - 8s 3ms/step - loss: 0.7640 - accuracy: 0.5858 - val_loss: 0.7837 - val_accuracy: 0.5646\n",
            "Epoch 33/50\n",
            "2406/2406 [==============================] - 6s 2ms/step - loss: 0.7615 - accuracy: 0.5895 - val_loss: 0.7981 - val_accuracy: 0.5638\n",
            "Epoch 34/50\n",
            "2406/2406 [==============================] - 8s 3ms/step - loss: 0.7624 - accuracy: 0.5861 - val_loss: 0.7830 - val_accuracy: 0.5680\n",
            "Epoch 35/50\n",
            "2406/2406 [==============================] - 6s 3ms/step - loss: 0.7597 - accuracy: 0.5894 - val_loss: 0.7871 - val_accuracy: 0.5719\n",
            "Epoch 36/50\n",
            "2406/2406 [==============================] - 7s 3ms/step - loss: 0.7601 - accuracy: 0.5866 - val_loss: 0.7842 - val_accuracy: 0.5642\n",
            "Epoch 37/50\n",
            "2406/2406 [==============================] - 8s 3ms/step - loss: 0.7584 - accuracy: 0.5897 - val_loss: 0.7827 - val_accuracy: 0.5692\n",
            "Epoch 38/50\n",
            "2406/2406 [==============================] - 8s 3ms/step - loss: 0.7573 - accuracy: 0.5880 - val_loss: 0.7880 - val_accuracy: 0.5644\n",
            "Epoch 39/50\n",
            "2406/2406 [==============================] - 6s 2ms/step - loss: 0.7574 - accuracy: 0.5895 - val_loss: 0.7923 - val_accuracy: 0.5642\n",
            "Epoch 40/50\n",
            "2406/2406 [==============================] - 8s 3ms/step - loss: 0.7557 - accuracy: 0.5884 - val_loss: 0.7873 - val_accuracy: 0.5677\n",
            "Epoch 41/50\n",
            "2406/2406 [==============================] - 6s 3ms/step - loss: 0.7550 - accuracy: 0.5932 - val_loss: 0.7912 - val_accuracy: 0.5682\n",
            "Epoch 42/50\n",
            "2406/2406 [==============================] - 8s 3ms/step - loss: 0.7551 - accuracy: 0.5890 - val_loss: 0.7825 - val_accuracy: 0.5636\n",
            "Epoch 43/50\n",
            "2406/2406 [==============================] - 6s 3ms/step - loss: 0.7540 - accuracy: 0.5882 - val_loss: 0.7927 - val_accuracy: 0.5623\n",
            "Epoch 44/50\n",
            "2406/2406 [==============================] - 8s 3ms/step - loss: 0.7542 - accuracy: 0.5882 - val_loss: 0.7865 - val_accuracy: 0.5688\n",
            "Epoch 45/50\n",
            "2406/2406 [==============================] - 7s 3ms/step - loss: 0.7529 - accuracy: 0.5895 - val_loss: 0.7869 - val_accuracy: 0.5663\n",
            "Epoch 46/50\n",
            "2406/2406 [==============================] - 8s 3ms/step - loss: 0.7528 - accuracy: 0.5900 - val_loss: 0.7842 - val_accuracy: 0.5661\n",
            "Epoch 47/50\n",
            "2406/2406 [==============================] - 6s 2ms/step - loss: 0.7523 - accuracy: 0.5885 - val_loss: 0.7943 - val_accuracy: 0.5655\n",
            "Epoch 48/50\n",
            "2406/2406 [==============================] - 7s 3ms/step - loss: 0.7530 - accuracy: 0.5897 - val_loss: 0.7864 - val_accuracy: 0.5634\n",
            "Epoch 49/50\n",
            "2406/2406 [==============================] - 6s 3ms/step - loss: 0.7502 - accuracy: 0.5890 - val_loss: 0.7838 - val_accuracy: 0.5657\n",
            "Epoch 50/50\n",
            "2406/2406 [==============================] - 8s 3ms/step - loss: 0.7520 - accuracy: 0.5915 - val_loss: 0.7955 - val_accuracy: 0.5650\n"
          ]
        },
        {
          "output_type": "execute_result",
          "data": {
            "text/plain": [
              "<keras.callbacks.History at 0x7f3c0f5d3d60>"
            ]
          },
          "metadata": {},
          "execution_count": 145
        }
      ]
    },
    {
      "cell_type": "code",
      "source": [
        "model_1D.evaluate(X_test, y_test)"
      ],
      "metadata": {
        "colab": {
          "base_uri": "https://localhost:8080/"
        },
        "id": "aMkoteVVUTFb",
        "outputId": "7b12c306-6dec-407b-d693-a4a4c5c19e84"
      },
      "execution_count": null,
      "outputs": [
        {
          "output_type": "stream",
          "name": "stdout",
          "text": [
            "151/151 [==============================] - 0s 2ms/step - loss: 0.7955 - accuracy: 0.5650\n"
          ]
        },
        {
          "output_type": "execute_result",
          "data": {
            "text/plain": [
              "[0.7955031394958496, 0.5650457143783569]"
            ]
          },
          "metadata": {},
          "execution_count": 146
        }
      ]
    },
    {
      "cell_type": "code",
      "source": [],
      "metadata": {
        "id": "SLD5Zm2LUWIB"
      },
      "execution_count": null,
      "outputs": []
    }
  ]
}