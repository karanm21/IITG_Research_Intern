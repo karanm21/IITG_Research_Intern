{
  "nbformat": 4,
  "nbformat_minor": 0,
  "metadata": {
    "colab": {
      "provenance": [],
      "authorship_tag": "ABX9TyPEFlMA38P3Aapqt7Ic3Wvw",
      "include_colab_link": true
    },
    "kernelspec": {
      "name": "python3",
      "display_name": "Python 3"
    },
    "language_info": {
      "name": "python"
    }
  },
  "cells": [
    {
      "cell_type": "markdown",
      "metadata": {
        "id": "view-in-github",
        "colab_type": "text"
      },
      "source": [
        "<a href=\"https://colab.research.google.com/github/karanm21/IITG_Research_Intern/blob/main/IITG_3sec_dataset.ipynb\" target=\"_parent\"><img src=\"https://colab.research.google.com/assets/colab-badge.svg\" alt=\"Open In Colab\"/></a>"
      ]
    },
    {
      "cell_type": "code",
      "execution_count": null,
      "metadata": {
        "id": "2OBlpmssYCC-",
        "colab": {
          "base_uri": "https://localhost:8080/"
        },
        "outputId": "a5ede843-fa75-4cea-e28d-7e8db5d2002b"
      },
      "outputs": [
        {
          "output_type": "stream",
          "name": "stdout",
          "text": [
            "Looking in indexes: https://pypi.org/simple, https://us-python.pkg.dev/colab-wheels/public/simple/\n",
            "Collecting wfdb\n",
            "  Downloading wfdb-4.1.1-py3-none-any.whl (159 kB)\n",
            "\u001b[2K     \u001b[90m━━━━━━━━━━━━━━━━━━━━━━━━━━━━━━━━━━━━━━━\u001b[0m \u001b[32m159.9/159.9 kB\u001b[0m \u001b[31m4.2 MB/s\u001b[0m eta \u001b[36m0:00:00\u001b[0m\n",
            "\u001b[?25hRequirement already satisfied: SoundFile>=0.10.0 in /usr/local/lib/python3.10/dist-packages (from wfdb) (0.12.1)\n",
            "Requirement already satisfied: matplotlib>=3.2.2 in /usr/local/lib/python3.10/dist-packages (from wfdb) (3.7.1)\n",
            "Requirement already satisfied: numpy>=1.10.1 in /usr/local/lib/python3.10/dist-packages (from wfdb) (1.22.4)\n",
            "Requirement already satisfied: pandas>=1.3.0 in /usr/local/lib/python3.10/dist-packages (from wfdb) (1.5.3)\n",
            "Requirement already satisfied: requests>=2.8.1 in /usr/local/lib/python3.10/dist-packages (from wfdb) (2.27.1)\n",
            "Requirement already satisfied: scipy>=1.0.0 in /usr/local/lib/python3.10/dist-packages (from wfdb) (1.10.1)\n",
            "Requirement already satisfied: contourpy>=1.0.1 in /usr/local/lib/python3.10/dist-packages (from matplotlib>=3.2.2->wfdb) (1.0.7)\n",
            "Requirement already satisfied: cycler>=0.10 in /usr/local/lib/python3.10/dist-packages (from matplotlib>=3.2.2->wfdb) (0.11.0)\n",
            "Requirement already satisfied: fonttools>=4.22.0 in /usr/local/lib/python3.10/dist-packages (from matplotlib>=3.2.2->wfdb) (4.39.3)\n",
            "Requirement already satisfied: kiwisolver>=1.0.1 in /usr/local/lib/python3.10/dist-packages (from matplotlib>=3.2.2->wfdb) (1.4.4)\n",
            "Requirement already satisfied: packaging>=20.0 in /usr/local/lib/python3.10/dist-packages (from matplotlib>=3.2.2->wfdb) (23.1)\n",
            "Requirement already satisfied: pillow>=6.2.0 in /usr/local/lib/python3.10/dist-packages (from matplotlib>=3.2.2->wfdb) (8.4.0)\n",
            "Requirement already satisfied: pyparsing>=2.3.1 in /usr/local/lib/python3.10/dist-packages (from matplotlib>=3.2.2->wfdb) (3.0.9)\n",
            "Requirement already satisfied: python-dateutil>=2.7 in /usr/local/lib/python3.10/dist-packages (from matplotlib>=3.2.2->wfdb) (2.8.2)\n",
            "Requirement already satisfied: pytz>=2020.1 in /usr/local/lib/python3.10/dist-packages (from pandas>=1.3.0->wfdb) (2022.7.1)\n",
            "Requirement already satisfied: urllib3<1.27,>=1.21.1 in /usr/local/lib/python3.10/dist-packages (from requests>=2.8.1->wfdb) (1.26.15)\n",
            "Requirement already satisfied: certifi>=2017.4.17 in /usr/local/lib/python3.10/dist-packages (from requests>=2.8.1->wfdb) (2022.12.7)\n",
            "Requirement already satisfied: charset-normalizer~=2.0.0 in /usr/local/lib/python3.10/dist-packages (from requests>=2.8.1->wfdb) (2.0.12)\n",
            "Requirement already satisfied: idna<4,>=2.5 in /usr/local/lib/python3.10/dist-packages (from requests>=2.8.1->wfdb) (3.4)\n",
            "Requirement already satisfied: cffi>=1.0 in /usr/local/lib/python3.10/dist-packages (from SoundFile>=0.10.0->wfdb) (1.15.1)\n",
            "Requirement already satisfied: pycparser in /usr/local/lib/python3.10/dist-packages (from cffi>=1.0->SoundFile>=0.10.0->wfdb) (2.21)\n",
            "Requirement already satisfied: six>=1.5 in /usr/local/lib/python3.10/dist-packages (from python-dateutil>=2.7->matplotlib>=3.2.2->wfdb) (1.16.0)\n",
            "Installing collected packages: wfdb\n",
            "Successfully installed wfdb-4.1.1\n"
          ]
        }
      ],
      "source": [
        "pip install wfdb"
      ]
    },
    {
      "cell_type": "code",
      "source": [
        "import wfdb"
      ],
      "metadata": {
        "id": "P9vq0CM6ZET_"
      },
      "execution_count": null,
      "outputs": []
    },
    {
      "cell_type": "code",
      "source": [
        "from IPython.display import display\n",
        "import matplotlib.pyplot as plt\n",
        "%matplotlib inline\n",
        "import numpy as np\n",
        "import os\n",
        "import shutil\n",
        "import posixpath\n",
        "import pandas as pd"
      ],
      "metadata": {
        "id": "2W1chhbSZIku"
      },
      "execution_count": null,
      "outputs": []
    },
    {
      "cell_type": "code",
      "source": [
        "wfdb.dl_database('mitdb', os.path.join(os.getcwd(), 'mitdb'))"
      ],
      "metadata": {
        "id": "rKDGaCd_ZPq7"
      },
      "execution_count": null,
      "outputs": []
    },
    {
      "cell_type": "code",
      "source": [
        "wfdb.dl_database('nsrdb', os.path.join(os.getcwd(), 'nsrdb'))"
      ],
      "metadata": {
        "id": "ORPqP24bhxAp"
      },
      "execution_count": null,
      "outputs": []
    },
    {
      "cell_type": "code",
      "source": [
        "from wfdb import processing\n",
        "import pywt\n",
        "import sys\n",
        "from scipy import signal\n",
        "import matplotlib.pyplot as plt\n",
        "plt.rcParams['figure.figsize'] = [30, 15]\n",
        "from sklearn import svm\n",
        "# from sklearn_rvm import EMRVC\n",
        "# from skrvm import RVC\n",
        "from scipy.signal import find_peaks\n",
        "from scipy.signal import decimate\n",
        "from sklearn.decomposition import PCA"
      ],
      "metadata": {
        "id": "iy_u987TZTUF"
      },
      "execution_count": null,
      "outputs": []
    },
    {
      "cell_type": "code",
      "source": [
        "records = ['mitdb/100','mitdb/101','mitdb/102', 'mitdb/103', 'mitdb/105', 'mitdb/106', 'mitdb/111', 'mitdb/112',\n",
        "                 'mitdb/113','mitdb/115', 'mitdb/116', 'mitdb/118', 'mitdb/121', 'mitdb/122',  'mitdb/123', 'mitdb/124',\n",
        "                 'mitdb/209','mitdb/210','mitdb/230','mitdb/231', 'mitdb/232', 'mitdb/234',\n",
        "                 'mitdb/221','mitdb/222', 'mitdb/223', 'mitdb/228']"
      ],
      "metadata": {
        "id": "kju-gRZDZWNW"
      },
      "execution_count": null,
      "outputs": []
    },
    {
      "cell_type": "code",
      "source": [
        "pip install neurokit2"
      ],
      "metadata": {
        "id": "Vc_xZ10-ZcxT"
      },
      "execution_count": null,
      "outputs": []
    },
    {
      "cell_type": "code",
      "source": [
        "pip install biosppy"
      ],
      "metadata": {
        "id": "dyq5oRTdZtdZ"
      },
      "execution_count": null,
      "outputs": []
    },
    {
      "cell_type": "code",
      "source": [
        "import neurokit2 as nk\n",
        "import biosppy\n",
        "from statistics import mean"
      ],
      "metadata": {
        "id": "zATYF_BwZvmw"
      },
      "execution_count": null,
      "outputs": []
    },
    {
      "cell_type": "code",
      "source": [
        "def startFuncMIT_V(signalString):\n",
        "\n",
        "    signals, fields = wfdb.rdsamp(signalString)\n",
        "    signals = signals[:,0]\n",
        "    signals = np.array(signals, dtype=[('O', float)]).astype(float)\n",
        "    signals = (signals - np.mean(signals))/(np.std(signals))\n",
        "    ann = wfdb.rdann(signalString, 'atr')\n",
        "\n",
        "    signals, ann = wfdb.processing.resample_singlechan(signals, ann, 360, 250)\n",
        "    samples = ann.sample\n",
        "    symbols = ann.symbol\n",
        "\n",
        "    points = []\n",
        "    pointSym = []\n",
        "\n",
        "    for i in range(len(samples)):\n",
        "        if(symbols[i] == 'V' or symbols[i] == 'F' or symbols[i] == 'E' or symbols[i] == '!'):\n",
        "            points.append(samples[i])\n",
        "            pointSym.append(symbols[i])\n",
        "\n",
        "    return points, pointSym, signals, samples"
      ],
      "metadata": {
        "id": "qRLoIkbmZ6Bf"
      },
      "execution_count": null,
      "outputs": []
    },
    {
      "cell_type": "code",
      "source": [
        "def startFuncMIT_N(signalString):\n",
        "\n",
        "    signals, fields = wfdb.rdsamp(signalString)\n",
        "    signals = signals[:,0]\n",
        "    signals = np.array(signals, dtype=[('O', float)]).astype(float)\n",
        "    signals = (signals - np.mean(signals))/(np.std(signals))\n",
        "    ann = wfdb.rdann(signalString, 'atr')\n",
        "\n",
        "    signals, ann = wfdb.processing.resample_singlechan(signals, ann, 360, 250)\n",
        "    samples = ann.sample\n",
        "    symbols = ann.symbol\n",
        "\n",
        "    points = []\n",
        "    pointSym = []\n",
        "\n",
        "    for i in range(len(samples)):\n",
        "        if(symbols[i] == 'N'):\n",
        "            points.append(samples[i])\n",
        "            pointSym.append(symbols[i])\n",
        "\n",
        "    return points, pointSym, signals, samples"
      ],
      "metadata": {
        "id": "H3WRMq92imbS"
      },
      "execution_count": null,
      "outputs": []
    },
    {
      "cell_type": "code",
      "source": [
        "def startFuncMIT_S(signalString):\n",
        "\n",
        "    signals, fields = wfdb.rdsamp(signalString)\n",
        "    signals = signals[:,0]\n",
        "    signals = np.array(signals, dtype=[('O', float)]).astype(float)\n",
        "    signals = (signals - np.mean(signals))/(np.std(signals))\n",
        "    ann = wfdb.rdann(signalString, 'atr')\n",
        "\n",
        "    signals, ann = wfdb.processing.resample_singlechan(signals, ann, 360, 250)\n",
        "    samples = ann.sample\n",
        "    symbols = ann.symbol\n",
        "\n",
        "    points = []\n",
        "    pointSym = []\n",
        "\n",
        "    for i in range(len(samples)):\n",
        "        if(symbols[i] == 'a' or symbols[i] == 'A' or symbols[i] == 'e'):\n",
        "            points.append(samples[i])\n",
        "            pointSym.append(symbols[i])\n",
        "\n",
        "    return points, pointSym, signals, samples"
      ],
      "metadata": {
        "id": "1ZgB2In3hIn4"
      },
      "execution_count": null,
      "outputs": []
    },
    {
      "cell_type": "code",
      "source": [
        "def beats(points, signals, offset, listV, listN, d):\n",
        "  for i in range(len(points)):\n",
        "    index= points[i]\n",
        "    midindex= index-offset\n",
        "    lastindex= midindex-offset\n",
        "\n",
        "    if(i==0 and midindex<0):\n",
        "        midindex=0\n",
        "        lastindex=0\n",
        "\n",
        "    elif(i==0 and midindex > 0 and lastindex < 0):\n",
        "      lastindex=0;\n",
        "\n",
        "    elif(i>0 and midindex < points[i-1]):\n",
        "      midindex= points[i-1]+1\n",
        "      lastindex= points[i-1]\n",
        "\n",
        "    elif(i>0 and lastindex < points[i-1]):\n",
        "      lastindex= points[i-1]+1\n",
        "\n",
        "    a=lastindex+1\n",
        "    b=midindex\n",
        "    c=index\n",
        "\n",
        "    start=b\n",
        "    end=c\n",
        "\n",
        "    while(start+d<end):\n",
        "      list1= np.array([])\n",
        "      list1= np.concatenate((list1, signals[start: start+d]), axis=None)\n",
        "      start=start+d\n",
        "      listV.append(list1)\n",
        "\n",
        "\n",
        "    start=a\n",
        "    end=b-1\n",
        "\n",
        "    while(start+d<end):\n",
        "        list1= np.array([])\n",
        "        list1= np.concatenate((list1, signals[start: start+d]), axis=None)\n",
        "        start= start+d\n",
        "        listN.append(list1)\n"
      ],
      "metadata": {
        "id": "GXnyBZgRajWp"
      },
      "execution_count": null,
      "outputs": []
    },
    {
      "cell_type": "code",
      "source": [
        "def beats_N(points, signals, offset, listN, d):\n",
        "  for i in range(10000, len(points), 10000):\n",
        "    index= points[i]\n",
        "    midindex= index-offset\n",
        "\n",
        "    if(i==0 and midindex<0):\n",
        "        midindex=0\n",
        "\n",
        "    b=midindex\n",
        "    c=index\n",
        "\n",
        "    start=b\n",
        "    end=c\n",
        "\n",
        "    while(start+d<end):\n",
        "      list1= np.array([])\n",
        "      list1= np.concatenate((list1, signals[start: start+d]), axis=None)\n",
        "      start=start+d\n",
        "      listN.append(list1)"
      ],
      "metadata": {
        "id": "4galpUvUl4nN"
      },
      "execution_count": null,
      "outputs": []
    },
    {
      "cell_type": "code",
      "source": [
        "def get_beats_V(record, listV, listN):\n",
        "\n",
        "  points, pointSym, signals, samples = startFuncMIT_V(record)\n",
        "\n",
        "  param=15\n",
        "  fs= 250\n",
        "  split=3\n",
        "  offset= param*fs*60\n",
        "  d= split*fs\n",
        "\n",
        "  beats(points, signals, offset, listV, listN, d)"
      ],
      "metadata": {
        "id": "394aInMgffV7"
      },
      "execution_count": null,
      "outputs": []
    },
    {
      "cell_type": "code",
      "source": [
        "def get_beats_S(record, listV, listN):\n",
        "\n",
        "  points, pointSym, signals, samples = startFuncMIT_S(record)\n",
        "\n",
        "  param=15\n",
        "  fs= 250\n",
        "  split=3\n",
        "  offset= param*fs*60\n",
        "  d= split*fs\n",
        "\n",
        "  beats(points, signals, offset, listV, listN, d)"
      ],
      "metadata": {
        "id": "NJPLUdYvhBPv"
      },
      "execution_count": null,
      "outputs": []
    },
    {
      "cell_type": "code",
      "source": [
        "def get_beats_N(record, listV, listN):\n",
        "  points, pointSym, signals, samples = startFuncMIT_N(record)\n",
        "\n",
        "  param=15\n",
        "  fs= 250\n",
        "  split=3\n",
        "  offset= param*fs*60\n",
        "  d= split*fs\n",
        "\n",
        "  beats_N(points, signals, offset, listN, d)"
      ],
      "metadata": {
        "id": "w29TxOb7kMhi"
      },
      "execution_count": null,
      "outputs": []
    },
    {
      "cell_type": "code",
      "source": [
        "listV=[]\n",
        "# listN=[]\n",
        "listS=[]\n",
        "\n",
        "for record in records:\n",
        "  get_beats_V(record, listV, listN)\n",
        "  get_beats_S(record, listS, listN)"
      ],
      "metadata": {
        "id": "hPu-O7amgUQq"
      },
      "execution_count": null,
      "outputs": []
    },
    {
      "cell_type": "code",
      "source": [
        "records_nsrdb = ['nsrdb/16265','nsrdb/16272','nsrdb/16273','nsrdb/16420','nsrdb/16483','nsrdb/16539','nsrdb/16773','nsrdb/16786','nsrdb/16795','nsrdb/17052','nsrdb/17453','nsrdb/18177','nsrdb/18184','nsrdb/19088','nsrdb/19090','nsrdb/19093','nsrdb/19140','nsrdb/19830']"
      ],
      "metadata": {
        "id": "AmGjkm6ujvCL"
      },
      "execution_count": null,
      "outputs": []
    },
    {
      "cell_type": "code",
      "source": [
        "listN= []\n",
        "for record in records_nsrdb:\n",
        "  if(len(listN)>=7000):\n",
        "      break\n",
        "  get_beats_N(record, listN, listN)"
      ],
      "metadata": {
        "id": "fdrZy9qbj52V"
      },
      "execution_count": null,
      "outputs": []
    },
    {
      "cell_type": "code",
      "source": [
        "len(listV)"
      ],
      "metadata": {
        "colab": {
          "base_uri": "https://localhost:8080/"
        },
        "id": "zQ-vnRiTgfx-",
        "outputId": "cdc4423b-eb36-4c13-9560-543bbd4114ba"
      },
      "execution_count": null,
      "outputs": [
        {
          "output_type": "execute_result",
          "data": {
            "text/plain": [
              "7097"
            ]
          },
          "metadata": {},
          "execution_count": 63
        }
      ]
    },
    {
      "cell_type": "code",
      "source": [
        "len(listS)"
      ],
      "metadata": {
        "colab": {
          "base_uri": "https://localhost:8080/"
        },
        "id": "52h4apfJhebm",
        "outputId": "85a83b6b-9745-4b09-a72a-1dce1812ae0a"
      },
      "execution_count": null,
      "outputs": [
        {
          "output_type": "execute_result",
          "data": {
            "text/plain": [
              "6371"
            ]
          },
          "metadata": {},
          "execution_count": 64
        }
      ]
    },
    {
      "cell_type": "code",
      "source": [
        "listN= listN[0:6500]"
      ],
      "metadata": {
        "id": "L2_MZpU9MZMr"
      },
      "execution_count": null,
      "outputs": []
    },
    {
      "cell_type": "code",
      "source": [
        "len(listN)"
      ],
      "metadata": {
        "colab": {
          "base_uri": "https://localhost:8080/"
        },
        "id": "gNtkQidChgZb",
        "outputId": "aebcb52c-ed34-466d-cf39-e49456cd1142"
      },
      "execution_count": null,
      "outputs": [
        {
          "output_type": "execute_result",
          "data": {
            "text/plain": [
              "6500"
            ]
          },
          "metadata": {},
          "execution_count": 88
        }
      ]
    },
    {
      "cell_type": "code",
      "source": [
        "listV[0].shape"
      ],
      "metadata": {
        "colab": {
          "base_uri": "https://localhost:8080/"
        },
        "id": "W-apba68gkw9",
        "outputId": "789556d7-95ac-439c-9aa0-444cb29ccb83"
      },
      "execution_count": null,
      "outputs": [
        {
          "output_type": "execute_result",
          "data": {
            "text/plain": [
              "(750,)"
            ]
          },
          "metadata": {},
          "execution_count": 66
        }
      ]
    },
    {
      "cell_type": "code",
      "source": [
        "listS[0].shape"
      ],
      "metadata": {
        "colab": {
          "base_uri": "https://localhost:8080/"
        },
        "id": "3tlCQHmrhkgZ",
        "outputId": "5b346f47-a78a-4708-8161-bb43745bd562"
      },
      "execution_count": null,
      "outputs": [
        {
          "output_type": "execute_result",
          "data": {
            "text/plain": [
              "(750,)"
            ]
          },
          "metadata": {},
          "execution_count": 67
        }
      ]
    },
    {
      "cell_type": "code",
      "source": [
        "listN[0].shape"
      ],
      "metadata": {
        "colab": {
          "base_uri": "https://localhost:8080/"
        },
        "id": "XrW5LcllgqSO",
        "outputId": "99f6001a-458c-4980-f3d0-015c6788a628"
      },
      "execution_count": null,
      "outputs": [
        {
          "output_type": "execute_result",
          "data": {
            "text/plain": [
              "(750,)"
            ]
          },
          "metadata": {},
          "execution_count": 68
        }
      ]
    },
    {
      "cell_type": "code",
      "source": [
        "# listN[0]"
      ],
      "metadata": {
        "id": "9Dm11K_khp9w"
      },
      "execution_count": null,
      "outputs": []
    },
    {
      "cell_type": "code",
      "source": [
        "dfV= pd.DataFrame(listV)\n",
        "dfV['Type']='V'"
      ],
      "metadata": {
        "id": "TMAdgYaa0cTU"
      },
      "execution_count": null,
      "outputs": []
    },
    {
      "cell_type": "code",
      "source": [
        "dfV.head()"
      ],
      "metadata": {
        "colab": {
          "base_uri": "https://localhost:8080/",
          "height": 299
        },
        "id": "ZvRDA_NT0kOO",
        "outputId": "1d8567b0-2954-485a-87b1-78b3a526b366"
      },
      "execution_count": null,
      "outputs": [
        {
          "output_type": "execute_result",
          "data": {
            "text/plain": [
              "          0         1         2         3         4         5         6  \\\n",
              "0 -0.172668 -0.253933 -0.208621 -0.175584 -0.127824 -0.276282 -0.232398   \n",
              "1 -0.674611 -0.748461 -0.659966 -0.598095 -0.515254 -0.530925 -0.417045   \n",
              "2 -0.219789 -0.333529 -0.273434 -0.196434 -0.171695 -0.305003 -0.293886   \n",
              "3 -0.588217 -0.319670 -0.299789 -0.278611 -0.250558 -0.322957 -0.303380   \n",
              "4  0.036029 -0.014221 -0.006106  0.017534  0.016153 -0.032201  0.032601   \n",
              "\n",
              "          7         8         9  ...       741       742       743       744  \\\n",
              "0 -0.157888 -0.150945 -0.180683  ... -0.595638 -0.663190 -0.762077 -0.673240   \n",
              "1 -0.272807 -0.210748 -0.289992  ... -0.294144 -0.333979 -0.352597 -0.346021   \n",
              "2 -0.216530 -0.254373 -0.332083  ...  0.495162  1.600858  3.376126  5.528701   \n",
              "3 -0.254966 -0.253231 -0.310582  ...  0.465407  0.267934  0.110238  0.092149   \n",
              "4  0.016340  0.056163  0.004122  ...  0.428444  0.233021  0.186413  0.310939   \n",
              "\n",
              "        745       746       747       748       749  Type  \n",
              "0 -0.703165 -0.687020 -0.780980 -0.689351 -0.664274     V  \n",
              "1 -0.261900 -0.237598 -0.327143 -0.284399 -0.217052     V  \n",
              "2  6.559969  5.745043  2.902073 -0.084692 -0.959460     V  \n",
              "3  0.133804  0.079437  0.010509 -0.012704  0.052028     V  \n",
              "4  0.362071  0.365539  0.473814  0.443541  0.282351     V  \n",
              "\n",
              "[5 rows x 751 columns]"
            ],
            "text/html": [
              "\n",
              "  <div id=\"df-86a83f9c-ec6e-4b51-badb-e435959e59bf\">\n",
              "    <div class=\"colab-df-container\">\n",
              "      <div>\n",
              "<style scoped>\n",
              "    .dataframe tbody tr th:only-of-type {\n",
              "        vertical-align: middle;\n",
              "    }\n",
              "\n",
              "    .dataframe tbody tr th {\n",
              "        vertical-align: top;\n",
              "    }\n",
              "\n",
              "    .dataframe thead th {\n",
              "        text-align: right;\n",
              "    }\n",
              "</style>\n",
              "<table border=\"1\" class=\"dataframe\">\n",
              "  <thead>\n",
              "    <tr style=\"text-align: right;\">\n",
              "      <th></th>\n",
              "      <th>0</th>\n",
              "      <th>1</th>\n",
              "      <th>2</th>\n",
              "      <th>3</th>\n",
              "      <th>4</th>\n",
              "      <th>5</th>\n",
              "      <th>6</th>\n",
              "      <th>7</th>\n",
              "      <th>8</th>\n",
              "      <th>9</th>\n",
              "      <th>...</th>\n",
              "      <th>741</th>\n",
              "      <th>742</th>\n",
              "      <th>743</th>\n",
              "      <th>744</th>\n",
              "      <th>745</th>\n",
              "      <th>746</th>\n",
              "      <th>747</th>\n",
              "      <th>748</th>\n",
              "      <th>749</th>\n",
              "      <th>Type</th>\n",
              "    </tr>\n",
              "  </thead>\n",
              "  <tbody>\n",
              "    <tr>\n",
              "      <th>0</th>\n",
              "      <td>-0.172668</td>\n",
              "      <td>-0.253933</td>\n",
              "      <td>-0.208621</td>\n",
              "      <td>-0.175584</td>\n",
              "      <td>-0.127824</td>\n",
              "      <td>-0.276282</td>\n",
              "      <td>-0.232398</td>\n",
              "      <td>-0.157888</td>\n",
              "      <td>-0.150945</td>\n",
              "      <td>-0.180683</td>\n",
              "      <td>...</td>\n",
              "      <td>-0.595638</td>\n",
              "      <td>-0.663190</td>\n",
              "      <td>-0.762077</td>\n",
              "      <td>-0.673240</td>\n",
              "      <td>-0.703165</td>\n",
              "      <td>-0.687020</td>\n",
              "      <td>-0.780980</td>\n",
              "      <td>-0.689351</td>\n",
              "      <td>-0.664274</td>\n",
              "      <td>V</td>\n",
              "    </tr>\n",
              "    <tr>\n",
              "      <th>1</th>\n",
              "      <td>-0.674611</td>\n",
              "      <td>-0.748461</td>\n",
              "      <td>-0.659966</td>\n",
              "      <td>-0.598095</td>\n",
              "      <td>-0.515254</td>\n",
              "      <td>-0.530925</td>\n",
              "      <td>-0.417045</td>\n",
              "      <td>-0.272807</td>\n",
              "      <td>-0.210748</td>\n",
              "      <td>-0.289992</td>\n",
              "      <td>...</td>\n",
              "      <td>-0.294144</td>\n",
              "      <td>-0.333979</td>\n",
              "      <td>-0.352597</td>\n",
              "      <td>-0.346021</td>\n",
              "      <td>-0.261900</td>\n",
              "      <td>-0.237598</td>\n",
              "      <td>-0.327143</td>\n",
              "      <td>-0.284399</td>\n",
              "      <td>-0.217052</td>\n",
              "      <td>V</td>\n",
              "    </tr>\n",
              "    <tr>\n",
              "      <th>2</th>\n",
              "      <td>-0.219789</td>\n",
              "      <td>-0.333529</td>\n",
              "      <td>-0.273434</td>\n",
              "      <td>-0.196434</td>\n",
              "      <td>-0.171695</td>\n",
              "      <td>-0.305003</td>\n",
              "      <td>-0.293886</td>\n",
              "      <td>-0.216530</td>\n",
              "      <td>-0.254373</td>\n",
              "      <td>-0.332083</td>\n",
              "      <td>...</td>\n",
              "      <td>0.495162</td>\n",
              "      <td>1.600858</td>\n",
              "      <td>3.376126</td>\n",
              "      <td>5.528701</td>\n",
              "      <td>6.559969</td>\n",
              "      <td>5.745043</td>\n",
              "      <td>2.902073</td>\n",
              "      <td>-0.084692</td>\n",
              "      <td>-0.959460</td>\n",
              "      <td>V</td>\n",
              "    </tr>\n",
              "    <tr>\n",
              "      <th>3</th>\n",
              "      <td>-0.588217</td>\n",
              "      <td>-0.319670</td>\n",
              "      <td>-0.299789</td>\n",
              "      <td>-0.278611</td>\n",
              "      <td>-0.250558</td>\n",
              "      <td>-0.322957</td>\n",
              "      <td>-0.303380</td>\n",
              "      <td>-0.254966</td>\n",
              "      <td>-0.253231</td>\n",
              "      <td>-0.310582</td>\n",
              "      <td>...</td>\n",
              "      <td>0.465407</td>\n",
              "      <td>0.267934</td>\n",
              "      <td>0.110238</td>\n",
              "      <td>0.092149</td>\n",
              "      <td>0.133804</td>\n",
              "      <td>0.079437</td>\n",
              "      <td>0.010509</td>\n",
              "      <td>-0.012704</td>\n",
              "      <td>0.052028</td>\n",
              "      <td>V</td>\n",
              "    </tr>\n",
              "    <tr>\n",
              "      <th>4</th>\n",
              "      <td>0.036029</td>\n",
              "      <td>-0.014221</td>\n",
              "      <td>-0.006106</td>\n",
              "      <td>0.017534</td>\n",
              "      <td>0.016153</td>\n",
              "      <td>-0.032201</td>\n",
              "      <td>0.032601</td>\n",
              "      <td>0.016340</td>\n",
              "      <td>0.056163</td>\n",
              "      <td>0.004122</td>\n",
              "      <td>...</td>\n",
              "      <td>0.428444</td>\n",
              "      <td>0.233021</td>\n",
              "      <td>0.186413</td>\n",
              "      <td>0.310939</td>\n",
              "      <td>0.362071</td>\n",
              "      <td>0.365539</td>\n",
              "      <td>0.473814</td>\n",
              "      <td>0.443541</td>\n",
              "      <td>0.282351</td>\n",
              "      <td>V</td>\n",
              "    </tr>\n",
              "  </tbody>\n",
              "</table>\n",
              "<p>5 rows × 751 columns</p>\n",
              "</div>\n",
              "      <button class=\"colab-df-convert\" onclick=\"convertToInteractive('df-86a83f9c-ec6e-4b51-badb-e435959e59bf')\"\n",
              "              title=\"Convert this dataframe to an interactive table.\"\n",
              "              style=\"display:none;\">\n",
              "        \n",
              "  <svg xmlns=\"http://www.w3.org/2000/svg\" height=\"24px\"viewBox=\"0 0 24 24\"\n",
              "       width=\"24px\">\n",
              "    <path d=\"M0 0h24v24H0V0z\" fill=\"none\"/>\n",
              "    <path d=\"M18.56 5.44l.94 2.06.94-2.06 2.06-.94-2.06-.94-.94-2.06-.94 2.06-2.06.94zm-11 1L8.5 8.5l.94-2.06 2.06-.94-2.06-.94L8.5 2.5l-.94 2.06-2.06.94zm10 10l.94 2.06.94-2.06 2.06-.94-2.06-.94-.94-2.06-.94 2.06-2.06.94z\"/><path d=\"M17.41 7.96l-1.37-1.37c-.4-.4-.92-.59-1.43-.59-.52 0-1.04.2-1.43.59L10.3 9.45l-7.72 7.72c-.78.78-.78 2.05 0 2.83L4 21.41c.39.39.9.59 1.41.59.51 0 1.02-.2 1.41-.59l7.78-7.78 2.81-2.81c.8-.78.8-2.07 0-2.86zM5.41 20L4 18.59l7.72-7.72 1.47 1.35L5.41 20z\"/>\n",
              "  </svg>\n",
              "      </button>\n",
              "      \n",
              "  <style>\n",
              "    .colab-df-container {\n",
              "      display:flex;\n",
              "      flex-wrap:wrap;\n",
              "      gap: 12px;\n",
              "    }\n",
              "\n",
              "    .colab-df-convert {\n",
              "      background-color: #E8F0FE;\n",
              "      border: none;\n",
              "      border-radius: 50%;\n",
              "      cursor: pointer;\n",
              "      display: none;\n",
              "      fill: #1967D2;\n",
              "      height: 32px;\n",
              "      padding: 0 0 0 0;\n",
              "      width: 32px;\n",
              "    }\n",
              "\n",
              "    .colab-df-convert:hover {\n",
              "      background-color: #E2EBFA;\n",
              "      box-shadow: 0px 1px 2px rgba(60, 64, 67, 0.3), 0px 1px 3px 1px rgba(60, 64, 67, 0.15);\n",
              "      fill: #174EA6;\n",
              "    }\n",
              "\n",
              "    [theme=dark] .colab-df-convert {\n",
              "      background-color: #3B4455;\n",
              "      fill: #D2E3FC;\n",
              "    }\n",
              "\n",
              "    [theme=dark] .colab-df-convert:hover {\n",
              "      background-color: #434B5C;\n",
              "      box-shadow: 0px 1px 3px 1px rgba(0, 0, 0, 0.15);\n",
              "      filter: drop-shadow(0px 1px 2px rgba(0, 0, 0, 0.3));\n",
              "      fill: #FFFFFF;\n",
              "    }\n",
              "  </style>\n",
              "\n",
              "      <script>\n",
              "        const buttonEl =\n",
              "          document.querySelector('#df-86a83f9c-ec6e-4b51-badb-e435959e59bf button.colab-df-convert');\n",
              "        buttonEl.style.display =\n",
              "          google.colab.kernel.accessAllowed ? 'block' : 'none';\n",
              "\n",
              "        async function convertToInteractive(key) {\n",
              "          const element = document.querySelector('#df-86a83f9c-ec6e-4b51-badb-e435959e59bf');\n",
              "          const dataTable =\n",
              "            await google.colab.kernel.invokeFunction('convertToInteractive',\n",
              "                                                     [key], {});\n",
              "          if (!dataTable) return;\n",
              "\n",
              "          const docLinkHtml = 'Like what you see? Visit the ' +\n",
              "            '<a target=\"_blank\" href=https://colab.research.google.com/notebooks/data_table.ipynb>data table notebook</a>'\n",
              "            + ' to learn more about interactive tables.';\n",
              "          element.innerHTML = '';\n",
              "          dataTable['output_type'] = 'display_data';\n",
              "          await google.colab.output.renderOutput(dataTable, element);\n",
              "          const docLink = document.createElement('div');\n",
              "          docLink.innerHTML = docLinkHtml;\n",
              "          element.appendChild(docLink);\n",
              "        }\n",
              "      </script>\n",
              "    </div>\n",
              "  </div>\n",
              "  "
            ]
          },
          "metadata": {},
          "execution_count": 72
        }
      ]
    },
    {
      "cell_type": "code",
      "source": [
        "dfN= pd.DataFrame(listN)\n",
        "dfN['Type']= 'N'\n",
        "dfN.head()"
      ],
      "metadata": {
        "colab": {
          "base_uri": "https://localhost:8080/",
          "height": 299
        },
        "id": "bKVHqSBu0mSt",
        "outputId": "867f24d1-323d-467a-dc46-4ce55c8cfb70"
      },
      "execution_count": null,
      "outputs": [
        {
          "output_type": "execute_result",
          "data": {
            "text/plain": [
              "          0         1         2         3         4         5         6  \\\n",
              "0 -0.526110 -0.420975 -0.372223 -0.287212 -0.468992 -0.259544 -0.142253   \n",
              "1 -0.377718 -0.310403 -0.240344 -0.092023 -0.213174 -0.099317 -0.004382   \n",
              "2 -0.377524 -0.489135 -0.358844 -0.441132 -0.252511 -0.314772 -0.236181   \n",
              "3 -0.140601 -0.168045 -0.271365 -0.280454 -0.361390 -0.303359 -0.373075   \n",
              "4 -0.303220 -0.217888 -0.256114 -0.161753  0.002047 -0.173305 -0.234254   \n",
              "\n",
              "          7         8         9  ...       741       742       743       744  \\\n",
              "0 -0.140374  0.004512 -0.006137  ... -0.079503 -0.755916 -0.400573 -0.637954   \n",
              "1  0.094986  0.084632  0.095719  ... -0.484951 -1.620783  1.407230  5.139247   \n",
              "2 -0.197683 -0.062869 -0.062654  ... -0.241442 -0.341199 -0.209086 -0.280459   \n",
              "3 -0.412522 -1.815454  0.390740  ... -0.306309 -0.327800 -0.238251 -0.314638   \n",
              "4 -0.270088 -0.275537 -0.354932  ... -0.362699 -0.292645 -0.429378 -0.456408   \n",
              "\n",
              "        745       746       747       748       749  Type  \n",
              "0 -0.586329 -0.567162 -0.514607 -0.467115 -0.369239     N  \n",
              "1  5.733449  2.181028 -0.751122 -0.292074 -0.559253     N  \n",
              "2 -0.256965 -0.329983 -0.166276  0.113715  0.051124     N  \n",
              "3 -0.290001 -0.320235 -0.346372 -0.344971 -0.312524     N  \n",
              "4 -0.457405 -0.378421 -0.314226 -0.311171 -0.194761     N  \n",
              "\n",
              "[5 rows x 751 columns]"
            ],
            "text/html": [
              "\n",
              "  <div id=\"df-2d5bb513-4cd9-46b0-9ebd-a843efc61d9d\">\n",
              "    <div class=\"colab-df-container\">\n",
              "      <div>\n",
              "<style scoped>\n",
              "    .dataframe tbody tr th:only-of-type {\n",
              "        vertical-align: middle;\n",
              "    }\n",
              "\n",
              "    .dataframe tbody tr th {\n",
              "        vertical-align: top;\n",
              "    }\n",
              "\n",
              "    .dataframe thead th {\n",
              "        text-align: right;\n",
              "    }\n",
              "</style>\n",
              "<table border=\"1\" class=\"dataframe\">\n",
              "  <thead>\n",
              "    <tr style=\"text-align: right;\">\n",
              "      <th></th>\n",
              "      <th>0</th>\n",
              "      <th>1</th>\n",
              "      <th>2</th>\n",
              "      <th>3</th>\n",
              "      <th>4</th>\n",
              "      <th>5</th>\n",
              "      <th>6</th>\n",
              "      <th>7</th>\n",
              "      <th>8</th>\n",
              "      <th>9</th>\n",
              "      <th>...</th>\n",
              "      <th>741</th>\n",
              "      <th>742</th>\n",
              "      <th>743</th>\n",
              "      <th>744</th>\n",
              "      <th>745</th>\n",
              "      <th>746</th>\n",
              "      <th>747</th>\n",
              "      <th>748</th>\n",
              "      <th>749</th>\n",
              "      <th>Type</th>\n",
              "    </tr>\n",
              "  </thead>\n",
              "  <tbody>\n",
              "    <tr>\n",
              "      <th>0</th>\n",
              "      <td>-0.526110</td>\n",
              "      <td>-0.420975</td>\n",
              "      <td>-0.372223</td>\n",
              "      <td>-0.287212</td>\n",
              "      <td>-0.468992</td>\n",
              "      <td>-0.259544</td>\n",
              "      <td>-0.142253</td>\n",
              "      <td>-0.140374</td>\n",
              "      <td>0.004512</td>\n",
              "      <td>-0.006137</td>\n",
              "      <td>...</td>\n",
              "      <td>-0.079503</td>\n",
              "      <td>-0.755916</td>\n",
              "      <td>-0.400573</td>\n",
              "      <td>-0.637954</td>\n",
              "      <td>-0.586329</td>\n",
              "      <td>-0.567162</td>\n",
              "      <td>-0.514607</td>\n",
              "      <td>-0.467115</td>\n",
              "      <td>-0.369239</td>\n",
              "      <td>N</td>\n",
              "    </tr>\n",
              "    <tr>\n",
              "      <th>1</th>\n",
              "      <td>-0.377718</td>\n",
              "      <td>-0.310403</td>\n",
              "      <td>-0.240344</td>\n",
              "      <td>-0.092023</td>\n",
              "      <td>-0.213174</td>\n",
              "      <td>-0.099317</td>\n",
              "      <td>-0.004382</td>\n",
              "      <td>0.094986</td>\n",
              "      <td>0.084632</td>\n",
              "      <td>0.095719</td>\n",
              "      <td>...</td>\n",
              "      <td>-0.484951</td>\n",
              "      <td>-1.620783</td>\n",
              "      <td>1.407230</td>\n",
              "      <td>5.139247</td>\n",
              "      <td>5.733449</td>\n",
              "      <td>2.181028</td>\n",
              "      <td>-0.751122</td>\n",
              "      <td>-0.292074</td>\n",
              "      <td>-0.559253</td>\n",
              "      <td>N</td>\n",
              "    </tr>\n",
              "    <tr>\n",
              "      <th>2</th>\n",
              "      <td>-0.377524</td>\n",
              "      <td>-0.489135</td>\n",
              "      <td>-0.358844</td>\n",
              "      <td>-0.441132</td>\n",
              "      <td>-0.252511</td>\n",
              "      <td>-0.314772</td>\n",
              "      <td>-0.236181</td>\n",
              "      <td>-0.197683</td>\n",
              "      <td>-0.062869</td>\n",
              "      <td>-0.062654</td>\n",
              "      <td>...</td>\n",
              "      <td>-0.241442</td>\n",
              "      <td>-0.341199</td>\n",
              "      <td>-0.209086</td>\n",
              "      <td>-0.280459</td>\n",
              "      <td>-0.256965</td>\n",
              "      <td>-0.329983</td>\n",
              "      <td>-0.166276</td>\n",
              "      <td>0.113715</td>\n",
              "      <td>0.051124</td>\n",
              "      <td>N</td>\n",
              "    </tr>\n",
              "    <tr>\n",
              "      <th>3</th>\n",
              "      <td>-0.140601</td>\n",
              "      <td>-0.168045</td>\n",
              "      <td>-0.271365</td>\n",
              "      <td>-0.280454</td>\n",
              "      <td>-0.361390</td>\n",
              "      <td>-0.303359</td>\n",
              "      <td>-0.373075</td>\n",
              "      <td>-0.412522</td>\n",
              "      <td>-1.815454</td>\n",
              "      <td>0.390740</td>\n",
              "      <td>...</td>\n",
              "      <td>-0.306309</td>\n",
              "      <td>-0.327800</td>\n",
              "      <td>-0.238251</td>\n",
              "      <td>-0.314638</td>\n",
              "      <td>-0.290001</td>\n",
              "      <td>-0.320235</td>\n",
              "      <td>-0.346372</td>\n",
              "      <td>-0.344971</td>\n",
              "      <td>-0.312524</td>\n",
              "      <td>N</td>\n",
              "    </tr>\n",
              "    <tr>\n",
              "      <th>4</th>\n",
              "      <td>-0.303220</td>\n",
              "      <td>-0.217888</td>\n",
              "      <td>-0.256114</td>\n",
              "      <td>-0.161753</td>\n",
              "      <td>0.002047</td>\n",
              "      <td>-0.173305</td>\n",
              "      <td>-0.234254</td>\n",
              "      <td>-0.270088</td>\n",
              "      <td>-0.275537</td>\n",
              "      <td>-0.354932</td>\n",
              "      <td>...</td>\n",
              "      <td>-0.362699</td>\n",
              "      <td>-0.292645</td>\n",
              "      <td>-0.429378</td>\n",
              "      <td>-0.456408</td>\n",
              "      <td>-0.457405</td>\n",
              "      <td>-0.378421</td>\n",
              "      <td>-0.314226</td>\n",
              "      <td>-0.311171</td>\n",
              "      <td>-0.194761</td>\n",
              "      <td>N</td>\n",
              "    </tr>\n",
              "  </tbody>\n",
              "</table>\n",
              "<p>5 rows × 751 columns</p>\n",
              "</div>\n",
              "      <button class=\"colab-df-convert\" onclick=\"convertToInteractive('df-2d5bb513-4cd9-46b0-9ebd-a843efc61d9d')\"\n",
              "              title=\"Convert this dataframe to an interactive table.\"\n",
              "              style=\"display:none;\">\n",
              "        \n",
              "  <svg xmlns=\"http://www.w3.org/2000/svg\" height=\"24px\"viewBox=\"0 0 24 24\"\n",
              "       width=\"24px\">\n",
              "    <path d=\"M0 0h24v24H0V0z\" fill=\"none\"/>\n",
              "    <path d=\"M18.56 5.44l.94 2.06.94-2.06 2.06-.94-2.06-.94-.94-2.06-.94 2.06-2.06.94zm-11 1L8.5 8.5l.94-2.06 2.06-.94-2.06-.94L8.5 2.5l-.94 2.06-2.06.94zm10 10l.94 2.06.94-2.06 2.06-.94-2.06-.94-.94-2.06-.94 2.06-2.06.94z\"/><path d=\"M17.41 7.96l-1.37-1.37c-.4-.4-.92-.59-1.43-.59-.52 0-1.04.2-1.43.59L10.3 9.45l-7.72 7.72c-.78.78-.78 2.05 0 2.83L4 21.41c.39.39.9.59 1.41.59.51 0 1.02-.2 1.41-.59l7.78-7.78 2.81-2.81c.8-.78.8-2.07 0-2.86zM5.41 20L4 18.59l7.72-7.72 1.47 1.35L5.41 20z\"/>\n",
              "  </svg>\n",
              "      </button>\n",
              "      \n",
              "  <style>\n",
              "    .colab-df-container {\n",
              "      display:flex;\n",
              "      flex-wrap:wrap;\n",
              "      gap: 12px;\n",
              "    }\n",
              "\n",
              "    .colab-df-convert {\n",
              "      background-color: #E8F0FE;\n",
              "      border: none;\n",
              "      border-radius: 50%;\n",
              "      cursor: pointer;\n",
              "      display: none;\n",
              "      fill: #1967D2;\n",
              "      height: 32px;\n",
              "      padding: 0 0 0 0;\n",
              "      width: 32px;\n",
              "    }\n",
              "\n",
              "    .colab-df-convert:hover {\n",
              "      background-color: #E2EBFA;\n",
              "      box-shadow: 0px 1px 2px rgba(60, 64, 67, 0.3), 0px 1px 3px 1px rgba(60, 64, 67, 0.15);\n",
              "      fill: #174EA6;\n",
              "    }\n",
              "\n",
              "    [theme=dark] .colab-df-convert {\n",
              "      background-color: #3B4455;\n",
              "      fill: #D2E3FC;\n",
              "    }\n",
              "\n",
              "    [theme=dark] .colab-df-convert:hover {\n",
              "      background-color: #434B5C;\n",
              "      box-shadow: 0px 1px 3px 1px rgba(0, 0, 0, 0.15);\n",
              "      filter: drop-shadow(0px 1px 2px rgba(0, 0, 0, 0.3));\n",
              "      fill: #FFFFFF;\n",
              "    }\n",
              "  </style>\n",
              "\n",
              "      <script>\n",
              "        const buttonEl =\n",
              "          document.querySelector('#df-2d5bb513-4cd9-46b0-9ebd-a843efc61d9d button.colab-df-convert');\n",
              "        buttonEl.style.display =\n",
              "          google.colab.kernel.accessAllowed ? 'block' : 'none';\n",
              "\n",
              "        async function convertToInteractive(key) {\n",
              "          const element = document.querySelector('#df-2d5bb513-4cd9-46b0-9ebd-a843efc61d9d');\n",
              "          const dataTable =\n",
              "            await google.colab.kernel.invokeFunction('convertToInteractive',\n",
              "                                                     [key], {});\n",
              "          if (!dataTable) return;\n",
              "\n",
              "          const docLinkHtml = 'Like what you see? Visit the ' +\n",
              "            '<a target=\"_blank\" href=https://colab.research.google.com/notebooks/data_table.ipynb>data table notebook</a>'\n",
              "            + ' to learn more about interactive tables.';\n",
              "          element.innerHTML = '';\n",
              "          dataTable['output_type'] = 'display_data';\n",
              "          await google.colab.output.renderOutput(dataTable, element);\n",
              "          const docLink = document.createElement('div');\n",
              "          docLink.innerHTML = docLinkHtml;\n",
              "          element.appendChild(docLink);\n",
              "        }\n",
              "      </script>\n",
              "    </div>\n",
              "  </div>\n",
              "  "
            ]
          },
          "metadata": {},
          "execution_count": 90
        }
      ]
    },
    {
      "cell_type": "code",
      "source": [
        "dfS= pd.DataFrame(listS)\n",
        "dfS['Type']= 'S'\n",
        "dfS.head()"
      ],
      "metadata": {
        "colab": {
          "base_uri": "https://localhost:8080/",
          "height": 299
        },
        "id": "HpmkDQfD0o5q",
        "outputId": "7995c0ee-bc6e-4715-aefa-ff699101f918"
      },
      "execution_count": null,
      "outputs": [
        {
          "output_type": "execute_result",
          "data": {
            "text/plain": [
              "          0         1         2         3         4         5         6  \\\n",
              "0 -0.341620  1.271093  0.567522  1.030967  0.673648  1.000170  0.826956   \n",
              "1  6.128223  5.057662  2.141735 -0.309836 -0.928178 -0.563843 -0.306906   \n",
              "2  0.109496  0.147581  0.200358  0.163814  0.120544  0.161383  0.205695   \n",
              "3 -0.350194 -0.238525 -0.237285 -0.323988 -0.350404 -0.244730 -0.273175   \n",
              "4  0.544367  0.577215  0.575158  0.479415  0.415996  0.442585  0.452369   \n",
              "\n",
              "          7         8         9  ...       741       742       743       744  \\\n",
              "0  0.916293  0.706583  0.840706  ...  0.064863  0.103441  0.114010  0.008105   \n",
              "1 -0.398673 -0.454112 -0.394014  ...  0.040271  0.129069  0.217771  0.221688   \n",
              "2  0.168778  0.086907  0.117792  ... -0.358019 -0.364748 -0.276251 -0.284430   \n",
              "3 -0.389459 -0.422666 -0.271194  ...  0.285938  0.378172  0.411120  0.403079   \n",
              "4  0.397839  0.290488  0.375098  ...  0.138528  0.121979  0.204572  0.174916   \n",
              "\n",
              "        745       746       747       748       749  Type  \n",
              "0  0.039916  0.114787  0.160386  0.052241  0.016590     S  \n",
              "1  0.125484  0.199818  0.294783  0.202883  0.120542     S  \n",
              "2 -0.381229 -0.339866 -0.246677 -0.269800 -0.339791     S  \n",
              "3  0.364467  0.380215  0.473189  0.542018  0.522361     S  \n",
              "4  0.096167  0.128697  0.147117  0.153399  0.091144     S  \n",
              "\n",
              "[5 rows x 751 columns]"
            ],
            "text/html": [
              "\n",
              "  <div id=\"df-23964ee2-6f5d-4092-b8fc-07ee7a0ea6cd\">\n",
              "    <div class=\"colab-df-container\">\n",
              "      <div>\n",
              "<style scoped>\n",
              "    .dataframe tbody tr th:only-of-type {\n",
              "        vertical-align: middle;\n",
              "    }\n",
              "\n",
              "    .dataframe tbody tr th {\n",
              "        vertical-align: top;\n",
              "    }\n",
              "\n",
              "    .dataframe thead th {\n",
              "        text-align: right;\n",
              "    }\n",
              "</style>\n",
              "<table border=\"1\" class=\"dataframe\">\n",
              "  <thead>\n",
              "    <tr style=\"text-align: right;\">\n",
              "      <th></th>\n",
              "      <th>0</th>\n",
              "      <th>1</th>\n",
              "      <th>2</th>\n",
              "      <th>3</th>\n",
              "      <th>4</th>\n",
              "      <th>5</th>\n",
              "      <th>6</th>\n",
              "      <th>7</th>\n",
              "      <th>8</th>\n",
              "      <th>9</th>\n",
              "      <th>...</th>\n",
              "      <th>741</th>\n",
              "      <th>742</th>\n",
              "      <th>743</th>\n",
              "      <th>744</th>\n",
              "      <th>745</th>\n",
              "      <th>746</th>\n",
              "      <th>747</th>\n",
              "      <th>748</th>\n",
              "      <th>749</th>\n",
              "      <th>Type</th>\n",
              "    </tr>\n",
              "  </thead>\n",
              "  <tbody>\n",
              "    <tr>\n",
              "      <th>0</th>\n",
              "      <td>-0.341620</td>\n",
              "      <td>1.271093</td>\n",
              "      <td>0.567522</td>\n",
              "      <td>1.030967</td>\n",
              "      <td>0.673648</td>\n",
              "      <td>1.000170</td>\n",
              "      <td>0.826956</td>\n",
              "      <td>0.916293</td>\n",
              "      <td>0.706583</td>\n",
              "      <td>0.840706</td>\n",
              "      <td>...</td>\n",
              "      <td>0.064863</td>\n",
              "      <td>0.103441</td>\n",
              "      <td>0.114010</td>\n",
              "      <td>0.008105</td>\n",
              "      <td>0.039916</td>\n",
              "      <td>0.114787</td>\n",
              "      <td>0.160386</td>\n",
              "      <td>0.052241</td>\n",
              "      <td>0.016590</td>\n",
              "      <td>S</td>\n",
              "    </tr>\n",
              "    <tr>\n",
              "      <th>1</th>\n",
              "      <td>6.128223</td>\n",
              "      <td>5.057662</td>\n",
              "      <td>2.141735</td>\n",
              "      <td>-0.309836</td>\n",
              "      <td>-0.928178</td>\n",
              "      <td>-0.563843</td>\n",
              "      <td>-0.306906</td>\n",
              "      <td>-0.398673</td>\n",
              "      <td>-0.454112</td>\n",
              "      <td>-0.394014</td>\n",
              "      <td>...</td>\n",
              "      <td>0.040271</td>\n",
              "      <td>0.129069</td>\n",
              "      <td>0.217771</td>\n",
              "      <td>0.221688</td>\n",
              "      <td>0.125484</td>\n",
              "      <td>0.199818</td>\n",
              "      <td>0.294783</td>\n",
              "      <td>0.202883</td>\n",
              "      <td>0.120542</td>\n",
              "      <td>S</td>\n",
              "    </tr>\n",
              "    <tr>\n",
              "      <th>2</th>\n",
              "      <td>0.109496</td>\n",
              "      <td>0.147581</td>\n",
              "      <td>0.200358</td>\n",
              "      <td>0.163814</td>\n",
              "      <td>0.120544</td>\n",
              "      <td>0.161383</td>\n",
              "      <td>0.205695</td>\n",
              "      <td>0.168778</td>\n",
              "      <td>0.086907</td>\n",
              "      <td>0.117792</td>\n",
              "      <td>...</td>\n",
              "      <td>-0.358019</td>\n",
              "      <td>-0.364748</td>\n",
              "      <td>-0.276251</td>\n",
              "      <td>-0.284430</td>\n",
              "      <td>-0.381229</td>\n",
              "      <td>-0.339866</td>\n",
              "      <td>-0.246677</td>\n",
              "      <td>-0.269800</td>\n",
              "      <td>-0.339791</td>\n",
              "      <td>S</td>\n",
              "    </tr>\n",
              "    <tr>\n",
              "      <th>3</th>\n",
              "      <td>-0.350194</td>\n",
              "      <td>-0.238525</td>\n",
              "      <td>-0.237285</td>\n",
              "      <td>-0.323988</td>\n",
              "      <td>-0.350404</td>\n",
              "      <td>-0.244730</td>\n",
              "      <td>-0.273175</td>\n",
              "      <td>-0.389459</td>\n",
              "      <td>-0.422666</td>\n",
              "      <td>-0.271194</td>\n",
              "      <td>...</td>\n",
              "      <td>0.285938</td>\n",
              "      <td>0.378172</td>\n",
              "      <td>0.411120</td>\n",
              "      <td>0.403079</td>\n",
              "      <td>0.364467</td>\n",
              "      <td>0.380215</td>\n",
              "      <td>0.473189</td>\n",
              "      <td>0.542018</td>\n",
              "      <td>0.522361</td>\n",
              "      <td>S</td>\n",
              "    </tr>\n",
              "    <tr>\n",
              "      <th>4</th>\n",
              "      <td>0.544367</td>\n",
              "      <td>0.577215</td>\n",
              "      <td>0.575158</td>\n",
              "      <td>0.479415</td>\n",
              "      <td>0.415996</td>\n",
              "      <td>0.442585</td>\n",
              "      <td>0.452369</td>\n",
              "      <td>0.397839</td>\n",
              "      <td>0.290488</td>\n",
              "      <td>0.375098</td>\n",
              "      <td>...</td>\n",
              "      <td>0.138528</td>\n",
              "      <td>0.121979</td>\n",
              "      <td>0.204572</td>\n",
              "      <td>0.174916</td>\n",
              "      <td>0.096167</td>\n",
              "      <td>0.128697</td>\n",
              "      <td>0.147117</td>\n",
              "      <td>0.153399</td>\n",
              "      <td>0.091144</td>\n",
              "      <td>S</td>\n",
              "    </tr>\n",
              "  </tbody>\n",
              "</table>\n",
              "<p>5 rows × 751 columns</p>\n",
              "</div>\n",
              "      <button class=\"colab-df-convert\" onclick=\"convertToInteractive('df-23964ee2-6f5d-4092-b8fc-07ee7a0ea6cd')\"\n",
              "              title=\"Convert this dataframe to an interactive table.\"\n",
              "              style=\"display:none;\">\n",
              "        \n",
              "  <svg xmlns=\"http://www.w3.org/2000/svg\" height=\"24px\"viewBox=\"0 0 24 24\"\n",
              "       width=\"24px\">\n",
              "    <path d=\"M0 0h24v24H0V0z\" fill=\"none\"/>\n",
              "    <path d=\"M18.56 5.44l.94 2.06.94-2.06 2.06-.94-2.06-.94-.94-2.06-.94 2.06-2.06.94zm-11 1L8.5 8.5l.94-2.06 2.06-.94-2.06-.94L8.5 2.5l-.94 2.06-2.06.94zm10 10l.94 2.06.94-2.06 2.06-.94-2.06-.94-.94-2.06-.94 2.06-2.06.94z\"/><path d=\"M17.41 7.96l-1.37-1.37c-.4-.4-.92-.59-1.43-.59-.52 0-1.04.2-1.43.59L10.3 9.45l-7.72 7.72c-.78.78-.78 2.05 0 2.83L4 21.41c.39.39.9.59 1.41.59.51 0 1.02-.2 1.41-.59l7.78-7.78 2.81-2.81c.8-.78.8-2.07 0-2.86zM5.41 20L4 18.59l7.72-7.72 1.47 1.35L5.41 20z\"/>\n",
              "  </svg>\n",
              "      </button>\n",
              "      \n",
              "  <style>\n",
              "    .colab-df-container {\n",
              "      display:flex;\n",
              "      flex-wrap:wrap;\n",
              "      gap: 12px;\n",
              "    }\n",
              "\n",
              "    .colab-df-convert {\n",
              "      background-color: #E8F0FE;\n",
              "      border: none;\n",
              "      border-radius: 50%;\n",
              "      cursor: pointer;\n",
              "      display: none;\n",
              "      fill: #1967D2;\n",
              "      height: 32px;\n",
              "      padding: 0 0 0 0;\n",
              "      width: 32px;\n",
              "    }\n",
              "\n",
              "    .colab-df-convert:hover {\n",
              "      background-color: #E2EBFA;\n",
              "      box-shadow: 0px 1px 2px rgba(60, 64, 67, 0.3), 0px 1px 3px 1px rgba(60, 64, 67, 0.15);\n",
              "      fill: #174EA6;\n",
              "    }\n",
              "\n",
              "    [theme=dark] .colab-df-convert {\n",
              "      background-color: #3B4455;\n",
              "      fill: #D2E3FC;\n",
              "    }\n",
              "\n",
              "    [theme=dark] .colab-df-convert:hover {\n",
              "      background-color: #434B5C;\n",
              "      box-shadow: 0px 1px 3px 1px rgba(0, 0, 0, 0.15);\n",
              "      filter: drop-shadow(0px 1px 2px rgba(0, 0, 0, 0.3));\n",
              "      fill: #FFFFFF;\n",
              "    }\n",
              "  </style>\n",
              "\n",
              "      <script>\n",
              "        const buttonEl =\n",
              "          document.querySelector('#df-23964ee2-6f5d-4092-b8fc-07ee7a0ea6cd button.colab-df-convert');\n",
              "        buttonEl.style.display =\n",
              "          google.colab.kernel.accessAllowed ? 'block' : 'none';\n",
              "\n",
              "        async function convertToInteractive(key) {\n",
              "          const element = document.querySelector('#df-23964ee2-6f5d-4092-b8fc-07ee7a0ea6cd');\n",
              "          const dataTable =\n",
              "            await google.colab.kernel.invokeFunction('convertToInteractive',\n",
              "                                                     [key], {});\n",
              "          if (!dataTable) return;\n",
              "\n",
              "          const docLinkHtml = 'Like what you see? Visit the ' +\n",
              "            '<a target=\"_blank\" href=https://colab.research.google.com/notebooks/data_table.ipynb>data table notebook</a>'\n",
              "            + ' to learn more about interactive tables.';\n",
              "          element.innerHTML = '';\n",
              "          dataTable['output_type'] = 'display_data';\n",
              "          await google.colab.output.renderOutput(dataTable, element);\n",
              "          const docLink = document.createElement('div');\n",
              "          docLink.innerHTML = docLinkHtml;\n",
              "          element.appendChild(docLink);\n",
              "        }\n",
              "      </script>\n",
              "    </div>\n",
              "  </div>\n",
              "  "
            ]
          },
          "metadata": {},
          "execution_count": 74
        }
      ]
    },
    {
      "cell_type": "code",
      "source": [
        "from google.colab import files"
      ],
      "metadata": {
        "id": "4Qlembb00qZ8"
      },
      "execution_count": null,
      "outputs": []
    },
    {
      "cell_type": "code",
      "source": [
        "# dfV.to_csv('V_beats_3sec.csv', encoding = 'utf-8-sig')\n",
        "dfN.to_csv('N_beats_3sec.csv', encoding = 'utf-8-sig')\n",
        "# dfS.to_csv('S_beats_3sec.csv', encoding = 'utf-8-sig')"
      ],
      "metadata": {
        "id": "t__KHw2L0wT2"
      },
      "execution_count": null,
      "outputs": []
    },
    {
      "cell_type": "code",
      "source": [
        "# files.download('V_beats_3sec.csv')\n",
        "files.download('N_beats_3sec.csv')\n",
        "# files.download('S_beats_3sec.csv')"
      ],
      "metadata": {
        "colab": {
          "base_uri": "https://localhost:8080/",
          "height": 34
        },
        "id": "5KsVcakd02Nf",
        "outputId": "728cc2b9-a350-409d-be32-b74c360179d5"
      },
      "execution_count": null,
      "outputs": [
        {
          "output_type": "display_data",
          "data": {
            "text/plain": [
              "<IPython.core.display.Javascript object>"
            ],
            "application/javascript": [
              "\n",
              "    async function download(id, filename, size) {\n",
              "      if (!google.colab.kernel.accessAllowed) {\n",
              "        return;\n",
              "      }\n",
              "      const div = document.createElement('div');\n",
              "      const label = document.createElement('label');\n",
              "      label.textContent = `Downloading \"${filename}\": `;\n",
              "      div.appendChild(label);\n",
              "      const progress = document.createElement('progress');\n",
              "      progress.max = size;\n",
              "      div.appendChild(progress);\n",
              "      document.body.appendChild(div);\n",
              "\n",
              "      const buffers = [];\n",
              "      let downloaded = 0;\n",
              "\n",
              "      const channel = await google.colab.kernel.comms.open(id);\n",
              "      // Send a message to notify the kernel that we're ready.\n",
              "      channel.send({})\n",
              "\n",
              "      for await (const message of channel.messages) {\n",
              "        // Send a message to notify the kernel that we're ready.\n",
              "        channel.send({})\n",
              "        if (message.buffers) {\n",
              "          for (const buffer of message.buffers) {\n",
              "            buffers.push(buffer);\n",
              "            downloaded += buffer.byteLength;\n",
              "            progress.value = downloaded;\n",
              "          }\n",
              "        }\n",
              "      }\n",
              "      const blob = new Blob(buffers, {type: 'application/binary'});\n",
              "      const a = document.createElement('a');\n",
              "      a.href = window.URL.createObjectURL(blob);\n",
              "      a.download = filename;\n",
              "      div.appendChild(a);\n",
              "      a.click();\n",
              "      div.remove();\n",
              "    }\n",
              "  "
            ]
          },
          "metadata": {}
        },
        {
          "output_type": "display_data",
          "data": {
            "text/plain": [
              "<IPython.core.display.Javascript object>"
            ],
            "application/javascript": [
              "download(\"download_f712f516-79d0-4060-b60b-2d4b9eb814bb\", \"N_beats_3sec.csv\", 99127983)"
            ]
          },
          "metadata": {}
        }
      ]
    },
    {
      "cell_type": "code",
      "source": [],
      "metadata": {
        "id": "YlEyWUgC1Bz8"
      },
      "execution_count": null,
      "outputs": []
    }
  ]
}